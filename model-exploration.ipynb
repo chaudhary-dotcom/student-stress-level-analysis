{
 "cells": [
  {
   "cell_type": "code",
   "execution_count": 1,
   "id": "a7661925",
   "metadata": {},
   "outputs": [],
   "source": [
    "import numpy as np\n",
    "import pandas as pd\n",
    "import matplotlib.pyplot as plt\n",
    "\n",
    "from sklearn.model_selection import train_test_split\n",
    "from sklearn.preprocessing import StandardScaler\n",
    "from sklearn.pipeline import Pipeline\n",
    "from sklearn.metrics import r2_score\n",
    "import time\n",
    "import warnings\n",
    "warnings.filterwarnings('ignore')"
   ]
  },
  {
   "cell_type": "code",
   "execution_count": 2,
   "id": "b0211ba2",
   "metadata": {},
   "outputs": [],
   "source": [
    "df = pd.read_csv('StressLevelDataset.csv')"
   ]
  },
  {
   "cell_type": "code",
   "execution_count": 3,
   "id": "0ea27705",
   "metadata": {},
   "outputs": [
    {
     "data": {
      "text/html": [
       "<div>\n",
       "<style scoped>\n",
       "    .dataframe tbody tr th:only-of-type {\n",
       "        vertical-align: middle;\n",
       "    }\n",
       "\n",
       "    .dataframe tbody tr th {\n",
       "        vertical-align: top;\n",
       "    }\n",
       "\n",
       "    .dataframe thead th {\n",
       "        text-align: right;\n",
       "    }\n",
       "</style>\n",
       "<table border=\"1\" class=\"dataframe\">\n",
       "  <thead>\n",
       "    <tr style=\"text-align: right;\">\n",
       "      <th></th>\n",
       "      <th>anxiety_level</th>\n",
       "      <th>self_esteem</th>\n",
       "      <th>mental_health_history</th>\n",
       "      <th>depression</th>\n",
       "      <th>headache</th>\n",
       "      <th>blood_pressure</th>\n",
       "      <th>sleep_quality</th>\n",
       "      <th>breathing_problem</th>\n",
       "      <th>noise_level</th>\n",
       "      <th>living_conditions</th>\n",
       "      <th>...</th>\n",
       "      <th>basic_needs</th>\n",
       "      <th>academic_performance</th>\n",
       "      <th>study_load</th>\n",
       "      <th>teacher_student_relationship</th>\n",
       "      <th>future_career_concerns</th>\n",
       "      <th>social_support</th>\n",
       "      <th>peer_pressure</th>\n",
       "      <th>extracurricular_activities</th>\n",
       "      <th>bullying</th>\n",
       "      <th>stress_level</th>\n",
       "    </tr>\n",
       "  </thead>\n",
       "  <tbody>\n",
       "    <tr>\n",
       "      <th>0</th>\n",
       "      <td>14</td>\n",
       "      <td>20</td>\n",
       "      <td>0</td>\n",
       "      <td>11</td>\n",
       "      <td>2</td>\n",
       "      <td>1</td>\n",
       "      <td>2</td>\n",
       "      <td>4</td>\n",
       "      <td>2</td>\n",
       "      <td>3</td>\n",
       "      <td>...</td>\n",
       "      <td>2</td>\n",
       "      <td>3</td>\n",
       "      <td>2</td>\n",
       "      <td>3</td>\n",
       "      <td>3</td>\n",
       "      <td>2</td>\n",
       "      <td>3</td>\n",
       "      <td>3</td>\n",
       "      <td>2</td>\n",
       "      <td>1</td>\n",
       "    </tr>\n",
       "    <tr>\n",
       "      <th>1</th>\n",
       "      <td>15</td>\n",
       "      <td>8</td>\n",
       "      <td>1</td>\n",
       "      <td>15</td>\n",
       "      <td>5</td>\n",
       "      <td>3</td>\n",
       "      <td>1</td>\n",
       "      <td>4</td>\n",
       "      <td>3</td>\n",
       "      <td>1</td>\n",
       "      <td>...</td>\n",
       "      <td>2</td>\n",
       "      <td>1</td>\n",
       "      <td>4</td>\n",
       "      <td>1</td>\n",
       "      <td>5</td>\n",
       "      <td>1</td>\n",
       "      <td>4</td>\n",
       "      <td>5</td>\n",
       "      <td>5</td>\n",
       "      <td>2</td>\n",
       "    </tr>\n",
       "    <tr>\n",
       "      <th>2</th>\n",
       "      <td>12</td>\n",
       "      <td>18</td>\n",
       "      <td>1</td>\n",
       "      <td>14</td>\n",
       "      <td>2</td>\n",
       "      <td>1</td>\n",
       "      <td>2</td>\n",
       "      <td>2</td>\n",
       "      <td>2</td>\n",
       "      <td>2</td>\n",
       "      <td>...</td>\n",
       "      <td>2</td>\n",
       "      <td>2</td>\n",
       "      <td>3</td>\n",
       "      <td>3</td>\n",
       "      <td>2</td>\n",
       "      <td>2</td>\n",
       "      <td>3</td>\n",
       "      <td>2</td>\n",
       "      <td>2</td>\n",
       "      <td>1</td>\n",
       "    </tr>\n",
       "    <tr>\n",
       "      <th>3</th>\n",
       "      <td>16</td>\n",
       "      <td>12</td>\n",
       "      <td>1</td>\n",
       "      <td>15</td>\n",
       "      <td>4</td>\n",
       "      <td>3</td>\n",
       "      <td>1</td>\n",
       "      <td>3</td>\n",
       "      <td>4</td>\n",
       "      <td>2</td>\n",
       "      <td>...</td>\n",
       "      <td>2</td>\n",
       "      <td>2</td>\n",
       "      <td>4</td>\n",
       "      <td>1</td>\n",
       "      <td>4</td>\n",
       "      <td>1</td>\n",
       "      <td>4</td>\n",
       "      <td>4</td>\n",
       "      <td>5</td>\n",
       "      <td>2</td>\n",
       "    </tr>\n",
       "    <tr>\n",
       "      <th>4</th>\n",
       "      <td>16</td>\n",
       "      <td>28</td>\n",
       "      <td>0</td>\n",
       "      <td>7</td>\n",
       "      <td>2</td>\n",
       "      <td>3</td>\n",
       "      <td>5</td>\n",
       "      <td>1</td>\n",
       "      <td>3</td>\n",
       "      <td>2</td>\n",
       "      <td>...</td>\n",
       "      <td>3</td>\n",
       "      <td>4</td>\n",
       "      <td>3</td>\n",
       "      <td>1</td>\n",
       "      <td>2</td>\n",
       "      <td>1</td>\n",
       "      <td>5</td>\n",
       "      <td>0</td>\n",
       "      <td>5</td>\n",
       "      <td>1</td>\n",
       "    </tr>\n",
       "  </tbody>\n",
       "</table>\n",
       "<p>5 rows × 21 columns</p>\n",
       "</div>"
      ],
      "text/plain": [
       "   anxiety_level  self_esteem  mental_health_history  depression  headache  \\\n",
       "0             14           20                      0          11         2   \n",
       "1             15            8                      1          15         5   \n",
       "2             12           18                      1          14         2   \n",
       "3             16           12                      1          15         4   \n",
       "4             16           28                      0           7         2   \n",
       "\n",
       "   blood_pressure  sleep_quality  breathing_problem  noise_level  \\\n",
       "0               1              2                  4            2   \n",
       "1               3              1                  4            3   \n",
       "2               1              2                  2            2   \n",
       "3               3              1                  3            4   \n",
       "4               3              5                  1            3   \n",
       "\n",
       "   living_conditions  ...  basic_needs  academic_performance  study_load  \\\n",
       "0                  3  ...            2                     3           2   \n",
       "1                  1  ...            2                     1           4   \n",
       "2                  2  ...            2                     2           3   \n",
       "3                  2  ...            2                     2           4   \n",
       "4                  2  ...            3                     4           3   \n",
       "\n",
       "   teacher_student_relationship  future_career_concerns  social_support  \\\n",
       "0                             3                       3               2   \n",
       "1                             1                       5               1   \n",
       "2                             3                       2               2   \n",
       "3                             1                       4               1   \n",
       "4                             1                       2               1   \n",
       "\n",
       "   peer_pressure  extracurricular_activities  bullying  stress_level  \n",
       "0              3                           3         2             1  \n",
       "1              4                           5         5             2  \n",
       "2              3                           2         2             1  \n",
       "3              4                           4         5             2  \n",
       "4              5                           0         5             1  \n",
       "\n",
       "[5 rows x 21 columns]"
      ]
     },
     "execution_count": 3,
     "metadata": {},
     "output_type": "execute_result"
    }
   ],
   "source": [
    "df.head()"
   ]
  },
  {
   "cell_type": "code",
   "execution_count": 4,
   "id": "04325bbc",
   "metadata": {},
   "outputs": [
    {
     "data": {
      "text/plain": [
       "(1100, 21)"
      ]
     },
     "execution_count": 4,
     "metadata": {},
     "output_type": "execute_result"
    }
   ],
   "source": [
    "df.shape"
   ]
  },
  {
   "cell_type": "code",
   "execution_count": 5,
   "id": "943dd1dc",
   "metadata": {},
   "outputs": [
    {
     "data": {
      "text/plain": [
       "stress_level\n",
       "0    373\n",
       "2    369\n",
       "1    358\n",
       "Name: count, dtype: int64"
      ]
     },
     "execution_count": 5,
     "metadata": {},
     "output_type": "execute_result"
    }
   ],
   "source": [
    "df['stress_level'].value_counts()"
   ]
  },
  {
   "cell_type": "code",
   "execution_count": 6,
   "id": "0cb44013",
   "metadata": {},
   "outputs": [],
   "source": [
    "X = df.iloc[:,:20]\n",
    "y = df.iloc[:,-1]\n"
   ]
  },
  {
   "cell_type": "code",
   "execution_count": 7,
   "id": "1ca23aeb",
   "metadata": {},
   "outputs": [],
   "source": [
    "X_train,X_test,y_train,y_test = train_test_split(X,y,test_size=0.2, random_state=2)"
   ]
  },
  {
   "cell_type": "code",
   "execution_count": 8,
   "id": "cff716e9",
   "metadata": {},
   "outputs": [
    {
     "data": {
      "text/plain": [
       "(220, 20)"
      ]
     },
     "execution_count": 8,
     "metadata": {},
     "output_type": "execute_result"
    }
   ],
   "source": [
    "X_test.shape"
   ]
  },
  {
   "cell_type": "code",
   "execution_count": 9,
   "id": "751ccb2f",
   "metadata": {},
   "outputs": [
    {
     "data": {
      "text/plain": [
       "(220,)"
      ]
     },
     "execution_count": 9,
     "metadata": {},
     "output_type": "execute_result"
    }
   ],
   "source": [
    "y_test.shape"
   ]
  },
  {
   "cell_type": "code",
   "execution_count": 10,
   "id": "b8109aee",
   "metadata": {},
   "outputs": [
    {
     "data": {
      "text/plain": [
       "(1100, 20)"
      ]
     },
     "execution_count": 10,
     "metadata": {},
     "output_type": "execute_result"
    }
   ],
   "source": [
    "X.shape"
   ]
  },
  {
   "cell_type": "markdown",
   "id": "cf0b9952",
   "metadata": {},
   "source": [
    "## Standard Scaler"
   ]
  },
  {
   "cell_type": "code",
   "execution_count": 11,
   "id": "66d8ab1b",
   "metadata": {},
   "outputs": [],
   "source": [
    "# scaler\n",
    "scaler = StandardScaler()\n",
    "\n",
    "X_train_scaled = scaler.fit_transform(X_train)\n",
    "X_test_scaled = scaler.transform(X_test)"
   ]
  },
  {
   "cell_type": "markdown",
   "id": "a1bfaf2e",
   "metadata": {},
   "source": [
    "# PCA"
   ]
  },
  {
   "cell_type": "code",
   "execution_count": 49,
   "id": "488f4fdf",
   "metadata": {},
   "outputs": [
    {
     "name": "stdout",
     "output_type": "stream",
     "text": [
      "16 Number of feature that preserve 95% of the variance out of 21 columns.\n"
     ]
    },
    {
     "data": {
      "application/vnd.plotly.v1+json": {
       "config": {
        "plotlyServerURL": "https://plot.ly"
       },
       "data": [
        {
         "hovertemplate": "PC1=%{x}<br>PC2=%{y}<br>target=%{marker.color}<extra></extra>",
         "legendgroup": "",
         "marker": {
          "color": {
           "bdata": "AAEAAAACAAECAAICAQABAgEBAgIAAgACAQABAAEAAgABAAACAgIAAAACAAECAQEAAgAAAgEBAAIAAAEAAgACAgACAAICAQEBAgEAAgIBAAAAAgIAAgABAgIBAgICAgEBAAAAAQIBAQAAAgICAAACAgIBAgEAAQAAAgECAAABAgEAAgIAAgAAAQICAAIAAQABAQECAQECAAABAgABAgAAAgAAAgACAgIBAAIAAgABAQEBAQABAQEAAQAAAAACAgABAgACAQICAQEBAQICAQAAAQEAAQEBAgECAQIAAAEAAAECAAEAAgEBAAICAAIBAQIAAAICAgEAAgACAAICAgAAAgACAQIBAAACAQACAAABAgECAQIAAAIAAQICAQEBAAACAQEAAgICAgEBAQICAgABAQACAgEAAgEBAgEBAgICAQIAAAICAAICAgIAAgABAgEBAQICAgEBAAEBAQEBAQEAAAEBAgEBAQEAAgECAAIBAgEAAAICAAIAAAIAAQIBAQIAAQEBAAACAgAAAQABAQIBAAECAgACAAACAAEAAAIAAAIAAQICAAEAAQACAAABAAEAAQEBAgAAAQEAAAACAgIBAgAAAgEAAQEAAQEAAgIAAQIBAgABAgABAgEBAAAAAgEAAAIBAQECAgABAgIAAgECAQICAQECAQIBAQACAQECAAABAAEAAgIAAgACAgECAQECAAICAAICAAEAAAICAQEAAQAAAgIBAgAAAgIBAAICAAAAAgAAAAIAAgABAAIAAgEBAQAAAAIAAQEBAAIAAAACAgIBAgECAAIAAgECAgECAQEAAQIAAgAAAQEBAgABAQECAQACAgABAgEBAAABAAEBAQEAAAAAAQEAAQAAAQABAAICAAECAAEAAgACAAEAAgAAAAAAAgABAgEAAQICAAIBAQECAgECAQEBAAICAgICAgEBAgICAAIBAAEAAgICAQIBAAEBAAABAQEAAgEAAAABAgEBAAEBAgECAAABAQEBAgICAgABAgECAQECAAACAAECAQECAgECAQAAAAACAAIAAQEAAAICAQIBAgAAAAAAAQICAgACAAICAAIBAQICAQICAgEAAAEAAAIAAgABAQIAAAAAAgIAAgIBAAIAAQEBAQAAAQAAAAIBAgECAAEBAQABAgEBAAECAQIAAAEAAgEBAg==",
           "dtype": "i1"
          },
          "coloraxis": "coloraxis",
          "opacity": 0.7,
          "size": 5,
          "symbol": "circle"
         },
         "mode": "markers",
         "name": "",
         "scene": "scene",
         "showlegend": false,
         "type": "scatter3d",
         "x": {
          "bdata": "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",
          "dtype": "f8"
         },
         "y": {
          "bdata": "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",
          "dtype": "f8"
         },
         "z": {
          "bdata": "AAEAAAACAAECAAICAQABAgEBAgIAAgACAQABAAEAAgABAAACAgIAAAACAAECAQEAAgAAAgEBAAIAAAEAAgACAgACAAICAQEBAgEAAgIBAAAAAgIAAgABAgIBAgICAgEBAAAAAQIBAQAAAgICAAACAgIBAgEAAQAAAgECAAABAgEAAgIAAgAAAQICAAIAAQABAQECAQECAAABAgABAgAAAgAAAgACAgIBAAIAAgABAQEBAQABAQEAAQAAAAACAgABAgACAQICAQEBAQICAQAAAQEAAQEBAgECAQIAAAEAAAECAAEAAgEBAAICAAIBAQIAAAICAgEAAgACAAICAgAAAgACAQIBAAACAQACAAABAgECAQIAAAIAAQICAQEBAAACAQEAAgICAgEBAQICAgABAQACAgEAAgEBAgEBAgICAQIAAAICAAICAgIAAgABAgEBAQICAgEBAAEBAQEBAQEAAAEBAgEBAQEAAgECAAIBAgEAAAICAAIAAAIAAQIBAQIAAQEBAAACAgAAAQABAQIBAAECAgACAAACAAEAAAIAAAIAAQICAAEAAQACAAABAAEAAQEBAgAAAQEAAAACAgIBAgAAAgEAAQEAAQEAAgIAAQIBAgABAgABAgEBAAAAAgEAAAIBAQECAgABAgIAAgECAQICAQECAQIBAQACAQECAAABAAEAAgIAAgACAgECAQECAAICAAICAAEAAAICAQEAAQAAAgIBAgAAAgIBAAICAAAAAgAAAAIAAgABAAIAAgEBAQAAAAIAAQEBAAIAAAACAgIBAgECAAIAAgECAgECAQEAAQIAAgAAAQEBAgABAQECAQACAgABAgEBAAABAAEBAQEAAAAAAQEAAQAAAQABAAICAAECAAEAAgACAAEAAgAAAAAAAgABAgEAAQICAAIBAQECAgECAQEBAAICAgICAgEBAgICAAIBAAEAAgICAQIBAAEBAAABAQEAAgEAAAABAgEBAAEBAgECAAABAQEBAgICAgABAgECAQECAAACAAECAQECAgECAQAAAAACAAIAAQEAAAICAQIBAgAAAAAAAQICAgACAAICAAIBAQICAQICAgEAAAEAAAIAAgABAQIAAAAAAgIAAgIBAAIAAQEBAQAAAQAAAAIBAgECAAEBAQABAgEBAAECAQIAAAEAAgEBAg==",
          "dtype": "i1"
         }
        }
       ],
       "layout": {
        "coloraxis": {
         "colorbar": {
          "title": {
           "text": "target"
          }
         },
         "colorscale": [
          [
           0,
           "#0d0887"
          ],
          [
           0.1111111111111111,
           "#46039f"
          ],
          [
           0.2222222222222222,
           "#7201a8"
          ],
          [
           0.3333333333333333,
           "#9c179e"
          ],
          [
           0.4444444444444444,
           "#bd3786"
          ],
          [
           0.5555555555555556,
           "#d8576b"
          ],
          [
           0.6666666666666666,
           "#ed7953"
          ],
          [
           0.7777777777777778,
           "#fb9f3a"
          ],
          [
           0.8888888888888888,
           "#fdca26"
          ],
          [
           1,
           "#f0f921"
          ]
         ]
        },
        "legend": {
         "tracegroupgap": 0
        },
        "margin": {
         "t": 60
        },
        "scene": {
         "domain": {
          "x": [
           0,
           1
          ],
          "y": [
           0,
           1
          ]
         },
         "xaxis": {
          "title": {
           "text": "PC1"
          }
         },
         "yaxis": {
          "title": {
           "text": "PC2"
          }
         },
         "zaxis": {
          "title": {
           "text": "target"
          }
         }
        },
        "template": {
         "data": {
          "bar": [
           {
            "error_x": {
             "color": "#2a3f5f"
            },
            "error_y": {
             "color": "#2a3f5f"
            },
            "marker": {
             "line": {
              "color": "#E5ECF6",
              "width": 0.5
             },
             "pattern": {
              "fillmode": "overlay",
              "size": 10,
              "solidity": 0.2
             }
            },
            "type": "bar"
           }
          ],
          "barpolar": [
           {
            "marker": {
             "line": {
              "color": "#E5ECF6",
              "width": 0.5
             },
             "pattern": {
              "fillmode": "overlay",
              "size": 10,
              "solidity": 0.2
             }
            },
            "type": "barpolar"
           }
          ],
          "carpet": [
           {
            "aaxis": {
             "endlinecolor": "#2a3f5f",
             "gridcolor": "white",
             "linecolor": "white",
             "minorgridcolor": "white",
             "startlinecolor": "#2a3f5f"
            },
            "baxis": {
             "endlinecolor": "#2a3f5f",
             "gridcolor": "white",
             "linecolor": "white",
             "minorgridcolor": "white",
             "startlinecolor": "#2a3f5f"
            },
            "type": "carpet"
           }
          ],
          "choropleth": [
           {
            "colorbar": {
             "outlinewidth": 0,
             "ticks": ""
            },
            "type": "choropleth"
           }
          ],
          "contour": [
           {
            "colorbar": {
             "outlinewidth": 0,
             "ticks": ""
            },
            "colorscale": [
             [
              0,
              "#0d0887"
             ],
             [
              0.1111111111111111,
              "#46039f"
             ],
             [
              0.2222222222222222,
              "#7201a8"
             ],
             [
              0.3333333333333333,
              "#9c179e"
             ],
             [
              0.4444444444444444,
              "#bd3786"
             ],
             [
              0.5555555555555556,
              "#d8576b"
             ],
             [
              0.6666666666666666,
              "#ed7953"
             ],
             [
              0.7777777777777778,
              "#fb9f3a"
             ],
             [
              0.8888888888888888,
              "#fdca26"
             ],
             [
              1,
              "#f0f921"
             ]
            ],
            "type": "contour"
           }
          ],
          "contourcarpet": [
           {
            "colorbar": {
             "outlinewidth": 0,
             "ticks": ""
            },
            "type": "contourcarpet"
           }
          ],
          "heatmap": [
           {
            "colorbar": {
             "outlinewidth": 0,
             "ticks": ""
            },
            "colorscale": [
             [
              0,
              "#0d0887"
             ],
             [
              0.1111111111111111,
              "#46039f"
             ],
             [
              0.2222222222222222,
              "#7201a8"
             ],
             [
              0.3333333333333333,
              "#9c179e"
             ],
             [
              0.4444444444444444,
              "#bd3786"
             ],
             [
              0.5555555555555556,
              "#d8576b"
             ],
             [
              0.6666666666666666,
              "#ed7953"
             ],
             [
              0.7777777777777778,
              "#fb9f3a"
             ],
             [
              0.8888888888888888,
              "#fdca26"
             ],
             [
              1,
              "#f0f921"
             ]
            ],
            "type": "heatmap"
           }
          ],
          "histogram": [
           {
            "marker": {
             "pattern": {
              "fillmode": "overlay",
              "size": 10,
              "solidity": 0.2
             }
            },
            "type": "histogram"
           }
          ],
          "histogram2d": [
           {
            "colorbar": {
             "outlinewidth": 0,
             "ticks": ""
            },
            "colorscale": [
             [
              0,
              "#0d0887"
             ],
             [
              0.1111111111111111,
              "#46039f"
             ],
             [
              0.2222222222222222,
              "#7201a8"
             ],
             [
              0.3333333333333333,
              "#9c179e"
             ],
             [
              0.4444444444444444,
              "#bd3786"
             ],
             [
              0.5555555555555556,
              "#d8576b"
             ],
             [
              0.6666666666666666,
              "#ed7953"
             ],
             [
              0.7777777777777778,
              "#fb9f3a"
             ],
             [
              0.8888888888888888,
              "#fdca26"
             ],
             [
              1,
              "#f0f921"
             ]
            ],
            "type": "histogram2d"
           }
          ],
          "histogram2dcontour": [
           {
            "colorbar": {
             "outlinewidth": 0,
             "ticks": ""
            },
            "colorscale": [
             [
              0,
              "#0d0887"
             ],
             [
              0.1111111111111111,
              "#46039f"
             ],
             [
              0.2222222222222222,
              "#7201a8"
             ],
             [
              0.3333333333333333,
              "#9c179e"
             ],
             [
              0.4444444444444444,
              "#bd3786"
             ],
             [
              0.5555555555555556,
              "#d8576b"
             ],
             [
              0.6666666666666666,
              "#ed7953"
             ],
             [
              0.7777777777777778,
              "#fb9f3a"
             ],
             [
              0.8888888888888888,
              "#fdca26"
             ],
             [
              1,
              "#f0f921"
             ]
            ],
            "type": "histogram2dcontour"
           }
          ],
          "mesh3d": [
           {
            "colorbar": {
             "outlinewidth": 0,
             "ticks": ""
            },
            "type": "mesh3d"
           }
          ],
          "parcoords": [
           {
            "line": {
             "colorbar": {
              "outlinewidth": 0,
              "ticks": ""
             }
            },
            "type": "parcoords"
           }
          ],
          "pie": [
           {
            "automargin": true,
            "type": "pie"
           }
          ],
          "scatter": [
           {
            "fillpattern": {
             "fillmode": "overlay",
             "size": 10,
             "solidity": 0.2
            },
            "type": "scatter"
           }
          ],
          "scatter3d": [
           {
            "line": {
             "colorbar": {
              "outlinewidth": 0,
              "ticks": ""
             }
            },
            "marker": {
             "colorbar": {
              "outlinewidth": 0,
              "ticks": ""
             }
            },
            "type": "scatter3d"
           }
          ],
          "scattercarpet": [
           {
            "marker": {
             "colorbar": {
              "outlinewidth": 0,
              "ticks": ""
             }
            },
            "type": "scattercarpet"
           }
          ],
          "scattergeo": [
           {
            "marker": {
             "colorbar": {
              "outlinewidth": 0,
              "ticks": ""
             }
            },
            "type": "scattergeo"
           }
          ],
          "scattergl": [
           {
            "marker": {
             "colorbar": {
              "outlinewidth": 0,
              "ticks": ""
             }
            },
            "type": "scattergl"
           }
          ],
          "scattermap": [
           {
            "marker": {
             "colorbar": {
              "outlinewidth": 0,
              "ticks": ""
             }
            },
            "type": "scattermap"
           }
          ],
          "scattermapbox": [
           {
            "marker": {
             "colorbar": {
              "outlinewidth": 0,
              "ticks": ""
             }
            },
            "type": "scattermapbox"
           }
          ],
          "scatterpolar": [
           {
            "marker": {
             "colorbar": {
              "outlinewidth": 0,
              "ticks": ""
             }
            },
            "type": "scatterpolar"
           }
          ],
          "scatterpolargl": [
           {
            "marker": {
             "colorbar": {
              "outlinewidth": 0,
              "ticks": ""
             }
            },
            "type": "scatterpolargl"
           }
          ],
          "scatterternary": [
           {
            "marker": {
             "colorbar": {
              "outlinewidth": 0,
              "ticks": ""
             }
            },
            "type": "scatterternary"
           }
          ],
          "surface": [
           {
            "colorbar": {
             "outlinewidth": 0,
             "ticks": ""
            },
            "colorscale": [
             [
              0,
              "#0d0887"
             ],
             [
              0.1111111111111111,
              "#46039f"
             ],
             [
              0.2222222222222222,
              "#7201a8"
             ],
             [
              0.3333333333333333,
              "#9c179e"
             ],
             [
              0.4444444444444444,
              "#bd3786"
             ],
             [
              0.5555555555555556,
              "#d8576b"
             ],
             [
              0.6666666666666666,
              "#ed7953"
             ],
             [
              0.7777777777777778,
              "#fb9f3a"
             ],
             [
              0.8888888888888888,
              "#fdca26"
             ],
             [
              1,
              "#f0f921"
             ]
            ],
            "type": "surface"
           }
          ],
          "table": [
           {
            "cells": {
             "fill": {
              "color": "#EBF0F8"
             },
             "line": {
              "color": "white"
             }
            },
            "header": {
             "fill": {
              "color": "#C8D4E3"
             },
             "line": {
              "color": "white"
             }
            },
            "type": "table"
           }
          ]
         },
         "layout": {
          "annotationdefaults": {
           "arrowcolor": "#2a3f5f",
           "arrowhead": 0,
           "arrowwidth": 1
          },
          "autotypenumbers": "strict",
          "coloraxis": {
           "colorbar": {
            "outlinewidth": 0,
            "ticks": ""
           }
          },
          "colorscale": {
           "diverging": [
            [
             0,
             "#8e0152"
            ],
            [
             0.1,
             "#c51b7d"
            ],
            [
             0.2,
             "#de77ae"
            ],
            [
             0.3,
             "#f1b6da"
            ],
            [
             0.4,
             "#fde0ef"
            ],
            [
             0.5,
             "#f7f7f7"
            ],
            [
             0.6,
             "#e6f5d0"
            ],
            [
             0.7,
             "#b8e186"
            ],
            [
             0.8,
             "#7fbc41"
            ],
            [
             0.9,
             "#4d9221"
            ],
            [
             1,
             "#276419"
            ]
           ],
           "sequential": [
            [
             0,
             "#0d0887"
            ],
            [
             0.1111111111111111,
             "#46039f"
            ],
            [
             0.2222222222222222,
             "#7201a8"
            ],
            [
             0.3333333333333333,
             "#9c179e"
            ],
            [
             0.4444444444444444,
             "#bd3786"
            ],
            [
             0.5555555555555556,
             "#d8576b"
            ],
            [
             0.6666666666666666,
             "#ed7953"
            ],
            [
             0.7777777777777778,
             "#fb9f3a"
            ],
            [
             0.8888888888888888,
             "#fdca26"
            ],
            [
             1,
             "#f0f921"
            ]
           ],
           "sequentialminus": [
            [
             0,
             "#0d0887"
            ],
            [
             0.1111111111111111,
             "#46039f"
            ],
            [
             0.2222222222222222,
             "#7201a8"
            ],
            [
             0.3333333333333333,
             "#9c179e"
            ],
            [
             0.4444444444444444,
             "#bd3786"
            ],
            [
             0.5555555555555556,
             "#d8576b"
            ],
            [
             0.6666666666666666,
             "#ed7953"
            ],
            [
             0.7777777777777778,
             "#fb9f3a"
            ],
            [
             0.8888888888888888,
             "#fdca26"
            ],
            [
             1,
             "#f0f921"
            ]
           ]
          },
          "colorway": [
           "#636efa",
           "#EF553B",
           "#00cc96",
           "#ab63fa",
           "#FFA15A",
           "#19d3f3",
           "#FF6692",
           "#B6E880",
           "#FF97FF",
           "#FECB52"
          ],
          "font": {
           "color": "#2a3f5f"
          },
          "geo": {
           "bgcolor": "white",
           "lakecolor": "white",
           "landcolor": "#E5ECF6",
           "showlakes": true,
           "showland": true,
           "subunitcolor": "white"
          },
          "hoverlabel": {
           "align": "left"
          },
          "hovermode": "closest",
          "mapbox": {
           "style": "light"
          },
          "paper_bgcolor": "white",
          "plot_bgcolor": "#E5ECF6",
          "polar": {
           "angularaxis": {
            "gridcolor": "white",
            "linecolor": "white",
            "ticks": ""
           },
           "bgcolor": "#E5ECF6",
           "radialaxis": {
            "gridcolor": "white",
            "linecolor": "white",
            "ticks": ""
           }
          },
          "scene": {
           "xaxis": {
            "backgroundcolor": "#E5ECF6",
            "gridcolor": "white",
            "gridwidth": 2,
            "linecolor": "white",
            "showbackground": true,
            "ticks": "",
            "zerolinecolor": "white"
           },
           "yaxis": {
            "backgroundcolor": "#E5ECF6",
            "gridcolor": "white",
            "gridwidth": 2,
            "linecolor": "white",
            "showbackground": true,
            "ticks": "",
            "zerolinecolor": "white"
           },
           "zaxis": {
            "backgroundcolor": "#E5ECF6",
            "gridcolor": "white",
            "gridwidth": 2,
            "linecolor": "white",
            "showbackground": true,
            "ticks": "",
            "zerolinecolor": "white"
           }
          },
          "shapedefaults": {
           "line": {
            "color": "#2a3f5f"
           }
          },
          "ternary": {
           "aaxis": {
            "gridcolor": "white",
            "linecolor": "white",
            "ticks": ""
           },
           "baxis": {
            "gridcolor": "white",
            "linecolor": "white",
            "ticks": ""
           },
           "bgcolor": "#E5ECF6",
           "caxis": {
            "gridcolor": "white",
            "linecolor": "white",
            "ticks": ""
           }
          },
          "title": {
           "x": 0.05
          },
          "xaxis": {
           "automargin": true,
           "gridcolor": "white",
           "linecolor": "white",
           "ticks": "",
           "title": {
            "standoff": 15
           },
           "zerolinecolor": "white",
           "zerolinewidth": 2
          },
          "yaxis": {
           "automargin": true,
           "gridcolor": "white",
           "linecolor": "white",
           "ticks": "",
           "title": {
            "standoff": 15
           },
           "zerolinecolor": "white",
           "zerolinewidth": 2
          }
         }
        }
       }
      }
     },
     "metadata": {},
     "output_type": "display_data"
    },
    {
     "name": "stdout",
     "output_type": "stream",
     "text": [
      "R2 score of 95% reserve variance feature:  0.7790041343158587\n",
      "R2 score of 3 feature out of 21:  0.6834921865569367\n"
     ]
    },
    {
     "data": {
      "text/plain": [
       "<Figure size 640x480 with 0 Axes>"
      ]
     },
     "metadata": {},
     "output_type": "display_data"
    }
   ],
   "source": [
    "from sklearn.decomposition import PCA\n",
    "from sklearn.linear_model import LinearRegression\n",
    "from sklearn.metrics import r2_score\n",
    "\n",
    "pca = PCA(n_components=0.95)   # preserve  95% of the variance in feture\n",
    "X_train_pca = pca.fit_transform(X_train_scaled)\n",
    "X_test_pca = pca.transform(X_test_scaled)\n",
    "print(f'{pca.n_components_} Number of feature that preserve 95% of the variance out of {df.shape[1]} columns.')\n",
    "\n",
    "\n",
    "# select only 3 columns out of 21 columns\n",
    "pca_1 = PCA(n_components=2)\n",
    "X_train_1 = pca_1.fit_transform(X_train)\n",
    "X_test_1 = pca_1.transform(X_test)\n",
    "\n",
    "# make dataframe\n",
    "pca_columns = [f'PC{i+1}' for i in range(X_train_1.shape[1])]\n",
    "\n",
    "df_train_pca = pd.DataFrame(X_train_1, columns=pca_columns, index=X_train.index)\n",
    "df_test_pca = pd.DataFrame(X_test_1, columns=pca_columns, index=X_test.index)\n",
    "df_train_pca.head()\n",
    "\n",
    "df_train_pca['target'] = y_train.values\n",
    "df_test_pca['target'] = y_test.values\n",
    "\n",
    "# visualization\n",
    "import plotly.express as px\n",
    "\n",
    "fig = px.scatter_3d(\n",
    "    df_train_pca, \n",
    "    x='PC1',\n",
    "    y = 'PC2',\n",
    "    z = 'target',\n",
    "    color='target',\n",
    "    \n",
    "    opacity=0.7\n",
    ")\n",
    "\n",
    "fig.update_traces(marker=dict(size=5))\n",
    "plt.tight_layout()\n",
    "fig.show()\n",
    "\n",
    "lr = LinearRegression()\n",
    "# checking the r2 score of occupy 95% of the variance feature \n",
    "lr.fit(X_train_pca, y_train)\n",
    "y_pred_pca_1 = lr.predict(X_test_pca)\n",
    "\n",
    "print(f'R2 score of 95% reserve variance feature: ', r2_score(y_test, y_pred_pca_1))\n",
    "\n",
    "# checking the r2 score of 3 features only\n",
    "lr.fit(X_train_1, y_train)\n",
    "\n",
    "y_pred_pca = lr.predict(X_test_1)\n",
    "\n",
    "print('R2 score of 3 feature out of 21: ', r2_score(y_test,y_pred_pca))\n",
    "\n"
   ]
  },
  {
   "cell_type": "code",
   "execution_count": 31,
   "id": "b5e21298",
   "metadata": {},
   "outputs": [
    {
     "data": {
      "text/plain": [
       "stress_level\n",
       "0    373\n",
       "2    369\n",
       "1    358\n",
       "Name: count, dtype: int64"
      ]
     },
     "execution_count": 31,
     "metadata": {},
     "output_type": "execute_result"
    }
   ],
   "source": [
    "df['stress_level'].value_counts()"
   ]
  },
  {
   "cell_type": "markdown",
   "id": "576e2600",
   "metadata": {},
   "source": [
    "# 1. Linar Regression"
   ]
  },
  {
   "cell_type": "code",
   "execution_count": 318,
   "id": "78c1c4c0",
   "metadata": {},
   "outputs": [
    {
     "name": "stdout",
     "output_type": "stream",
     "text": [
      "====================================================================================================\n",
      "Coefficient:  [ 0.21000335 -0.03950435  0.04024978 -0.01929834  0.03723748  0.01464942\n",
      " -0.01238406 -0.070902   -0.01787236 -0.08801033 -0.03137921 -0.04537773\n",
      "  0.02371959  0.06752427 -0.03509646 -0.03759818]\n",
      "Intercept:  1.0045454545454546\n",
      "====================================================================================================\n"
     ]
    },
    {
     "data": {
      "text/html": [
       "<div>\n",
       "<style scoped>\n",
       "    .dataframe tbody tr th:only-of-type {\n",
       "        vertical-align: middle;\n",
       "    }\n",
       "\n",
       "    .dataframe tbody tr th {\n",
       "        vertical-align: top;\n",
       "    }\n",
       "\n",
       "    .dataframe thead th {\n",
       "        text-align: right;\n",
       "    }\n",
       "</style>\n",
       "<table border=\"1\" class=\"dataframe\">\n",
       "  <thead>\n",
       "    <tr style=\"text-align: right;\">\n",
       "      <th></th>\n",
       "      <th>0</th>\n",
       "      <th>1</th>\n",
       "      <th>2</th>\n",
       "      <th>3</th>\n",
       "    </tr>\n",
       "  </thead>\n",
       "  <tbody>\n",
       "    <tr>\n",
       "      <th>Model</th>\n",
       "      <td>Linear Regression (raw)</td>\n",
       "      <td>Linear Regression (scaled)</td>\n",
       "      <td>Train Data (not scaled)</td>\n",
       "      <td>Linear Regression (PCA)</td>\n",
       "    </tr>\n",
       "    <tr>\n",
       "      <th>R2 score</th>\n",
       "      <td>0.761989</td>\n",
       "      <td>0.761989</td>\n",
       "      <td>0.799728</td>\n",
       "      <td>0.779004</td>\n",
       "    </tr>\n",
       "  </tbody>\n",
       "</table>\n",
       "</div>"
      ],
      "text/plain": [
       "                                0                           1  \\\n",
       "Model     Linear Regression (raw)  Linear Regression (scaled)   \n",
       "R2 score                 0.761989                    0.761989   \n",
       "\n",
       "                                2                        3  \n",
       "Model     Train Data (not scaled)  Linear Regression (PCA)  \n",
       "R2 score                 0.799728                 0.779004  "
      ]
     },
     "execution_count": 318,
     "metadata": {},
     "output_type": "execute_result"
    }
   ],
   "source": [
    "from sklearn.linear_model import LinearRegression\n",
    "\n",
    "lr = LinearRegression()\n",
    "\n",
    "lr.fit(X_train,y_train)\n",
    "\n",
    "# not scaled\n",
    "y_pred = lr.predict(X_test)\n",
    "r2_raw = r2_score(y_test, y_pred)\n",
    "# print('R2 score raw: ', r2_raw)\n",
    "\n",
    "# scaled\n",
    "lr.fit(X_train_scaled,y_train)\n",
    "y_pred_scaled = lr.predict(X_test_scaled)\n",
    "r2_scaled = r2_score(y_test, y_pred_scaled)\n",
    "# print('R2 score scaled: ',r2_scaled)\n",
    "\n",
    "# Train score\n",
    "lr.fit(X_train, y_train)\n",
    "y_pred = lr.predict(X_train)\n",
    "r2_train = r2_score(y_train, y_pred)\n",
    "# print('R2 train: ', r2_train)\n",
    "\n",
    "lr.fit(X_train_pca, y_train)\n",
    "y_pred_pca = lr.predict(X_test_pca)\n",
    "r2_pca = r2_score(y_test, y_pred_pca)\n",
    "# print('R2 score PCA: ', r2_pca)\n",
    "\n",
    "results = pd.DataFrame({\n",
    "    'Model': ['Linear Regression (raw)',\n",
    "              'Linear Regression (scaled)',\n",
    "              'Train Data (not scaled)',\n",
    "              'Linear Regression (PCA)'],\n",
    "    'R2 score': [r2_raw, r2_scaled, r2_train, r2_pca]\n",
    "\n",
    "})\n",
    "print('='*100)\n",
    "\n",
    "\n",
    "print('Coefficient: ',lr.coef_)\n",
    "print('Intercept: ',lr.intercept_)\n",
    "print('='*100)\n",
    "results.T\n"
   ]
  },
  {
   "cell_type": "markdown",
   "id": "e97b16c9",
   "metadata": {},
   "source": [
    "# 2. Gradient Decent\n",
    "### I. Batch Gradient Decent"
   ]
  },
  {
   "cell_type": "code",
   "execution_count": 319,
   "id": "69b7e39f",
   "metadata": {},
   "outputs": [],
   "source": [
    "class BGDRegressor:\n",
    "    def __init__(self, learning_rate = 0.01, epochs=100):\n",
    "\n",
    "        self.coef_ = None\n",
    "        self.intercept_ = None\n",
    "        self.epochs = epochs\n",
    "        self.lr = learning_rate\n",
    "    \n",
    "    def fit(self, X_train, y_train):\n",
    "        # init your coef \n",
    "        self.intercept_ = 0\n",
    "        self.coef_ = np.ones(X_train.shape[1])\n",
    "\n",
    "        for i in range(self.epochs):\n",
    "            #update all the coefficient and intercept\n",
    "            y_hat = np.dot(X_train, self.coef_) + self.intercept_\n",
    "\n",
    "            intercept_der = -2 * np.mean(y_train - y_hat)\n",
    "            self.intercept_ = self.intercept_ - (self.lr * intercept_der)\n",
    "\n",
    "            coef_der = -2 * np.dot((y_train - y_hat), X_train)/X_train.shape[0]\n",
    "            self.coef_ = self.coef_ - (self.lr*coef_der)\n",
    "\n",
    "        print(self.intercept_, self.coef_)\n",
    "\n",
    "    def predict(self, X_test):\n",
    "        return np.dot(X_test, self.coef_) + self.intercept_"
   ]
  },
  {
   "cell_type": "code",
   "execution_count": 320,
   "id": "04936175",
   "metadata": {},
   "outputs": [
    {
     "name": "stdout",
     "output_type": "stream",
     "text": [
      "-0.2823199430712375 [ 0.00473381 -0.00453389  0.42442978  0.01105934  0.07130695  0.12501489\n",
      " -0.01334037  0.02276425  0.06880971  0.02329928 -0.08515757 -0.03177629\n",
      " -0.04517854  0.03328774  0.02271181 -0.00091009  0.11910931  0.02173597\n",
      "  0.05230423  0.03842911]\n",
      "R2 score of bgd 0.738303170954103\n"
     ]
    }
   ],
   "source": [
    "bgd = BGDRegressor(learning_rate=0.001, epochs=3000)\n",
    "bgd.fit(X_train, y_train)\n",
    "y_pred_bgd = bgd.predict(X_test)\n",
    "r2_bgd = r2_score(y_test, y_pred_bgd)\n",
    "print('R2 score of bgd', r2_bgd)"
   ]
  },
  {
   "cell_type": "markdown",
   "id": "32286b26",
   "metadata": {},
   "source": [
    "### II. Sochastic Gradient Decent"
   ]
  },
  {
   "cell_type": "code",
   "execution_count": 321,
   "id": "3370b3db",
   "metadata": {},
   "outputs": [],
   "source": [
    "class SGDRegressor:\n",
    "    def __init__(self, learning_rate=0.01, epochs=100):\n",
    "        self.coef_ = None\n",
    "        self.intercept_ = None\n",
    "        self.lr = learning_rate\n",
    "        self.epochs = epochs\n",
    "    \n",
    "    def fit(self,X_train,y_train):\n",
    "        X_train = np.array(X_train)\n",
    "        y_train = np.array(y_train)\n",
    "\n",
    "        self.intercept_ = 0\n",
    "        self.coef_ = np.ones(X_train.shape[1])\n",
    "        \n",
    "       \n",
    "\n",
    "        for i in range(self.epochs):\n",
    "            for j in range(X_train.shape[0]):\n",
    "                idX = np.random.randint(0, X_train.shape[0])\n",
    "\n",
    "                y_hat = np.dot(X_train[idX], self.coef_)+self.intercept_\n",
    "                errors = y_train[idX] - y_hat\n",
    "                coef_der = -2 * errors*X_train[idX]\n",
    "                intercept_der = -2 * errors\n",
    "\n",
    "                self.coef_ -= self.lr*coef_der\n",
    "                self.intercept_ -= self.lr*intercept_der\n",
    "        print(self.coef_, self.intercept_)\n",
    "        return self\n",
    "    \n",
    "    def predict(self, X_test):\n",
    "        X_test = np.array(X_test)\n",
    "        return np.dot(X_test, self.coef_) + self.intercept_"
   ]
  },
  {
   "cell_type": "code",
   "execution_count": 322,
   "id": "e4f60ef9",
   "metadata": {},
   "outputs": [
    {
     "name": "stdout",
     "output_type": "stream",
     "text": [
      "[ 0.01313643 -0.00378826  0.09618018  0.01039053  0.08622861  0.01824201\n",
      " -0.01412192  0.02519062  0.05456451  0.0163405  -0.06079487 -0.03160753\n",
      " -0.04609926  0.04769482  0.054197    0.02255899  0.02642089  0.04900652\n",
      "  0.07870405  0.04072048] -0.2200591997638437\n",
      "Time taken is  0.8308029174804688\n",
      "R2 score:  0.7420989474193502\n"
     ]
    }
   ],
   "source": [
    "start = time.time()\n",
    "sgdr = SGDRegressor(learning_rate=0.0001, epochs=100)\n",
    "sgdr.fit(X_train, y_train)\n",
    "\n",
    "y_pred_sgdr = sgdr.predict(X_test)\n",
    "\n",
    "print('Time taken is ', time.time() - start)\n",
    "print('R2 score: ', r2_score(y_test, y_pred_sgdr))"
   ]
  },
  {
   "cell_type": "markdown",
   "id": "9e66e76b",
   "metadata": {},
   "source": [
    "### SGDRegression using OLS method also Hyperparameter tune"
   ]
  },
  {
   "cell_type": "code",
   "execution_count": 343,
   "id": "dc99bf0c",
   "metadata": {},
   "outputs": [
    {
     "data": {
      "text/html": [
       "<style>#sk-container-id-6 {\n",
       "  /* Definition of color scheme common for light and dark mode */\n",
       "  --sklearn-color-text: #000;\n",
       "  --sklearn-color-text-muted: #666;\n",
       "  --sklearn-color-line: gray;\n",
       "  /* Definition of color scheme for unfitted estimators */\n",
       "  --sklearn-color-unfitted-level-0: #fff5e6;\n",
       "  --sklearn-color-unfitted-level-1: #f6e4d2;\n",
       "  --sklearn-color-unfitted-level-2: #ffe0b3;\n",
       "  --sklearn-color-unfitted-level-3: chocolate;\n",
       "  /* Definition of color scheme for fitted estimators */\n",
       "  --sklearn-color-fitted-level-0: #f0f8ff;\n",
       "  --sklearn-color-fitted-level-1: #d4ebff;\n",
       "  --sklearn-color-fitted-level-2: #b3dbfd;\n",
       "  --sklearn-color-fitted-level-3: cornflowerblue;\n",
       "\n",
       "  /* Specific color for light theme */\n",
       "  --sklearn-color-text-on-default-background: var(--sg-text-color, var(--theme-code-foreground, var(--jp-content-font-color1, black)));\n",
       "  --sklearn-color-background: var(--sg-background-color, var(--theme-background, var(--jp-layout-color0, white)));\n",
       "  --sklearn-color-border-box: var(--sg-text-color, var(--theme-code-foreground, var(--jp-content-font-color1, black)));\n",
       "  --sklearn-color-icon: #696969;\n",
       "\n",
       "  @media (prefers-color-scheme: dark) {\n",
       "    /* Redefinition of color scheme for dark theme */\n",
       "    --sklearn-color-text-on-default-background: var(--sg-text-color, var(--theme-code-foreground, var(--jp-content-font-color1, white)));\n",
       "    --sklearn-color-background: var(--sg-background-color, var(--theme-background, var(--jp-layout-color0, #111)));\n",
       "    --sklearn-color-border-box: var(--sg-text-color, var(--theme-code-foreground, var(--jp-content-font-color1, white)));\n",
       "    --sklearn-color-icon: #878787;\n",
       "  }\n",
       "}\n",
       "\n",
       "#sk-container-id-6 {\n",
       "  color: var(--sklearn-color-text);\n",
       "}\n",
       "\n",
       "#sk-container-id-6 pre {\n",
       "  padding: 0;\n",
       "}\n",
       "\n",
       "#sk-container-id-6 input.sk-hidden--visually {\n",
       "  border: 0;\n",
       "  clip: rect(1px 1px 1px 1px);\n",
       "  clip: rect(1px, 1px, 1px, 1px);\n",
       "  height: 1px;\n",
       "  margin: -1px;\n",
       "  overflow: hidden;\n",
       "  padding: 0;\n",
       "  position: absolute;\n",
       "  width: 1px;\n",
       "}\n",
       "\n",
       "#sk-container-id-6 div.sk-dashed-wrapped {\n",
       "  border: 1px dashed var(--sklearn-color-line);\n",
       "  margin: 0 0.4em 0.5em 0.4em;\n",
       "  box-sizing: border-box;\n",
       "  padding-bottom: 0.4em;\n",
       "  background-color: var(--sklearn-color-background);\n",
       "}\n",
       "\n",
       "#sk-container-id-6 div.sk-container {\n",
       "  /* jupyter's `normalize.less` sets `[hidden] { display: none; }`\n",
       "     but bootstrap.min.css set `[hidden] { display: none !important; }`\n",
       "     so we also need the `!important` here to be able to override the\n",
       "     default hidden behavior on the sphinx rendered scikit-learn.org.\n",
       "     See: https://github.com/scikit-learn/scikit-learn/issues/21755 */\n",
       "  display: inline-block !important;\n",
       "  position: relative;\n",
       "}\n",
       "\n",
       "#sk-container-id-6 div.sk-text-repr-fallback {\n",
       "  display: none;\n",
       "}\n",
       "\n",
       "div.sk-parallel-item,\n",
       "div.sk-serial,\n",
       "div.sk-item {\n",
       "  /* draw centered vertical line to link estimators */\n",
       "  background-image: linear-gradient(var(--sklearn-color-text-on-default-background), var(--sklearn-color-text-on-default-background));\n",
       "  background-size: 2px 100%;\n",
       "  background-repeat: no-repeat;\n",
       "  background-position: center center;\n",
       "}\n",
       "\n",
       "/* Parallel-specific style estimator block */\n",
       "\n",
       "#sk-container-id-6 div.sk-parallel-item::after {\n",
       "  content: \"\";\n",
       "  width: 100%;\n",
       "  border-bottom: 2px solid var(--sklearn-color-text-on-default-background);\n",
       "  flex-grow: 1;\n",
       "}\n",
       "\n",
       "#sk-container-id-6 div.sk-parallel {\n",
       "  display: flex;\n",
       "  align-items: stretch;\n",
       "  justify-content: center;\n",
       "  background-color: var(--sklearn-color-background);\n",
       "  position: relative;\n",
       "}\n",
       "\n",
       "#sk-container-id-6 div.sk-parallel-item {\n",
       "  display: flex;\n",
       "  flex-direction: column;\n",
       "}\n",
       "\n",
       "#sk-container-id-6 div.sk-parallel-item:first-child::after {\n",
       "  align-self: flex-end;\n",
       "  width: 50%;\n",
       "}\n",
       "\n",
       "#sk-container-id-6 div.sk-parallel-item:last-child::after {\n",
       "  align-self: flex-start;\n",
       "  width: 50%;\n",
       "}\n",
       "\n",
       "#sk-container-id-6 div.sk-parallel-item:only-child::after {\n",
       "  width: 0;\n",
       "}\n",
       "\n",
       "/* Serial-specific style estimator block */\n",
       "\n",
       "#sk-container-id-6 div.sk-serial {\n",
       "  display: flex;\n",
       "  flex-direction: column;\n",
       "  align-items: center;\n",
       "  background-color: var(--sklearn-color-background);\n",
       "  padding-right: 1em;\n",
       "  padding-left: 1em;\n",
       "}\n",
       "\n",
       "\n",
       "/* Toggleable style: style used for estimator/Pipeline/ColumnTransformer box that is\n",
       "clickable and can be expanded/collapsed.\n",
       "- Pipeline and ColumnTransformer use this feature and define the default style\n",
       "- Estimators will overwrite some part of the style using the `sk-estimator` class\n",
       "*/\n",
       "\n",
       "/* Pipeline and ColumnTransformer style (default) */\n",
       "\n",
       "#sk-container-id-6 div.sk-toggleable {\n",
       "  /* Default theme specific background. It is overwritten whether we have a\n",
       "  specific estimator or a Pipeline/ColumnTransformer */\n",
       "  background-color: var(--sklearn-color-background);\n",
       "}\n",
       "\n",
       "/* Toggleable label */\n",
       "#sk-container-id-6 label.sk-toggleable__label {\n",
       "  cursor: pointer;\n",
       "  display: flex;\n",
       "  width: 100%;\n",
       "  margin-bottom: 0;\n",
       "  padding: 0.5em;\n",
       "  box-sizing: border-box;\n",
       "  text-align: center;\n",
       "  align-items: start;\n",
       "  justify-content: space-between;\n",
       "  gap: 0.5em;\n",
       "}\n",
       "\n",
       "#sk-container-id-6 label.sk-toggleable__label .caption {\n",
       "  font-size: 0.6rem;\n",
       "  font-weight: lighter;\n",
       "  color: var(--sklearn-color-text-muted);\n",
       "}\n",
       "\n",
       "#sk-container-id-6 label.sk-toggleable__label-arrow:before {\n",
       "  /* Arrow on the left of the label */\n",
       "  content: \"▸\";\n",
       "  float: left;\n",
       "  margin-right: 0.25em;\n",
       "  color: var(--sklearn-color-icon);\n",
       "}\n",
       "\n",
       "#sk-container-id-6 label.sk-toggleable__label-arrow:hover:before {\n",
       "  color: var(--sklearn-color-text);\n",
       "}\n",
       "\n",
       "/* Toggleable content - dropdown */\n",
       "\n",
       "#sk-container-id-6 div.sk-toggleable__content {\n",
       "  max-height: 0;\n",
       "  max-width: 0;\n",
       "  overflow: hidden;\n",
       "  text-align: left;\n",
       "  /* unfitted */\n",
       "  background-color: var(--sklearn-color-unfitted-level-0);\n",
       "}\n",
       "\n",
       "#sk-container-id-6 div.sk-toggleable__content.fitted {\n",
       "  /* fitted */\n",
       "  background-color: var(--sklearn-color-fitted-level-0);\n",
       "}\n",
       "\n",
       "#sk-container-id-6 div.sk-toggleable__content pre {\n",
       "  margin: 0.2em;\n",
       "  border-radius: 0.25em;\n",
       "  color: var(--sklearn-color-text);\n",
       "  /* unfitted */\n",
       "  background-color: var(--sklearn-color-unfitted-level-0);\n",
       "}\n",
       "\n",
       "#sk-container-id-6 div.sk-toggleable__content.fitted pre {\n",
       "  /* unfitted */\n",
       "  background-color: var(--sklearn-color-fitted-level-0);\n",
       "}\n",
       "\n",
       "#sk-container-id-6 input.sk-toggleable__control:checked~div.sk-toggleable__content {\n",
       "  /* Expand drop-down */\n",
       "  max-height: 200px;\n",
       "  max-width: 100%;\n",
       "  overflow: auto;\n",
       "}\n",
       "\n",
       "#sk-container-id-6 input.sk-toggleable__control:checked~label.sk-toggleable__label-arrow:before {\n",
       "  content: \"▾\";\n",
       "}\n",
       "\n",
       "/* Pipeline/ColumnTransformer-specific style */\n",
       "\n",
       "#sk-container-id-6 div.sk-label input.sk-toggleable__control:checked~label.sk-toggleable__label {\n",
       "  color: var(--sklearn-color-text);\n",
       "  background-color: var(--sklearn-color-unfitted-level-2);\n",
       "}\n",
       "\n",
       "#sk-container-id-6 div.sk-label.fitted input.sk-toggleable__control:checked~label.sk-toggleable__label {\n",
       "  background-color: var(--sklearn-color-fitted-level-2);\n",
       "}\n",
       "\n",
       "/* Estimator-specific style */\n",
       "\n",
       "/* Colorize estimator box */\n",
       "#sk-container-id-6 div.sk-estimator input.sk-toggleable__control:checked~label.sk-toggleable__label {\n",
       "  /* unfitted */\n",
       "  background-color: var(--sklearn-color-unfitted-level-2);\n",
       "}\n",
       "\n",
       "#sk-container-id-6 div.sk-estimator.fitted input.sk-toggleable__control:checked~label.sk-toggleable__label {\n",
       "  /* fitted */\n",
       "  background-color: var(--sklearn-color-fitted-level-2);\n",
       "}\n",
       "\n",
       "#sk-container-id-6 div.sk-label label.sk-toggleable__label,\n",
       "#sk-container-id-6 div.sk-label label {\n",
       "  /* The background is the default theme color */\n",
       "  color: var(--sklearn-color-text-on-default-background);\n",
       "}\n",
       "\n",
       "/* On hover, darken the color of the background */\n",
       "#sk-container-id-6 div.sk-label:hover label.sk-toggleable__label {\n",
       "  color: var(--sklearn-color-text);\n",
       "  background-color: var(--sklearn-color-unfitted-level-2);\n",
       "}\n",
       "\n",
       "/* Label box, darken color on hover, fitted */\n",
       "#sk-container-id-6 div.sk-label.fitted:hover label.sk-toggleable__label.fitted {\n",
       "  color: var(--sklearn-color-text);\n",
       "  background-color: var(--sklearn-color-fitted-level-2);\n",
       "}\n",
       "\n",
       "/* Estimator label */\n",
       "\n",
       "#sk-container-id-6 div.sk-label label {\n",
       "  font-family: monospace;\n",
       "  font-weight: bold;\n",
       "  display: inline-block;\n",
       "  line-height: 1.2em;\n",
       "}\n",
       "\n",
       "#sk-container-id-6 div.sk-label-container {\n",
       "  text-align: center;\n",
       "}\n",
       "\n",
       "/* Estimator-specific */\n",
       "#sk-container-id-6 div.sk-estimator {\n",
       "  font-family: monospace;\n",
       "  border: 1px dotted var(--sklearn-color-border-box);\n",
       "  border-radius: 0.25em;\n",
       "  box-sizing: border-box;\n",
       "  margin-bottom: 0.5em;\n",
       "  /* unfitted */\n",
       "  background-color: var(--sklearn-color-unfitted-level-0);\n",
       "}\n",
       "\n",
       "#sk-container-id-6 div.sk-estimator.fitted {\n",
       "  /* fitted */\n",
       "  background-color: var(--sklearn-color-fitted-level-0);\n",
       "}\n",
       "\n",
       "/* on hover */\n",
       "#sk-container-id-6 div.sk-estimator:hover {\n",
       "  /* unfitted */\n",
       "  background-color: var(--sklearn-color-unfitted-level-2);\n",
       "}\n",
       "\n",
       "#sk-container-id-6 div.sk-estimator.fitted:hover {\n",
       "  /* fitted */\n",
       "  background-color: var(--sklearn-color-fitted-level-2);\n",
       "}\n",
       "\n",
       "/* Specification for estimator info (e.g. \"i\" and \"?\") */\n",
       "\n",
       "/* Common style for \"i\" and \"?\" */\n",
       "\n",
       ".sk-estimator-doc-link,\n",
       "a:link.sk-estimator-doc-link,\n",
       "a:visited.sk-estimator-doc-link {\n",
       "  float: right;\n",
       "  font-size: smaller;\n",
       "  line-height: 1em;\n",
       "  font-family: monospace;\n",
       "  background-color: var(--sklearn-color-background);\n",
       "  border-radius: 1em;\n",
       "  height: 1em;\n",
       "  width: 1em;\n",
       "  text-decoration: none !important;\n",
       "  margin-left: 0.5em;\n",
       "  text-align: center;\n",
       "  /* unfitted */\n",
       "  border: var(--sklearn-color-unfitted-level-1) 1pt solid;\n",
       "  color: var(--sklearn-color-unfitted-level-1);\n",
       "}\n",
       "\n",
       ".sk-estimator-doc-link.fitted,\n",
       "a:link.sk-estimator-doc-link.fitted,\n",
       "a:visited.sk-estimator-doc-link.fitted {\n",
       "  /* fitted */\n",
       "  border: var(--sklearn-color-fitted-level-1) 1pt solid;\n",
       "  color: var(--sklearn-color-fitted-level-1);\n",
       "}\n",
       "\n",
       "/* On hover */\n",
       "div.sk-estimator:hover .sk-estimator-doc-link:hover,\n",
       ".sk-estimator-doc-link:hover,\n",
       "div.sk-label-container:hover .sk-estimator-doc-link:hover,\n",
       ".sk-estimator-doc-link:hover {\n",
       "  /* unfitted */\n",
       "  background-color: var(--sklearn-color-unfitted-level-3);\n",
       "  color: var(--sklearn-color-background);\n",
       "  text-decoration: none;\n",
       "}\n",
       "\n",
       "div.sk-estimator.fitted:hover .sk-estimator-doc-link.fitted:hover,\n",
       ".sk-estimator-doc-link.fitted:hover,\n",
       "div.sk-label-container:hover .sk-estimator-doc-link.fitted:hover,\n",
       ".sk-estimator-doc-link.fitted:hover {\n",
       "  /* fitted */\n",
       "  background-color: var(--sklearn-color-fitted-level-3);\n",
       "  color: var(--sklearn-color-background);\n",
       "  text-decoration: none;\n",
       "}\n",
       "\n",
       "/* Span, style for the box shown on hovering the info icon */\n",
       ".sk-estimator-doc-link span {\n",
       "  display: none;\n",
       "  z-index: 9999;\n",
       "  position: relative;\n",
       "  font-weight: normal;\n",
       "  right: .2ex;\n",
       "  padding: .5ex;\n",
       "  margin: .5ex;\n",
       "  width: min-content;\n",
       "  min-width: 20ex;\n",
       "  max-width: 50ex;\n",
       "  color: var(--sklearn-color-text);\n",
       "  box-shadow: 2pt 2pt 4pt #999;\n",
       "  /* unfitted */\n",
       "  background: var(--sklearn-color-unfitted-level-0);\n",
       "  border: .5pt solid var(--sklearn-color-unfitted-level-3);\n",
       "}\n",
       "\n",
       ".sk-estimator-doc-link.fitted span {\n",
       "  /* fitted */\n",
       "  background: var(--sklearn-color-fitted-level-0);\n",
       "  border: var(--sklearn-color-fitted-level-3);\n",
       "}\n",
       "\n",
       ".sk-estimator-doc-link:hover span {\n",
       "  display: block;\n",
       "}\n",
       "\n",
       "/* \"?\"-specific style due to the `<a>` HTML tag */\n",
       "\n",
       "#sk-container-id-6 a.estimator_doc_link {\n",
       "  float: right;\n",
       "  font-size: 1rem;\n",
       "  line-height: 1em;\n",
       "  font-family: monospace;\n",
       "  background-color: var(--sklearn-color-background);\n",
       "  border-radius: 1rem;\n",
       "  height: 1rem;\n",
       "  width: 1rem;\n",
       "  text-decoration: none;\n",
       "  /* unfitted */\n",
       "  color: var(--sklearn-color-unfitted-level-1);\n",
       "  border: var(--sklearn-color-unfitted-level-1) 1pt solid;\n",
       "}\n",
       "\n",
       "#sk-container-id-6 a.estimator_doc_link.fitted {\n",
       "  /* fitted */\n",
       "  border: var(--sklearn-color-fitted-level-1) 1pt solid;\n",
       "  color: var(--sklearn-color-fitted-level-1);\n",
       "}\n",
       "\n",
       "/* On hover */\n",
       "#sk-container-id-6 a.estimator_doc_link:hover {\n",
       "  /* unfitted */\n",
       "  background-color: var(--sklearn-color-unfitted-level-3);\n",
       "  color: var(--sklearn-color-background);\n",
       "  text-decoration: none;\n",
       "}\n",
       "\n",
       "#sk-container-id-6 a.estimator_doc_link.fitted:hover {\n",
       "  /* fitted */\n",
       "  background-color: var(--sklearn-color-fitted-level-3);\n",
       "}\n",
       "</style><div id=\"sk-container-id-6\" class=\"sk-top-container\"><div class=\"sk-text-repr-fallback\"><pre>GridSearchCV(cv=5,\n",
       "             estimator=Pipeline(steps=[(&#x27;scaler&#x27;, StandardScaler()),\n",
       "                                       (&#x27;sgd&#x27;, SGDRegressor(random_state=42))]),\n",
       "             n_jobs=-1,\n",
       "             param_grid={&#x27;sgd__alpha&#x27;: [0.0001, 0.001, 0.01, 0.1],\n",
       "                         &#x27;sgd__eta0&#x27;: [0.001, 0.01, 0.1, 1],\n",
       "                         &#x27;sgd__learning_rate&#x27;: [&#x27;constant&#x27;, &#x27;invscaling&#x27;,\n",
       "                                                &#x27;adaptive&#x27;],\n",
       "                         &#x27;sgd__penalty&#x27;: [&#x27;l2&#x27;, &#x27;l1&#x27;, &#x27;elasticnet&#x27;]},\n",
       "             scoring=&#x27;r2&#x27;)</pre><b>In a Jupyter environment, please rerun this cell to show the HTML representation or trust the notebook. <br />On GitHub, the HTML representation is unable to render, please try loading this page with nbviewer.org.</b></div><div class=\"sk-container\" hidden><div class=\"sk-item sk-dashed-wrapped\"><div class=\"sk-label-container\"><div class=\"sk-label fitted sk-toggleable\"><input class=\"sk-toggleable__control sk-hidden--visually\" id=\"sk-estimator-id-9\" type=\"checkbox\" ><label for=\"sk-estimator-id-9\" class=\"sk-toggleable__label fitted sk-toggleable__label-arrow\"><div><div>GridSearchCV</div></div><div><a class=\"sk-estimator-doc-link fitted\" rel=\"noreferrer\" target=\"_blank\" href=\"https://scikit-learn.org/1.6/modules/generated/sklearn.model_selection.GridSearchCV.html\">?<span>Documentation for GridSearchCV</span></a><span class=\"sk-estimator-doc-link fitted\">i<span>Fitted</span></span></div></label><div class=\"sk-toggleable__content fitted\"><pre>GridSearchCV(cv=5,\n",
       "             estimator=Pipeline(steps=[(&#x27;scaler&#x27;, StandardScaler()),\n",
       "                                       (&#x27;sgd&#x27;, SGDRegressor(random_state=42))]),\n",
       "             n_jobs=-1,\n",
       "             param_grid={&#x27;sgd__alpha&#x27;: [0.0001, 0.001, 0.01, 0.1],\n",
       "                         &#x27;sgd__eta0&#x27;: [0.001, 0.01, 0.1, 1],\n",
       "                         &#x27;sgd__learning_rate&#x27;: [&#x27;constant&#x27;, &#x27;invscaling&#x27;,\n",
       "                                                &#x27;adaptive&#x27;],\n",
       "                         &#x27;sgd__penalty&#x27;: [&#x27;l2&#x27;, &#x27;l1&#x27;, &#x27;elasticnet&#x27;]},\n",
       "             scoring=&#x27;r2&#x27;)</pre></div> </div></div><div class=\"sk-parallel\"><div class=\"sk-parallel-item\"><div class=\"sk-item\"><div class=\"sk-label-container\"><div class=\"sk-label fitted sk-toggleable\"><input class=\"sk-toggleable__control sk-hidden--visually\" id=\"sk-estimator-id-10\" type=\"checkbox\" ><label for=\"sk-estimator-id-10\" class=\"sk-toggleable__label fitted sk-toggleable__label-arrow\"><div><div>best_estimator_: Pipeline</div></div></label><div class=\"sk-toggleable__content fitted\"><pre>Pipeline(steps=[(&#x27;scaler&#x27;, StandardScaler()),\n",
       "                (&#x27;sgd&#x27;,\n",
       "                 SGDRegressor(alpha=0.1, eta0=0.001, learning_rate=&#x27;constant&#x27;,\n",
       "                              penalty=&#x27;elasticnet&#x27;, random_state=42))])</pre></div> </div></div><div class=\"sk-serial\"><div class=\"sk-item\"><div class=\"sk-serial\"><div class=\"sk-item\"><div class=\"sk-estimator fitted sk-toggleable\"><input class=\"sk-toggleable__control sk-hidden--visually\" id=\"sk-estimator-id-11\" type=\"checkbox\" ><label for=\"sk-estimator-id-11\" class=\"sk-toggleable__label fitted sk-toggleable__label-arrow\"><div><div>StandardScaler</div></div><div><a class=\"sk-estimator-doc-link fitted\" rel=\"noreferrer\" target=\"_blank\" href=\"https://scikit-learn.org/1.6/modules/generated/sklearn.preprocessing.StandardScaler.html\">?<span>Documentation for StandardScaler</span></a></div></label><div class=\"sk-toggleable__content fitted\"><pre>StandardScaler()</pre></div> </div></div><div class=\"sk-item\"><div class=\"sk-estimator fitted sk-toggleable\"><input class=\"sk-toggleable__control sk-hidden--visually\" id=\"sk-estimator-id-12\" type=\"checkbox\" ><label for=\"sk-estimator-id-12\" class=\"sk-toggleable__label fitted sk-toggleable__label-arrow\"><div><div>SGDRegressor</div></div><div><a class=\"sk-estimator-doc-link fitted\" rel=\"noreferrer\" target=\"_blank\" href=\"https://scikit-learn.org/1.6/modules/generated/sklearn.linear_model.SGDRegressor.html\">?<span>Documentation for SGDRegressor</span></a></div></label><div class=\"sk-toggleable__content fitted\"><pre>SGDRegressor(alpha=0.1, eta0=0.001, learning_rate=&#x27;constant&#x27;,\n",
       "             penalty=&#x27;elasticnet&#x27;, random_state=42)</pre></div> </div></div></div></div></div></div></div></div></div></div></div>"
      ],
      "text/plain": [
       "GridSearchCV(cv=5,\n",
       "             estimator=Pipeline(steps=[('scaler', StandardScaler()),\n",
       "                                       ('sgd', SGDRegressor(random_state=42))]),\n",
       "             n_jobs=-1,\n",
       "             param_grid={'sgd__alpha': [0.0001, 0.001, 0.01, 0.1],\n",
       "                         'sgd__eta0': [0.001, 0.01, 0.1, 1],\n",
       "                         'sgd__learning_rate': ['constant', 'invscaling',\n",
       "                                                'adaptive'],\n",
       "                         'sgd__penalty': ['l2', 'l1', 'elasticnet']},\n",
       "             scoring='r2')"
      ]
     },
     "execution_count": 343,
     "metadata": {},
     "output_type": "execute_result"
    }
   ],
   "source": [
    "from sklearn.linear_model import SGDRegressor\n",
    "from sklearn.model_selection import GridSearchCV\n",
    "from sklearn.metrics import mean_squared_error\n",
    "\n",
    "pipeline = Pipeline([\n",
    "    ('scaler', StandardScaler()),\n",
    "    ('sgd', SGDRegressor(loss='squared_error', max_iter=1000, random_state=42))\n",
    "])\n",
    "\n",
    "# define hyperameter grid\n",
    "param_grid = {\n",
    "    'sgd__alpha': [0.0001,0.001,0.01,0.1],\n",
    "    'sgd__penalty': ['l2', 'l1', 'elasticnet'],\n",
    "    'sgd__eta0': [0.001,0.01,0.1,1],\n",
    "    'sgd__learning_rate': ['constant', 'invscaling', 'adaptive']\n",
    "}\n",
    "\n",
    "grid = GridSearchCV(\n",
    "    pipeline,\n",
    "    param_grid,\n",
    "    cv=5,\n",
    "    scoring='r2',\n",
    "    n_jobs=-1\n",
    ")\n",
    "\n",
    "grid.fit(X_train,y_train)\n",
    "\n"
   ]
  },
  {
   "cell_type": "code",
   "execution_count": 347,
   "id": "69210cfc",
   "metadata": {},
   "outputs": [
    {
     "name": "stdout",
     "output_type": "stream",
     "text": [
      "Best Parameters:  {'sgd__alpha': 0.1, 'sgd__eta0': 0.001, 'sgd__learning_rate': 'constant', 'sgd__penalty': 'elasticnet'}\n",
      "Best CV R2:  0.7595303285373435\n",
      "R2 score:  0.7764320554356081\n"
     ]
    }
   ],
   "source": [
    "print('Best Parameters: ', grid.best_params_)\n",
    "print('Best CV R2: ', grid.best_score_)\n",
    "\n",
    "# Test score\n",
    "y_pred_sgd_ols = grid.predict(X_test)\n",
    "print('R2 score: ', r2_score(y_test, y_pred_sgd_ols))"
   ]
  },
  {
   "cell_type": "markdown",
   "id": "85e50725",
   "metadata": {},
   "source": [
    "### III. Mini-Batch Gradient Decent"
   ]
  },
  {
   "cell_type": "code",
   "execution_count": 388,
   "id": "457403ba",
   "metadata": {},
   "outputs": [],
   "source": [
    "import random\n",
    "\n",
    "class MBGDRegressor:\n",
    "    def __init__(self, batch_size, learning_rate=0.01, epochs=100):\n",
    "        self.coef_ = None\n",
    "        self.intercept_ = None\n",
    "        self.batch_size = batch_size\n",
    "        self.lr = learning_rate\n",
    "        self.epochs = epochs\n",
    "    \n",
    "    def fit(self, X_train_scaled,y_train):\n",
    "        X_train_scaled = np.array(X_train_scaled)\n",
    "        y_train = np.array(y_train)\n",
    "\n",
    "        self.coef_= np.ones(X_train_scaled.shape[1])\n",
    "        self.intercept_ = 0\n",
    "\n",
    "        for i in range(self.epochs):\n",
    "            for j in range(int(X_train_scaled.shape[0]/self.batch_size)):\n",
    "                idX = random.sample(range(X_train_scaled.shape[0]),self.batch_size)\n",
    "\n",
    "                y_hat = np.dot(X_train_scaled[idX], self.coef_) + self.intercept_\n",
    "                error = y_train[idX] - y_hat\n",
    "\n",
    "                intercept_der = -2 * np.mean(error)\n",
    "                self.intercept_ = self.intercept_ - (self.lr * intercept_der)\n",
    "\n",
    "                coef_der = -2 * np.dot(error, X_train_scaled[idX]) / self.batch_size\n",
    "                self.coef_ = self.coef_ - (self.lr * coef_der)\n",
    "                \n",
    "        print(self.intercept_, self.coef_)\n",
    "    \n",
    "    def predict(self, X_test_scaled):\n",
    "        X_test_scaled = np.array(X_test_scaled)\n",
    "        return np.dot(X_test_scaled, self.coef_) + self.intercept_"
   ]
  },
  {
   "cell_type": "code",
   "execution_count": 393,
   "id": "66a2a0ab",
   "metadata": {},
   "outputs": [
    {
     "name": "stdout",
     "output_type": "stream",
     "text": [
      "1.0060917485915923 [ 0.02253234 -0.10830342 -0.00783731  0.08786732  0.1041279  -0.05250833\n",
      " -0.03495701  0.00176019  0.06001058 -0.00717742 -0.0803268  -0.08753155\n",
      " -0.08657137  0.06193765  0.08004077  0.01431852 -0.0575754   0.06647511\n",
      "  0.09303445  0.0549518 ]\n",
      "R2 score:  0.765054840481696\n"
     ]
    }
   ],
   "source": [
    "mbgdr = MBGDRegressor(batch_size=10, learning_rate=0.001, epochs=1000)\n",
    "mbgdr.fit(X_train_scaled,y_train)\n",
    "\n",
    "y_pred_mbgd = mbgdr.predict(X_test_scaled)\n",
    "print('R2 score: ', r2_score(y_test, y_pred_mbgd))"
   ]
  },
  {
   "cell_type": "markdown",
   "id": "408c6766",
   "metadata": {},
   "source": [
    "# 3. Polynomial Regression"
   ]
  },
  {
   "cell_type": "code",
   "execution_count": 400,
   "id": "d73f75d3",
   "metadata": {},
   "outputs": [
    {
     "data": {
      "text/html": [
       "<style>#sk-container-id-11 {\n",
       "  /* Definition of color scheme common for light and dark mode */\n",
       "  --sklearn-color-text: #000;\n",
       "  --sklearn-color-text-muted: #666;\n",
       "  --sklearn-color-line: gray;\n",
       "  /* Definition of color scheme for unfitted estimators */\n",
       "  --sklearn-color-unfitted-level-0: #fff5e6;\n",
       "  --sklearn-color-unfitted-level-1: #f6e4d2;\n",
       "  --sklearn-color-unfitted-level-2: #ffe0b3;\n",
       "  --sklearn-color-unfitted-level-3: chocolate;\n",
       "  /* Definition of color scheme for fitted estimators */\n",
       "  --sklearn-color-fitted-level-0: #f0f8ff;\n",
       "  --sklearn-color-fitted-level-1: #d4ebff;\n",
       "  --sklearn-color-fitted-level-2: #b3dbfd;\n",
       "  --sklearn-color-fitted-level-3: cornflowerblue;\n",
       "\n",
       "  /* Specific color for light theme */\n",
       "  --sklearn-color-text-on-default-background: var(--sg-text-color, var(--theme-code-foreground, var(--jp-content-font-color1, black)));\n",
       "  --sklearn-color-background: var(--sg-background-color, var(--theme-background, var(--jp-layout-color0, white)));\n",
       "  --sklearn-color-border-box: var(--sg-text-color, var(--theme-code-foreground, var(--jp-content-font-color1, black)));\n",
       "  --sklearn-color-icon: #696969;\n",
       "\n",
       "  @media (prefers-color-scheme: dark) {\n",
       "    /* Redefinition of color scheme for dark theme */\n",
       "    --sklearn-color-text-on-default-background: var(--sg-text-color, var(--theme-code-foreground, var(--jp-content-font-color1, white)));\n",
       "    --sklearn-color-background: var(--sg-background-color, var(--theme-background, var(--jp-layout-color0, #111)));\n",
       "    --sklearn-color-border-box: var(--sg-text-color, var(--theme-code-foreground, var(--jp-content-font-color1, white)));\n",
       "    --sklearn-color-icon: #878787;\n",
       "  }\n",
       "}\n",
       "\n",
       "#sk-container-id-11 {\n",
       "  color: var(--sklearn-color-text);\n",
       "}\n",
       "\n",
       "#sk-container-id-11 pre {\n",
       "  padding: 0;\n",
       "}\n",
       "\n",
       "#sk-container-id-11 input.sk-hidden--visually {\n",
       "  border: 0;\n",
       "  clip: rect(1px 1px 1px 1px);\n",
       "  clip: rect(1px, 1px, 1px, 1px);\n",
       "  height: 1px;\n",
       "  margin: -1px;\n",
       "  overflow: hidden;\n",
       "  padding: 0;\n",
       "  position: absolute;\n",
       "  width: 1px;\n",
       "}\n",
       "\n",
       "#sk-container-id-11 div.sk-dashed-wrapped {\n",
       "  border: 1px dashed var(--sklearn-color-line);\n",
       "  margin: 0 0.4em 0.5em 0.4em;\n",
       "  box-sizing: border-box;\n",
       "  padding-bottom: 0.4em;\n",
       "  background-color: var(--sklearn-color-background);\n",
       "}\n",
       "\n",
       "#sk-container-id-11 div.sk-container {\n",
       "  /* jupyter's `normalize.less` sets `[hidden] { display: none; }`\n",
       "     but bootstrap.min.css set `[hidden] { display: none !important; }`\n",
       "     so we also need the `!important` here to be able to override the\n",
       "     default hidden behavior on the sphinx rendered scikit-learn.org.\n",
       "     See: https://github.com/scikit-learn/scikit-learn/issues/21755 */\n",
       "  display: inline-block !important;\n",
       "  position: relative;\n",
       "}\n",
       "\n",
       "#sk-container-id-11 div.sk-text-repr-fallback {\n",
       "  display: none;\n",
       "}\n",
       "\n",
       "div.sk-parallel-item,\n",
       "div.sk-serial,\n",
       "div.sk-item {\n",
       "  /* draw centered vertical line to link estimators */\n",
       "  background-image: linear-gradient(var(--sklearn-color-text-on-default-background), var(--sklearn-color-text-on-default-background));\n",
       "  background-size: 2px 100%;\n",
       "  background-repeat: no-repeat;\n",
       "  background-position: center center;\n",
       "}\n",
       "\n",
       "/* Parallel-specific style estimator block */\n",
       "\n",
       "#sk-container-id-11 div.sk-parallel-item::after {\n",
       "  content: \"\";\n",
       "  width: 100%;\n",
       "  border-bottom: 2px solid var(--sklearn-color-text-on-default-background);\n",
       "  flex-grow: 1;\n",
       "}\n",
       "\n",
       "#sk-container-id-11 div.sk-parallel {\n",
       "  display: flex;\n",
       "  align-items: stretch;\n",
       "  justify-content: center;\n",
       "  background-color: var(--sklearn-color-background);\n",
       "  position: relative;\n",
       "}\n",
       "\n",
       "#sk-container-id-11 div.sk-parallel-item {\n",
       "  display: flex;\n",
       "  flex-direction: column;\n",
       "}\n",
       "\n",
       "#sk-container-id-11 div.sk-parallel-item:first-child::after {\n",
       "  align-self: flex-end;\n",
       "  width: 50%;\n",
       "}\n",
       "\n",
       "#sk-container-id-11 div.sk-parallel-item:last-child::after {\n",
       "  align-self: flex-start;\n",
       "  width: 50%;\n",
       "}\n",
       "\n",
       "#sk-container-id-11 div.sk-parallel-item:only-child::after {\n",
       "  width: 0;\n",
       "}\n",
       "\n",
       "/* Serial-specific style estimator block */\n",
       "\n",
       "#sk-container-id-11 div.sk-serial {\n",
       "  display: flex;\n",
       "  flex-direction: column;\n",
       "  align-items: center;\n",
       "  background-color: var(--sklearn-color-background);\n",
       "  padding-right: 1em;\n",
       "  padding-left: 1em;\n",
       "}\n",
       "\n",
       "\n",
       "/* Toggleable style: style used for estimator/Pipeline/ColumnTransformer box that is\n",
       "clickable and can be expanded/collapsed.\n",
       "- Pipeline and ColumnTransformer use this feature and define the default style\n",
       "- Estimators will overwrite some part of the style using the `sk-estimator` class\n",
       "*/\n",
       "\n",
       "/* Pipeline and ColumnTransformer style (default) */\n",
       "\n",
       "#sk-container-id-11 div.sk-toggleable {\n",
       "  /* Default theme specific background. It is overwritten whether we have a\n",
       "  specific estimator or a Pipeline/ColumnTransformer */\n",
       "  background-color: var(--sklearn-color-background);\n",
       "}\n",
       "\n",
       "/* Toggleable label */\n",
       "#sk-container-id-11 label.sk-toggleable__label {\n",
       "  cursor: pointer;\n",
       "  display: flex;\n",
       "  width: 100%;\n",
       "  margin-bottom: 0;\n",
       "  padding: 0.5em;\n",
       "  box-sizing: border-box;\n",
       "  text-align: center;\n",
       "  align-items: start;\n",
       "  justify-content: space-between;\n",
       "  gap: 0.5em;\n",
       "}\n",
       "\n",
       "#sk-container-id-11 label.sk-toggleable__label .caption {\n",
       "  font-size: 0.6rem;\n",
       "  font-weight: lighter;\n",
       "  color: var(--sklearn-color-text-muted);\n",
       "}\n",
       "\n",
       "#sk-container-id-11 label.sk-toggleable__label-arrow:before {\n",
       "  /* Arrow on the left of the label */\n",
       "  content: \"▸\";\n",
       "  float: left;\n",
       "  margin-right: 0.25em;\n",
       "  color: var(--sklearn-color-icon);\n",
       "}\n",
       "\n",
       "#sk-container-id-11 label.sk-toggleable__label-arrow:hover:before {\n",
       "  color: var(--sklearn-color-text);\n",
       "}\n",
       "\n",
       "/* Toggleable content - dropdown */\n",
       "\n",
       "#sk-container-id-11 div.sk-toggleable__content {\n",
       "  max-height: 0;\n",
       "  max-width: 0;\n",
       "  overflow: hidden;\n",
       "  text-align: left;\n",
       "  /* unfitted */\n",
       "  background-color: var(--sklearn-color-unfitted-level-0);\n",
       "}\n",
       "\n",
       "#sk-container-id-11 div.sk-toggleable__content.fitted {\n",
       "  /* fitted */\n",
       "  background-color: var(--sklearn-color-fitted-level-0);\n",
       "}\n",
       "\n",
       "#sk-container-id-11 div.sk-toggleable__content pre {\n",
       "  margin: 0.2em;\n",
       "  border-radius: 0.25em;\n",
       "  color: var(--sklearn-color-text);\n",
       "  /* unfitted */\n",
       "  background-color: var(--sklearn-color-unfitted-level-0);\n",
       "}\n",
       "\n",
       "#sk-container-id-11 div.sk-toggleable__content.fitted pre {\n",
       "  /* unfitted */\n",
       "  background-color: var(--sklearn-color-fitted-level-0);\n",
       "}\n",
       "\n",
       "#sk-container-id-11 input.sk-toggleable__control:checked~div.sk-toggleable__content {\n",
       "  /* Expand drop-down */\n",
       "  max-height: 200px;\n",
       "  max-width: 100%;\n",
       "  overflow: auto;\n",
       "}\n",
       "\n",
       "#sk-container-id-11 input.sk-toggleable__control:checked~label.sk-toggleable__label-arrow:before {\n",
       "  content: \"▾\";\n",
       "}\n",
       "\n",
       "/* Pipeline/ColumnTransformer-specific style */\n",
       "\n",
       "#sk-container-id-11 div.sk-label input.sk-toggleable__control:checked~label.sk-toggleable__label {\n",
       "  color: var(--sklearn-color-text);\n",
       "  background-color: var(--sklearn-color-unfitted-level-2);\n",
       "}\n",
       "\n",
       "#sk-container-id-11 div.sk-label.fitted input.sk-toggleable__control:checked~label.sk-toggleable__label {\n",
       "  background-color: var(--sklearn-color-fitted-level-2);\n",
       "}\n",
       "\n",
       "/* Estimator-specific style */\n",
       "\n",
       "/* Colorize estimator box */\n",
       "#sk-container-id-11 div.sk-estimator input.sk-toggleable__control:checked~label.sk-toggleable__label {\n",
       "  /* unfitted */\n",
       "  background-color: var(--sklearn-color-unfitted-level-2);\n",
       "}\n",
       "\n",
       "#sk-container-id-11 div.sk-estimator.fitted input.sk-toggleable__control:checked~label.sk-toggleable__label {\n",
       "  /* fitted */\n",
       "  background-color: var(--sklearn-color-fitted-level-2);\n",
       "}\n",
       "\n",
       "#sk-container-id-11 div.sk-label label.sk-toggleable__label,\n",
       "#sk-container-id-11 div.sk-label label {\n",
       "  /* The background is the default theme color */\n",
       "  color: var(--sklearn-color-text-on-default-background);\n",
       "}\n",
       "\n",
       "/* On hover, darken the color of the background */\n",
       "#sk-container-id-11 div.sk-label:hover label.sk-toggleable__label {\n",
       "  color: var(--sklearn-color-text);\n",
       "  background-color: var(--sklearn-color-unfitted-level-2);\n",
       "}\n",
       "\n",
       "/* Label box, darken color on hover, fitted */\n",
       "#sk-container-id-11 div.sk-label.fitted:hover label.sk-toggleable__label.fitted {\n",
       "  color: var(--sklearn-color-text);\n",
       "  background-color: var(--sklearn-color-fitted-level-2);\n",
       "}\n",
       "\n",
       "/* Estimator label */\n",
       "\n",
       "#sk-container-id-11 div.sk-label label {\n",
       "  font-family: monospace;\n",
       "  font-weight: bold;\n",
       "  display: inline-block;\n",
       "  line-height: 1.2em;\n",
       "}\n",
       "\n",
       "#sk-container-id-11 div.sk-label-container {\n",
       "  text-align: center;\n",
       "}\n",
       "\n",
       "/* Estimator-specific */\n",
       "#sk-container-id-11 div.sk-estimator {\n",
       "  font-family: monospace;\n",
       "  border: 1px dotted var(--sklearn-color-border-box);\n",
       "  border-radius: 0.25em;\n",
       "  box-sizing: border-box;\n",
       "  margin-bottom: 0.5em;\n",
       "  /* unfitted */\n",
       "  background-color: var(--sklearn-color-unfitted-level-0);\n",
       "}\n",
       "\n",
       "#sk-container-id-11 div.sk-estimator.fitted {\n",
       "  /* fitted */\n",
       "  background-color: var(--sklearn-color-fitted-level-0);\n",
       "}\n",
       "\n",
       "/* on hover */\n",
       "#sk-container-id-11 div.sk-estimator:hover {\n",
       "  /* unfitted */\n",
       "  background-color: var(--sklearn-color-unfitted-level-2);\n",
       "}\n",
       "\n",
       "#sk-container-id-11 div.sk-estimator.fitted:hover {\n",
       "  /* fitted */\n",
       "  background-color: var(--sklearn-color-fitted-level-2);\n",
       "}\n",
       "\n",
       "/* Specification for estimator info (e.g. \"i\" and \"?\") */\n",
       "\n",
       "/* Common style for \"i\" and \"?\" */\n",
       "\n",
       ".sk-estimator-doc-link,\n",
       "a:link.sk-estimator-doc-link,\n",
       "a:visited.sk-estimator-doc-link {\n",
       "  float: right;\n",
       "  font-size: smaller;\n",
       "  line-height: 1em;\n",
       "  font-family: monospace;\n",
       "  background-color: var(--sklearn-color-background);\n",
       "  border-radius: 1em;\n",
       "  height: 1em;\n",
       "  width: 1em;\n",
       "  text-decoration: none !important;\n",
       "  margin-left: 0.5em;\n",
       "  text-align: center;\n",
       "  /* unfitted */\n",
       "  border: var(--sklearn-color-unfitted-level-1) 1pt solid;\n",
       "  color: var(--sklearn-color-unfitted-level-1);\n",
       "}\n",
       "\n",
       ".sk-estimator-doc-link.fitted,\n",
       "a:link.sk-estimator-doc-link.fitted,\n",
       "a:visited.sk-estimator-doc-link.fitted {\n",
       "  /* fitted */\n",
       "  border: var(--sklearn-color-fitted-level-1) 1pt solid;\n",
       "  color: var(--sklearn-color-fitted-level-1);\n",
       "}\n",
       "\n",
       "/* On hover */\n",
       "div.sk-estimator:hover .sk-estimator-doc-link:hover,\n",
       ".sk-estimator-doc-link:hover,\n",
       "div.sk-label-container:hover .sk-estimator-doc-link:hover,\n",
       ".sk-estimator-doc-link:hover {\n",
       "  /* unfitted */\n",
       "  background-color: var(--sklearn-color-unfitted-level-3);\n",
       "  color: var(--sklearn-color-background);\n",
       "  text-decoration: none;\n",
       "}\n",
       "\n",
       "div.sk-estimator.fitted:hover .sk-estimator-doc-link.fitted:hover,\n",
       ".sk-estimator-doc-link.fitted:hover,\n",
       "div.sk-label-container:hover .sk-estimator-doc-link.fitted:hover,\n",
       ".sk-estimator-doc-link.fitted:hover {\n",
       "  /* fitted */\n",
       "  background-color: var(--sklearn-color-fitted-level-3);\n",
       "  color: var(--sklearn-color-background);\n",
       "  text-decoration: none;\n",
       "}\n",
       "\n",
       "/* Span, style for the box shown on hovering the info icon */\n",
       ".sk-estimator-doc-link span {\n",
       "  display: none;\n",
       "  z-index: 9999;\n",
       "  position: relative;\n",
       "  font-weight: normal;\n",
       "  right: .2ex;\n",
       "  padding: .5ex;\n",
       "  margin: .5ex;\n",
       "  width: min-content;\n",
       "  min-width: 20ex;\n",
       "  max-width: 50ex;\n",
       "  color: var(--sklearn-color-text);\n",
       "  box-shadow: 2pt 2pt 4pt #999;\n",
       "  /* unfitted */\n",
       "  background: var(--sklearn-color-unfitted-level-0);\n",
       "  border: .5pt solid var(--sklearn-color-unfitted-level-3);\n",
       "}\n",
       "\n",
       ".sk-estimator-doc-link.fitted span {\n",
       "  /* fitted */\n",
       "  background: var(--sklearn-color-fitted-level-0);\n",
       "  border: var(--sklearn-color-fitted-level-3);\n",
       "}\n",
       "\n",
       ".sk-estimator-doc-link:hover span {\n",
       "  display: block;\n",
       "}\n",
       "\n",
       "/* \"?\"-specific style due to the `<a>` HTML tag */\n",
       "\n",
       "#sk-container-id-11 a.estimator_doc_link {\n",
       "  float: right;\n",
       "  font-size: 1rem;\n",
       "  line-height: 1em;\n",
       "  font-family: monospace;\n",
       "  background-color: var(--sklearn-color-background);\n",
       "  border-radius: 1rem;\n",
       "  height: 1rem;\n",
       "  width: 1rem;\n",
       "  text-decoration: none;\n",
       "  /* unfitted */\n",
       "  color: var(--sklearn-color-unfitted-level-1);\n",
       "  border: var(--sklearn-color-unfitted-level-1) 1pt solid;\n",
       "}\n",
       "\n",
       "#sk-container-id-11 a.estimator_doc_link.fitted {\n",
       "  /* fitted */\n",
       "  border: var(--sklearn-color-fitted-level-1) 1pt solid;\n",
       "  color: var(--sklearn-color-fitted-level-1);\n",
       "}\n",
       "\n",
       "/* On hover */\n",
       "#sk-container-id-11 a.estimator_doc_link:hover {\n",
       "  /* unfitted */\n",
       "  background-color: var(--sklearn-color-unfitted-level-3);\n",
       "  color: var(--sklearn-color-background);\n",
       "  text-decoration: none;\n",
       "}\n",
       "\n",
       "#sk-container-id-11 a.estimator_doc_link.fitted:hover {\n",
       "  /* fitted */\n",
       "  background-color: var(--sklearn-color-fitted-level-3);\n",
       "}\n",
       "</style><div id=\"sk-container-id-11\" class=\"sk-top-container\"><div class=\"sk-text-repr-fallback\"><pre>GridSearchCV(cv=5,\n",
       "             estimator=Pipeline(steps=[(&#x27;poly&#x27;,\n",
       "                                        PolynomialFeatures(include_bias=False)),\n",
       "                                       (&#x27;scaler&#x27;, StandardScaler()),\n",
       "                                       (&#x27;lr&#x27;, LinearRegression())]),\n",
       "             n_jobs=-1, param_grid={&#x27;poly__degree&#x27;: [1, 2, 3, 4, 5]},\n",
       "             scoring=&#x27;r2&#x27;)</pre><b>In a Jupyter environment, please rerun this cell to show the HTML representation or trust the notebook. <br />On GitHub, the HTML representation is unable to render, please try loading this page with nbviewer.org.</b></div><div class=\"sk-container\" hidden><div class=\"sk-item sk-dashed-wrapped\"><div class=\"sk-label-container\"><div class=\"sk-label fitted sk-toggleable\"><input class=\"sk-toggleable__control sk-hidden--visually\" id=\"sk-estimator-id-17\" type=\"checkbox\" ><label for=\"sk-estimator-id-17\" class=\"sk-toggleable__label fitted sk-toggleable__label-arrow\"><div><div>GridSearchCV</div></div><div><a class=\"sk-estimator-doc-link fitted\" rel=\"noreferrer\" target=\"_blank\" href=\"https://scikit-learn.org/1.6/modules/generated/sklearn.model_selection.GridSearchCV.html\">?<span>Documentation for GridSearchCV</span></a><span class=\"sk-estimator-doc-link fitted\">i<span>Fitted</span></span></div></label><div class=\"sk-toggleable__content fitted\"><pre>GridSearchCV(cv=5,\n",
       "             estimator=Pipeline(steps=[(&#x27;poly&#x27;,\n",
       "                                        PolynomialFeatures(include_bias=False)),\n",
       "                                       (&#x27;scaler&#x27;, StandardScaler()),\n",
       "                                       (&#x27;lr&#x27;, LinearRegression())]),\n",
       "             n_jobs=-1, param_grid={&#x27;poly__degree&#x27;: [1, 2, 3, 4, 5]},\n",
       "             scoring=&#x27;r2&#x27;)</pre></div> </div></div><div class=\"sk-parallel\"><div class=\"sk-parallel-item\"><div class=\"sk-item\"><div class=\"sk-label-container\"><div class=\"sk-label fitted sk-toggleable\"><input class=\"sk-toggleable__control sk-hidden--visually\" id=\"sk-estimator-id-18\" type=\"checkbox\" ><label for=\"sk-estimator-id-18\" class=\"sk-toggleable__label fitted sk-toggleable__label-arrow\"><div><div>best_estimator_: Pipeline</div></div></label><div class=\"sk-toggleable__content fitted\"><pre>Pipeline(steps=[(&#x27;poly&#x27;, PolynomialFeatures(degree=1, include_bias=False)),\n",
       "                (&#x27;scaler&#x27;, StandardScaler()), (&#x27;lr&#x27;, LinearRegression())])</pre></div> </div></div><div class=\"sk-serial\"><div class=\"sk-item\"><div class=\"sk-serial\"><div class=\"sk-item\"><div class=\"sk-estimator fitted sk-toggleable\"><input class=\"sk-toggleable__control sk-hidden--visually\" id=\"sk-estimator-id-19\" type=\"checkbox\" ><label for=\"sk-estimator-id-19\" class=\"sk-toggleable__label fitted sk-toggleable__label-arrow\"><div><div>PolynomialFeatures</div></div><div><a class=\"sk-estimator-doc-link fitted\" rel=\"noreferrer\" target=\"_blank\" href=\"https://scikit-learn.org/1.6/modules/generated/sklearn.preprocessing.PolynomialFeatures.html\">?<span>Documentation for PolynomialFeatures</span></a></div></label><div class=\"sk-toggleable__content fitted\"><pre>PolynomialFeatures(degree=1, include_bias=False)</pre></div> </div></div><div class=\"sk-item\"><div class=\"sk-estimator fitted sk-toggleable\"><input class=\"sk-toggleable__control sk-hidden--visually\" id=\"sk-estimator-id-20\" type=\"checkbox\" ><label for=\"sk-estimator-id-20\" class=\"sk-toggleable__label fitted sk-toggleable__label-arrow\"><div><div>StandardScaler</div></div><div><a class=\"sk-estimator-doc-link fitted\" rel=\"noreferrer\" target=\"_blank\" href=\"https://scikit-learn.org/1.6/modules/generated/sklearn.preprocessing.StandardScaler.html\">?<span>Documentation for StandardScaler</span></a></div></label><div class=\"sk-toggleable__content fitted\"><pre>StandardScaler()</pre></div> </div></div><div class=\"sk-item\"><div class=\"sk-estimator fitted sk-toggleable\"><input class=\"sk-toggleable__control sk-hidden--visually\" id=\"sk-estimator-id-21\" type=\"checkbox\" ><label for=\"sk-estimator-id-21\" class=\"sk-toggleable__label fitted sk-toggleable__label-arrow\"><div><div>LinearRegression</div></div><div><a class=\"sk-estimator-doc-link fitted\" rel=\"noreferrer\" target=\"_blank\" href=\"https://scikit-learn.org/1.6/modules/generated/sklearn.linear_model.LinearRegression.html\">?<span>Documentation for LinearRegression</span></a></div></label><div class=\"sk-toggleable__content fitted\"><pre>LinearRegression()</pre></div> </div></div></div></div></div></div></div></div></div></div></div>"
      ],
      "text/plain": [
       "GridSearchCV(cv=5,\n",
       "             estimator=Pipeline(steps=[('poly',\n",
       "                                        PolynomialFeatures(include_bias=False)),\n",
       "                                       ('scaler', StandardScaler()),\n",
       "                                       ('lr', LinearRegression())]),\n",
       "             n_jobs=-1, param_grid={'poly__degree': [1, 2, 3, 4, 5]},\n",
       "             scoring='r2')"
      ]
     },
     "execution_count": 400,
     "metadata": {},
     "output_type": "execute_result"
    }
   ],
   "source": [
    "from sklearn.preprocessing import PolynomialFeatures\n",
    "\n",
    "pipeline = Pipeline([\n",
    "    ('poly', PolynomialFeatures(include_bias=False)),\n",
    "    ('scaler', StandardScaler()),\n",
    "    ('lr', LinearRegression())\n",
    "])\n",
    "\n",
    "param_grid = {\n",
    "    'poly__degree': [1,2,3,4,5]\n",
    "}\n",
    "\n",
    "grid = GridSearchCV(\n",
    "    pipeline, param_grid, cv=5, scoring='r2', n_jobs=-1\n",
    ")\n",
    "\n",
    "grid.fit(X_train,y_train)"
   ]
  },
  {
   "cell_type": "code",
   "execution_count": 410,
   "id": "cf604627",
   "metadata": {},
   "outputs": [
    {
     "name": "stdout",
     "output_type": "stream",
     "text": [
      "R2 score:  0.7619894236717223\n",
      "Intercept:  1.0045454545454546\n",
      "Coefficient:  [ 0.01927276 -0.09330182 -0.01608164  0.09052705  0.10374348 -0.05772738\n",
      " -0.04526235  0.01406578  0.08292079 -0.01886884 -0.07398967 -0.08051055\n",
      " -0.07815902  0.05710592  0.08281161  0.0160257  -0.06776027  0.06562305\n",
      "  0.09823088  0.05538597]\n"
     ]
    }
   ],
   "source": [
    "y_pred_poly = grid.predict(X_test)\n",
    "print('R2 score: ', r2_score(y_test, y_pred_poly))\n",
    "best_model = grid.best_estimator_\n",
    "\n",
    "intercept = best_model.named_steps['lr'].intercept_\n",
    "coef = best_model.named_steps['lr'].coef_\n",
    "\n",
    "print('Intercept: ', intercept)\n",
    "print('Coefficient: ', coef)\n"
   ]
  },
  {
   "cell_type": "markdown",
   "id": "4cfdc3ff",
   "metadata": {},
   "source": [
    "# Ridge Regression"
   ]
  },
  {
   "cell_type": "code",
   "execution_count": null,
   "id": "38b30795",
   "metadata": {},
   "outputs": [
    {
     "name": "stdout",
     "output_type": "stream",
     "text": [
      "Best alpha:  483.2930238571752\n",
      "Best CV score (R2):  0.7629090275110035\n"
     ]
    },
    {
     "data": {
      "text/html": [
       "<style>#sk-container-id-13 {\n",
       "  /* Definition of color scheme common for light and dark mode */\n",
       "  --sklearn-color-text: #000;\n",
       "  --sklearn-color-text-muted: #666;\n",
       "  --sklearn-color-line: gray;\n",
       "  /* Definition of color scheme for unfitted estimators */\n",
       "  --sklearn-color-unfitted-level-0: #fff5e6;\n",
       "  --sklearn-color-unfitted-level-1: #f6e4d2;\n",
       "  --sklearn-color-unfitted-level-2: #ffe0b3;\n",
       "  --sklearn-color-unfitted-level-3: chocolate;\n",
       "  /* Definition of color scheme for fitted estimators */\n",
       "  --sklearn-color-fitted-level-0: #f0f8ff;\n",
       "  --sklearn-color-fitted-level-1: #d4ebff;\n",
       "  --sklearn-color-fitted-level-2: #b3dbfd;\n",
       "  --sklearn-color-fitted-level-3: cornflowerblue;\n",
       "\n",
       "  /* Specific color for light theme */\n",
       "  --sklearn-color-text-on-default-background: var(--sg-text-color, var(--theme-code-foreground, var(--jp-content-font-color1, black)));\n",
       "  --sklearn-color-background: var(--sg-background-color, var(--theme-background, var(--jp-layout-color0, white)));\n",
       "  --sklearn-color-border-box: var(--sg-text-color, var(--theme-code-foreground, var(--jp-content-font-color1, black)));\n",
       "  --sklearn-color-icon: #696969;\n",
       "\n",
       "  @media (prefers-color-scheme: dark) {\n",
       "    /* Redefinition of color scheme for dark theme */\n",
       "    --sklearn-color-text-on-default-background: var(--sg-text-color, var(--theme-code-foreground, var(--jp-content-font-color1, white)));\n",
       "    --sklearn-color-background: var(--sg-background-color, var(--theme-background, var(--jp-layout-color0, #111)));\n",
       "    --sklearn-color-border-box: var(--sg-text-color, var(--theme-code-foreground, var(--jp-content-font-color1, white)));\n",
       "    --sklearn-color-icon: #878787;\n",
       "  }\n",
       "}\n",
       "\n",
       "#sk-container-id-13 {\n",
       "  color: var(--sklearn-color-text);\n",
       "}\n",
       "\n",
       "#sk-container-id-13 pre {\n",
       "  padding: 0;\n",
       "}\n",
       "\n",
       "#sk-container-id-13 input.sk-hidden--visually {\n",
       "  border: 0;\n",
       "  clip: rect(1px 1px 1px 1px);\n",
       "  clip: rect(1px, 1px, 1px, 1px);\n",
       "  height: 1px;\n",
       "  margin: -1px;\n",
       "  overflow: hidden;\n",
       "  padding: 0;\n",
       "  position: absolute;\n",
       "  width: 1px;\n",
       "}\n",
       "\n",
       "#sk-container-id-13 div.sk-dashed-wrapped {\n",
       "  border: 1px dashed var(--sklearn-color-line);\n",
       "  margin: 0 0.4em 0.5em 0.4em;\n",
       "  box-sizing: border-box;\n",
       "  padding-bottom: 0.4em;\n",
       "  background-color: var(--sklearn-color-background);\n",
       "}\n",
       "\n",
       "#sk-container-id-13 div.sk-container {\n",
       "  /* jupyter's `normalize.less` sets `[hidden] { display: none; }`\n",
       "     but bootstrap.min.css set `[hidden] { display: none !important; }`\n",
       "     so we also need the `!important` here to be able to override the\n",
       "     default hidden behavior on the sphinx rendered scikit-learn.org.\n",
       "     See: https://github.com/scikit-learn/scikit-learn/issues/21755 */\n",
       "  display: inline-block !important;\n",
       "  position: relative;\n",
       "}\n",
       "\n",
       "#sk-container-id-13 div.sk-text-repr-fallback {\n",
       "  display: none;\n",
       "}\n",
       "\n",
       "div.sk-parallel-item,\n",
       "div.sk-serial,\n",
       "div.sk-item {\n",
       "  /* draw centered vertical line to link estimators */\n",
       "  background-image: linear-gradient(var(--sklearn-color-text-on-default-background), var(--sklearn-color-text-on-default-background));\n",
       "  background-size: 2px 100%;\n",
       "  background-repeat: no-repeat;\n",
       "  background-position: center center;\n",
       "}\n",
       "\n",
       "/* Parallel-specific style estimator block */\n",
       "\n",
       "#sk-container-id-13 div.sk-parallel-item::after {\n",
       "  content: \"\";\n",
       "  width: 100%;\n",
       "  border-bottom: 2px solid var(--sklearn-color-text-on-default-background);\n",
       "  flex-grow: 1;\n",
       "}\n",
       "\n",
       "#sk-container-id-13 div.sk-parallel {\n",
       "  display: flex;\n",
       "  align-items: stretch;\n",
       "  justify-content: center;\n",
       "  background-color: var(--sklearn-color-background);\n",
       "  position: relative;\n",
       "}\n",
       "\n",
       "#sk-container-id-13 div.sk-parallel-item {\n",
       "  display: flex;\n",
       "  flex-direction: column;\n",
       "}\n",
       "\n",
       "#sk-container-id-13 div.sk-parallel-item:first-child::after {\n",
       "  align-self: flex-end;\n",
       "  width: 50%;\n",
       "}\n",
       "\n",
       "#sk-container-id-13 div.sk-parallel-item:last-child::after {\n",
       "  align-self: flex-start;\n",
       "  width: 50%;\n",
       "}\n",
       "\n",
       "#sk-container-id-13 div.sk-parallel-item:only-child::after {\n",
       "  width: 0;\n",
       "}\n",
       "\n",
       "/* Serial-specific style estimator block */\n",
       "\n",
       "#sk-container-id-13 div.sk-serial {\n",
       "  display: flex;\n",
       "  flex-direction: column;\n",
       "  align-items: center;\n",
       "  background-color: var(--sklearn-color-background);\n",
       "  padding-right: 1em;\n",
       "  padding-left: 1em;\n",
       "}\n",
       "\n",
       "\n",
       "/* Toggleable style: style used for estimator/Pipeline/ColumnTransformer box that is\n",
       "clickable and can be expanded/collapsed.\n",
       "- Pipeline and ColumnTransformer use this feature and define the default style\n",
       "- Estimators will overwrite some part of the style using the `sk-estimator` class\n",
       "*/\n",
       "\n",
       "/* Pipeline and ColumnTransformer style (default) */\n",
       "\n",
       "#sk-container-id-13 div.sk-toggleable {\n",
       "  /* Default theme specific background. It is overwritten whether we have a\n",
       "  specific estimator or a Pipeline/ColumnTransformer */\n",
       "  background-color: var(--sklearn-color-background);\n",
       "}\n",
       "\n",
       "/* Toggleable label */\n",
       "#sk-container-id-13 label.sk-toggleable__label {\n",
       "  cursor: pointer;\n",
       "  display: flex;\n",
       "  width: 100%;\n",
       "  margin-bottom: 0;\n",
       "  padding: 0.5em;\n",
       "  box-sizing: border-box;\n",
       "  text-align: center;\n",
       "  align-items: start;\n",
       "  justify-content: space-between;\n",
       "  gap: 0.5em;\n",
       "}\n",
       "\n",
       "#sk-container-id-13 label.sk-toggleable__label .caption {\n",
       "  font-size: 0.6rem;\n",
       "  font-weight: lighter;\n",
       "  color: var(--sklearn-color-text-muted);\n",
       "}\n",
       "\n",
       "#sk-container-id-13 label.sk-toggleable__label-arrow:before {\n",
       "  /* Arrow on the left of the label */\n",
       "  content: \"▸\";\n",
       "  float: left;\n",
       "  margin-right: 0.25em;\n",
       "  color: var(--sklearn-color-icon);\n",
       "}\n",
       "\n",
       "#sk-container-id-13 label.sk-toggleable__label-arrow:hover:before {\n",
       "  color: var(--sklearn-color-text);\n",
       "}\n",
       "\n",
       "/* Toggleable content - dropdown */\n",
       "\n",
       "#sk-container-id-13 div.sk-toggleable__content {\n",
       "  max-height: 0;\n",
       "  max-width: 0;\n",
       "  overflow: hidden;\n",
       "  text-align: left;\n",
       "  /* unfitted */\n",
       "  background-color: var(--sklearn-color-unfitted-level-0);\n",
       "}\n",
       "\n",
       "#sk-container-id-13 div.sk-toggleable__content.fitted {\n",
       "  /* fitted */\n",
       "  background-color: var(--sklearn-color-fitted-level-0);\n",
       "}\n",
       "\n",
       "#sk-container-id-13 div.sk-toggleable__content pre {\n",
       "  margin: 0.2em;\n",
       "  border-radius: 0.25em;\n",
       "  color: var(--sklearn-color-text);\n",
       "  /* unfitted */\n",
       "  background-color: var(--sklearn-color-unfitted-level-0);\n",
       "}\n",
       "\n",
       "#sk-container-id-13 div.sk-toggleable__content.fitted pre {\n",
       "  /* unfitted */\n",
       "  background-color: var(--sklearn-color-fitted-level-0);\n",
       "}\n",
       "\n",
       "#sk-container-id-13 input.sk-toggleable__control:checked~div.sk-toggleable__content {\n",
       "  /* Expand drop-down */\n",
       "  max-height: 200px;\n",
       "  max-width: 100%;\n",
       "  overflow: auto;\n",
       "}\n",
       "\n",
       "#sk-container-id-13 input.sk-toggleable__control:checked~label.sk-toggleable__label-arrow:before {\n",
       "  content: \"▾\";\n",
       "}\n",
       "\n",
       "/* Pipeline/ColumnTransformer-specific style */\n",
       "\n",
       "#sk-container-id-13 div.sk-label input.sk-toggleable__control:checked~label.sk-toggleable__label {\n",
       "  color: var(--sklearn-color-text);\n",
       "  background-color: var(--sklearn-color-unfitted-level-2);\n",
       "}\n",
       "\n",
       "#sk-container-id-13 div.sk-label.fitted input.sk-toggleable__control:checked~label.sk-toggleable__label {\n",
       "  background-color: var(--sklearn-color-fitted-level-2);\n",
       "}\n",
       "\n",
       "/* Estimator-specific style */\n",
       "\n",
       "/* Colorize estimator box */\n",
       "#sk-container-id-13 div.sk-estimator input.sk-toggleable__control:checked~label.sk-toggleable__label {\n",
       "  /* unfitted */\n",
       "  background-color: var(--sklearn-color-unfitted-level-2);\n",
       "}\n",
       "\n",
       "#sk-container-id-13 div.sk-estimator.fitted input.sk-toggleable__control:checked~label.sk-toggleable__label {\n",
       "  /* fitted */\n",
       "  background-color: var(--sklearn-color-fitted-level-2);\n",
       "}\n",
       "\n",
       "#sk-container-id-13 div.sk-label label.sk-toggleable__label,\n",
       "#sk-container-id-13 div.sk-label label {\n",
       "  /* The background is the default theme color */\n",
       "  color: var(--sklearn-color-text-on-default-background);\n",
       "}\n",
       "\n",
       "/* On hover, darken the color of the background */\n",
       "#sk-container-id-13 div.sk-label:hover label.sk-toggleable__label {\n",
       "  color: var(--sklearn-color-text);\n",
       "  background-color: var(--sklearn-color-unfitted-level-2);\n",
       "}\n",
       "\n",
       "/* Label box, darken color on hover, fitted */\n",
       "#sk-container-id-13 div.sk-label.fitted:hover label.sk-toggleable__label.fitted {\n",
       "  color: var(--sklearn-color-text);\n",
       "  background-color: var(--sklearn-color-fitted-level-2);\n",
       "}\n",
       "\n",
       "/* Estimator label */\n",
       "\n",
       "#sk-container-id-13 div.sk-label label {\n",
       "  font-family: monospace;\n",
       "  font-weight: bold;\n",
       "  display: inline-block;\n",
       "  line-height: 1.2em;\n",
       "}\n",
       "\n",
       "#sk-container-id-13 div.sk-label-container {\n",
       "  text-align: center;\n",
       "}\n",
       "\n",
       "/* Estimator-specific */\n",
       "#sk-container-id-13 div.sk-estimator {\n",
       "  font-family: monospace;\n",
       "  border: 1px dotted var(--sklearn-color-border-box);\n",
       "  border-radius: 0.25em;\n",
       "  box-sizing: border-box;\n",
       "  margin-bottom: 0.5em;\n",
       "  /* unfitted */\n",
       "  background-color: var(--sklearn-color-unfitted-level-0);\n",
       "}\n",
       "\n",
       "#sk-container-id-13 div.sk-estimator.fitted {\n",
       "  /* fitted */\n",
       "  background-color: var(--sklearn-color-fitted-level-0);\n",
       "}\n",
       "\n",
       "/* on hover */\n",
       "#sk-container-id-13 div.sk-estimator:hover {\n",
       "  /* unfitted */\n",
       "  background-color: var(--sklearn-color-unfitted-level-2);\n",
       "}\n",
       "\n",
       "#sk-container-id-13 div.sk-estimator.fitted:hover {\n",
       "  /* fitted */\n",
       "  background-color: var(--sklearn-color-fitted-level-2);\n",
       "}\n",
       "\n",
       "/* Specification for estimator info (e.g. \"i\" and \"?\") */\n",
       "\n",
       "/* Common style for \"i\" and \"?\" */\n",
       "\n",
       ".sk-estimator-doc-link,\n",
       "a:link.sk-estimator-doc-link,\n",
       "a:visited.sk-estimator-doc-link {\n",
       "  float: right;\n",
       "  font-size: smaller;\n",
       "  line-height: 1em;\n",
       "  font-family: monospace;\n",
       "  background-color: var(--sklearn-color-background);\n",
       "  border-radius: 1em;\n",
       "  height: 1em;\n",
       "  width: 1em;\n",
       "  text-decoration: none !important;\n",
       "  margin-left: 0.5em;\n",
       "  text-align: center;\n",
       "  /* unfitted */\n",
       "  border: var(--sklearn-color-unfitted-level-1) 1pt solid;\n",
       "  color: var(--sklearn-color-unfitted-level-1);\n",
       "}\n",
       "\n",
       ".sk-estimator-doc-link.fitted,\n",
       "a:link.sk-estimator-doc-link.fitted,\n",
       "a:visited.sk-estimator-doc-link.fitted {\n",
       "  /* fitted */\n",
       "  border: var(--sklearn-color-fitted-level-1) 1pt solid;\n",
       "  color: var(--sklearn-color-fitted-level-1);\n",
       "}\n",
       "\n",
       "/* On hover */\n",
       "div.sk-estimator:hover .sk-estimator-doc-link:hover,\n",
       ".sk-estimator-doc-link:hover,\n",
       "div.sk-label-container:hover .sk-estimator-doc-link:hover,\n",
       ".sk-estimator-doc-link:hover {\n",
       "  /* unfitted */\n",
       "  background-color: var(--sklearn-color-unfitted-level-3);\n",
       "  color: var(--sklearn-color-background);\n",
       "  text-decoration: none;\n",
       "}\n",
       "\n",
       "div.sk-estimator.fitted:hover .sk-estimator-doc-link.fitted:hover,\n",
       ".sk-estimator-doc-link.fitted:hover,\n",
       "div.sk-label-container:hover .sk-estimator-doc-link.fitted:hover,\n",
       ".sk-estimator-doc-link.fitted:hover {\n",
       "  /* fitted */\n",
       "  background-color: var(--sklearn-color-fitted-level-3);\n",
       "  color: var(--sklearn-color-background);\n",
       "  text-decoration: none;\n",
       "}\n",
       "\n",
       "/* Span, style for the box shown on hovering the info icon */\n",
       ".sk-estimator-doc-link span {\n",
       "  display: none;\n",
       "  z-index: 9999;\n",
       "  position: relative;\n",
       "  font-weight: normal;\n",
       "  right: .2ex;\n",
       "  padding: .5ex;\n",
       "  margin: .5ex;\n",
       "  width: min-content;\n",
       "  min-width: 20ex;\n",
       "  max-width: 50ex;\n",
       "  color: var(--sklearn-color-text);\n",
       "  box-shadow: 2pt 2pt 4pt #999;\n",
       "  /* unfitted */\n",
       "  background: var(--sklearn-color-unfitted-level-0);\n",
       "  border: .5pt solid var(--sklearn-color-unfitted-level-3);\n",
       "}\n",
       "\n",
       ".sk-estimator-doc-link.fitted span {\n",
       "  /* fitted */\n",
       "  background: var(--sklearn-color-fitted-level-0);\n",
       "  border: var(--sklearn-color-fitted-level-3);\n",
       "}\n",
       "\n",
       ".sk-estimator-doc-link:hover span {\n",
       "  display: block;\n",
       "}\n",
       "\n",
       "/* \"?\"-specific style due to the `<a>` HTML tag */\n",
       "\n",
       "#sk-container-id-13 a.estimator_doc_link {\n",
       "  float: right;\n",
       "  font-size: 1rem;\n",
       "  line-height: 1em;\n",
       "  font-family: monospace;\n",
       "  background-color: var(--sklearn-color-background);\n",
       "  border-radius: 1rem;\n",
       "  height: 1rem;\n",
       "  width: 1rem;\n",
       "  text-decoration: none;\n",
       "  /* unfitted */\n",
       "  color: var(--sklearn-color-unfitted-level-1);\n",
       "  border: var(--sklearn-color-unfitted-level-1) 1pt solid;\n",
       "}\n",
       "\n",
       "#sk-container-id-13 a.estimator_doc_link.fitted {\n",
       "  /* fitted */\n",
       "  border: var(--sklearn-color-fitted-level-1) 1pt solid;\n",
       "  color: var(--sklearn-color-fitted-level-1);\n",
       "}\n",
       "\n",
       "/* On hover */\n",
       "#sk-container-id-13 a.estimator_doc_link:hover {\n",
       "  /* unfitted */\n",
       "  background-color: var(--sklearn-color-unfitted-level-3);\n",
       "  color: var(--sklearn-color-background);\n",
       "  text-decoration: none;\n",
       "}\n",
       "\n",
       "#sk-container-id-13 a.estimator_doc_link.fitted:hover {\n",
       "  /* fitted */\n",
       "  background-color: var(--sklearn-color-fitted-level-3);\n",
       "}\n",
       "</style><div id=\"sk-container-id-13\" class=\"sk-top-container\"><div class=\"sk-text-repr-fallback\"><pre>Ridge(alpha=np.float64(483.2930238571752))</pre><b>In a Jupyter environment, please rerun this cell to show the HTML representation or trust the notebook. <br />On GitHub, the HTML representation is unable to render, please try loading this page with nbviewer.org.</b></div><div class=\"sk-container\" hidden><div class=\"sk-item\"><div class=\"sk-estimator fitted sk-toggleable\"><input class=\"sk-toggleable__control sk-hidden--visually\" id=\"sk-estimator-id-26\" type=\"checkbox\" checked><label for=\"sk-estimator-id-26\" class=\"sk-toggleable__label fitted sk-toggleable__label-arrow\"><div><div>Ridge</div></div><div><a class=\"sk-estimator-doc-link fitted\" rel=\"noreferrer\" target=\"_blank\" href=\"https://scikit-learn.org/1.6/modules/generated/sklearn.linear_model.Ridge.html\">?<span>Documentation for Ridge</span></a><span class=\"sk-estimator-doc-link fitted\">i<span>Fitted</span></span></div></label><div class=\"sk-toggleable__content fitted\"><pre>Ridge(alpha=np.float64(483.2930238571752))</pre></div> </div></div></div></div>"
      ],
      "text/plain": [
       "Ridge(alpha=np.float64(483.2930238571752))"
      ]
     },
     "execution_count": 419,
     "metadata": {},
     "output_type": "execute_result"
    }
   ],
   "source": [
    "from sklearn.linear_model import Ridge\n",
    "\n",
    "ridge = Ridge()\n",
    "\n",
    "param_grid = {\n",
    "    'alpha': np.logspace(-3,3,20)\n",
    "}\n",
    "\n",
    "grid_search = GridSearchCV(ridge, param_grid, cv=5, scoring='r2')\n",
    "grid_search.fit(X_train, y_train)\n",
    "\n",
    "print('Best alpha: ', grid_search.best_params_['alpha'])\n",
    "print('Best CV score (R2): ', grid_search.best_score_)\n",
    "grid_search.best_estimator_\n",
    " "
   ]
  }
 ],
 "metadata": {
  "kernelspec": {
   "display_name": "universal",
   "language": "python",
   "name": "python3"
  },
  "language_info": {
   "codemirror_mode": {
    "name": "ipython",
    "version": 3
   },
   "file_extension": ".py",
   "mimetype": "text/x-python",
   "name": "python",
   "nbconvert_exporter": "python",
   "pygments_lexer": "ipython3",
   "version": "3.9.23"
  }
 },
 "nbformat": 4,
 "nbformat_minor": 5
}
