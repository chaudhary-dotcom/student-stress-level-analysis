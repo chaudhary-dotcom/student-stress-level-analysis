{
 "cells": [
  {
   "cell_type": "code",
   "execution_count": 2,
   "id": "a7661925",
   "metadata": {},
   "outputs": [],
   "source": [
    "import numpy as np\n",
    "import pandas as pd\n",
    "import matplotlib.pyplot as plt\n",
    "\n",
    "from sklearn.model_selection import train_test_split\n",
    "from sklearn.preprocessing import StandardScaler\n",
    "from sklearn.pipeline import Pipeline\n",
    "from sklearn.metrics import r2_score\n",
    "import time\n",
    "import warnings\n",
    "warnings.filterwarnings('ignore')"
   ]
  },
  {
   "cell_type": "code",
   "execution_count": 3,
   "id": "b0211ba2",
   "metadata": {},
   "outputs": [],
   "source": [
    "df = pd.read_csv('StressLevelDataset.csv')"
   ]
  },
  {
   "cell_type": "code",
   "execution_count": 4,
   "id": "0ea27705",
   "metadata": {},
   "outputs": [
    {
     "data": {
      "text/html": [
       "<div>\n",
       "<style scoped>\n",
       "    .dataframe tbody tr th:only-of-type {\n",
       "        vertical-align: middle;\n",
       "    }\n",
       "\n",
       "    .dataframe tbody tr th {\n",
       "        vertical-align: top;\n",
       "    }\n",
       "\n",
       "    .dataframe thead th {\n",
       "        text-align: right;\n",
       "    }\n",
       "</style>\n",
       "<table border=\"1\" class=\"dataframe\">\n",
       "  <thead>\n",
       "    <tr style=\"text-align: right;\">\n",
       "      <th></th>\n",
       "      <th>anxiety_level</th>\n",
       "      <th>self_esteem</th>\n",
       "      <th>mental_health_history</th>\n",
       "      <th>depression</th>\n",
       "      <th>headache</th>\n",
       "      <th>blood_pressure</th>\n",
       "      <th>sleep_quality</th>\n",
       "      <th>breathing_problem</th>\n",
       "      <th>noise_level</th>\n",
       "      <th>living_conditions</th>\n",
       "      <th>...</th>\n",
       "      <th>basic_needs</th>\n",
       "      <th>academic_performance</th>\n",
       "      <th>study_load</th>\n",
       "      <th>teacher_student_relationship</th>\n",
       "      <th>future_career_concerns</th>\n",
       "      <th>social_support</th>\n",
       "      <th>peer_pressure</th>\n",
       "      <th>extracurricular_activities</th>\n",
       "      <th>bullying</th>\n",
       "      <th>stress_level</th>\n",
       "    </tr>\n",
       "  </thead>\n",
       "  <tbody>\n",
       "    <tr>\n",
       "      <th>0</th>\n",
       "      <td>14</td>\n",
       "      <td>20</td>\n",
       "      <td>0</td>\n",
       "      <td>11</td>\n",
       "      <td>2</td>\n",
       "      <td>1</td>\n",
       "      <td>2</td>\n",
       "      <td>4</td>\n",
       "      <td>2</td>\n",
       "      <td>3</td>\n",
       "      <td>...</td>\n",
       "      <td>2</td>\n",
       "      <td>3</td>\n",
       "      <td>2</td>\n",
       "      <td>3</td>\n",
       "      <td>3</td>\n",
       "      <td>2</td>\n",
       "      <td>3</td>\n",
       "      <td>3</td>\n",
       "      <td>2</td>\n",
       "      <td>1</td>\n",
       "    </tr>\n",
       "    <tr>\n",
       "      <th>1</th>\n",
       "      <td>15</td>\n",
       "      <td>8</td>\n",
       "      <td>1</td>\n",
       "      <td>15</td>\n",
       "      <td>5</td>\n",
       "      <td>3</td>\n",
       "      <td>1</td>\n",
       "      <td>4</td>\n",
       "      <td>3</td>\n",
       "      <td>1</td>\n",
       "      <td>...</td>\n",
       "      <td>2</td>\n",
       "      <td>1</td>\n",
       "      <td>4</td>\n",
       "      <td>1</td>\n",
       "      <td>5</td>\n",
       "      <td>1</td>\n",
       "      <td>4</td>\n",
       "      <td>5</td>\n",
       "      <td>5</td>\n",
       "      <td>2</td>\n",
       "    </tr>\n",
       "    <tr>\n",
       "      <th>2</th>\n",
       "      <td>12</td>\n",
       "      <td>18</td>\n",
       "      <td>1</td>\n",
       "      <td>14</td>\n",
       "      <td>2</td>\n",
       "      <td>1</td>\n",
       "      <td>2</td>\n",
       "      <td>2</td>\n",
       "      <td>2</td>\n",
       "      <td>2</td>\n",
       "      <td>...</td>\n",
       "      <td>2</td>\n",
       "      <td>2</td>\n",
       "      <td>3</td>\n",
       "      <td>3</td>\n",
       "      <td>2</td>\n",
       "      <td>2</td>\n",
       "      <td>3</td>\n",
       "      <td>2</td>\n",
       "      <td>2</td>\n",
       "      <td>1</td>\n",
       "    </tr>\n",
       "    <tr>\n",
       "      <th>3</th>\n",
       "      <td>16</td>\n",
       "      <td>12</td>\n",
       "      <td>1</td>\n",
       "      <td>15</td>\n",
       "      <td>4</td>\n",
       "      <td>3</td>\n",
       "      <td>1</td>\n",
       "      <td>3</td>\n",
       "      <td>4</td>\n",
       "      <td>2</td>\n",
       "      <td>...</td>\n",
       "      <td>2</td>\n",
       "      <td>2</td>\n",
       "      <td>4</td>\n",
       "      <td>1</td>\n",
       "      <td>4</td>\n",
       "      <td>1</td>\n",
       "      <td>4</td>\n",
       "      <td>4</td>\n",
       "      <td>5</td>\n",
       "      <td>2</td>\n",
       "    </tr>\n",
       "    <tr>\n",
       "      <th>4</th>\n",
       "      <td>16</td>\n",
       "      <td>28</td>\n",
       "      <td>0</td>\n",
       "      <td>7</td>\n",
       "      <td>2</td>\n",
       "      <td>3</td>\n",
       "      <td>5</td>\n",
       "      <td>1</td>\n",
       "      <td>3</td>\n",
       "      <td>2</td>\n",
       "      <td>...</td>\n",
       "      <td>3</td>\n",
       "      <td>4</td>\n",
       "      <td>3</td>\n",
       "      <td>1</td>\n",
       "      <td>2</td>\n",
       "      <td>1</td>\n",
       "      <td>5</td>\n",
       "      <td>0</td>\n",
       "      <td>5</td>\n",
       "      <td>1</td>\n",
       "    </tr>\n",
       "  </tbody>\n",
       "</table>\n",
       "<p>5 rows × 21 columns</p>\n",
       "</div>"
      ],
      "text/plain": [
       "   anxiety_level  self_esteem  mental_health_history  depression  headache  \\\n",
       "0             14           20                      0          11         2   \n",
       "1             15            8                      1          15         5   \n",
       "2             12           18                      1          14         2   \n",
       "3             16           12                      1          15         4   \n",
       "4             16           28                      0           7         2   \n",
       "\n",
       "   blood_pressure  sleep_quality  breathing_problem  noise_level  \\\n",
       "0               1              2                  4            2   \n",
       "1               3              1                  4            3   \n",
       "2               1              2                  2            2   \n",
       "3               3              1                  3            4   \n",
       "4               3              5                  1            3   \n",
       "\n",
       "   living_conditions  ...  basic_needs  academic_performance  study_load  \\\n",
       "0                  3  ...            2                     3           2   \n",
       "1                  1  ...            2                     1           4   \n",
       "2                  2  ...            2                     2           3   \n",
       "3                  2  ...            2                     2           4   \n",
       "4                  2  ...            3                     4           3   \n",
       "\n",
       "   teacher_student_relationship  future_career_concerns  social_support  \\\n",
       "0                             3                       3               2   \n",
       "1                             1                       5               1   \n",
       "2                             3                       2               2   \n",
       "3                             1                       4               1   \n",
       "4                             1                       2               1   \n",
       "\n",
       "   peer_pressure  extracurricular_activities  bullying  stress_level  \n",
       "0              3                           3         2             1  \n",
       "1              4                           5         5             2  \n",
       "2              3                           2         2             1  \n",
       "3              4                           4         5             2  \n",
       "4              5                           0         5             1  \n",
       "\n",
       "[5 rows x 21 columns]"
      ]
     },
     "execution_count": 4,
     "metadata": {},
     "output_type": "execute_result"
    }
   ],
   "source": [
    "df.head()"
   ]
  },
  {
   "cell_type": "code",
   "execution_count": 5,
   "id": "04325bbc",
   "metadata": {},
   "outputs": [
    {
     "data": {
      "text/plain": [
       "(1100, 21)"
      ]
     },
     "execution_count": 5,
     "metadata": {},
     "output_type": "execute_result"
    }
   ],
   "source": [
    "df.shape"
   ]
  },
  {
   "cell_type": "code",
   "execution_count": 6,
   "id": "943dd1dc",
   "metadata": {},
   "outputs": [
    {
     "data": {
      "text/plain": [
       "stress_level\n",
       "0    373\n",
       "2    369\n",
       "1    358\n",
       "Name: count, dtype: int64"
      ]
     },
     "execution_count": 6,
     "metadata": {},
     "output_type": "execute_result"
    }
   ],
   "source": [
    "df['stress_level'].value_counts()"
   ]
  },
  {
   "cell_type": "code",
   "execution_count": 7,
   "id": "0cb44013",
   "metadata": {},
   "outputs": [],
   "source": [
    "X = df.iloc[:,:20]\n",
    "y = df.iloc[:,-1]\n"
   ]
  },
  {
   "cell_type": "code",
   "execution_count": 8,
   "id": "1ca23aeb",
   "metadata": {},
   "outputs": [],
   "source": [
    "X_train,X_test,y_train,y_test = train_test_split(X,y,test_size=0.2, random_state=2)"
   ]
  },
  {
   "cell_type": "markdown",
   "id": "cf0b9952",
   "metadata": {},
   "source": [
    "## Standard Scaler"
   ]
  },
  {
   "cell_type": "code",
   "execution_count": 12,
   "id": "66d8ab1b",
   "metadata": {},
   "outputs": [],
   "source": [
    "# scaler\n",
    "scaler = StandardScaler()\n",
    "\n",
    "X_train_scaled = scaler.fit_transform(X_train)\n",
    "X_test_scaled = scaler.transform(X_test)"
   ]
  },
  {
   "cell_type": "markdown",
   "id": "a1bfaf2e",
   "metadata": {},
   "source": [
    "# PCA"
   ]
  },
  {
   "cell_type": "code",
   "execution_count": 13,
   "id": "488f4fdf",
   "metadata": {},
   "outputs": [
    {
     "name": "stdout",
     "output_type": "stream",
     "text": [
      "16 Number of feature that preserve 95% of the variance out of 21 columns.\n"
     ]
    },
    {
     "data": {
      "application/vnd.plotly.v1+json": {
       "config": {
        "plotlyServerURL": "https://plot.ly"
       },
       "data": [
        {
         "hovertemplate": "PC1=%{x}<br>PC2=%{y}<br>target=%{marker.color}<extra></extra>",
         "legendgroup": "",
         "marker": {
          "color": {
           "bdata": "AAEAAAACAAECAAICAQABAgEBAgIAAgACAQABAAEAAgABAAACAgIAAAACAAECAQEAAgAAAgEBAAIAAAEAAgACAgACAAICAQEBAgEAAgIBAAAAAgIAAgABAgIBAgICAgEBAAAAAQIBAQAAAgICAAACAgIBAgEAAQAAAgECAAABAgEAAgIAAgAAAQICAAIAAQABAQECAQECAAABAgABAgAAAgAAAgACAgIBAAIAAgABAQEBAQABAQEAAQAAAAACAgABAgACAQICAQEBAQICAQAAAQEAAQEBAgECAQIAAAEAAAECAAEAAgEBAAICAAIBAQIAAAICAgEAAgACAAICAgAAAgACAQIBAAACAQACAAABAgECAQIAAAIAAQICAQEBAAACAQEAAgICAgEBAQICAgABAQACAgEAAgEBAgEBAgICAQIAAAICAAICAgIAAgABAgEBAQICAgEBAAEBAQEBAQEAAAEBAgEBAQEAAgECAAIBAgEAAAICAAIAAAIAAQIBAQIAAQEBAAACAgAAAQABAQIBAAECAgACAAACAAEAAAIAAAIAAQICAAEAAQACAAABAAEAAQEBAgAAAQEAAAACAgIBAgAAAgEAAQEAAQEAAgIAAQIBAgABAgABAgEBAAAAAgEAAAIBAQECAgABAgIAAgECAQICAQECAQIBAQACAQECAAABAAEAAgIAAgACAgECAQECAAICAAICAAEAAAICAQEAAQAAAgIBAgAAAgIBAAICAAAAAgAAAAIAAgABAAIAAgEBAQAAAAIAAQEBAAIAAAACAgIBAgECAAIAAgECAgECAQEAAQIAAgAAAQEBAgABAQECAQACAgABAgEBAAABAAEBAQEAAAAAAQEAAQAAAQABAAICAAECAAEAAgACAAEAAgAAAAAAAgABAgEAAQICAAIBAQECAgECAQEBAAICAgICAgEBAgICAAIBAAEAAgICAQIBAAEBAAABAQEAAgEAAAABAgEBAAEBAgECAAABAQEBAgICAgABAgECAQECAAACAAECAQECAgECAQAAAAACAAIAAQEAAAICAQIBAgAAAAAAAQICAgACAAICAAIBAQICAQICAgEAAAEAAAIAAgABAQIAAAAAAgIAAgIBAAIAAQEBAQAAAQAAAAIBAgECAAEBAQABAgEBAAECAQIAAAEAAgEBAg==",
           "dtype": "i1"
          },
          "coloraxis": "coloraxis",
          "opacity": 0.7,
          "size": 5,
          "symbol": "circle"
         },
         "mode": "markers",
         "name": "",
         "scene": "scene",
         "showlegend": false,
         "type": "scatter3d",
         "x": {
          "bdata": "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",
          "dtype": "f8"
         },
         "y": {
          "bdata": "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",
          "dtype": "f8"
         },
         "z": {
          "bdata": "AAEAAAACAAECAAICAQABAgEBAgIAAgACAQABAAEAAgABAAACAgIAAAACAAECAQEAAgAAAgEBAAIAAAEAAgACAgACAAICAQEBAgEAAgIBAAAAAgIAAgABAgIBAgICAgEBAAAAAQIBAQAAAgICAAACAgIBAgEAAQAAAgECAAABAgEAAgIAAgAAAQICAAIAAQABAQECAQECAAABAgABAgAAAgAAAgACAgIBAAIAAgABAQEBAQABAQEAAQAAAAACAgABAgACAQICAQEBAQICAQAAAQEAAQEBAgECAQIAAAEAAAECAAEAAgEBAAICAAIBAQIAAAICAgEAAgACAAICAgAAAgACAQIBAAACAQACAAABAgECAQIAAAIAAQICAQEBAAACAQEAAgICAgEBAQICAgABAQACAgEAAgEBAgEBAgICAQIAAAICAAICAgIAAgABAgEBAQICAgEBAAEBAQEBAQEAAAEBAgEBAQEAAgECAAIBAgEAAAICAAIAAAIAAQIBAQIAAQEBAAACAgAAAQABAQIBAAECAgACAAACAAEAAAIAAAIAAQICAAEAAQACAAABAAEAAQEBAgAAAQEAAAACAgIBAgAAAgEAAQEAAQEAAgIAAQIBAgABAgABAgEBAAAAAgEAAAIBAQECAgABAgIAAgECAQICAQECAQIBAQACAQECAAABAAEAAgIAAgACAgECAQECAAICAAICAAEAAAICAQEAAQAAAgIBAgAAAgIBAAICAAAAAgAAAAIAAgABAAIAAgEBAQAAAAIAAQEBAAIAAAACAgIBAgECAAIAAgECAgECAQEAAQIAAgAAAQEBAgABAQECAQACAgABAgEBAAABAAEBAQEAAAAAAQEAAQAAAQABAAICAAECAAEAAgACAAEAAgAAAAAAAgABAgEAAQICAAIBAQECAgECAQEBAAICAgICAgEBAgICAAIBAAEAAgICAQIBAAEBAAABAQEAAgEAAAABAgEBAAEBAgECAAABAQEBAgICAgABAgECAQECAAACAAECAQECAgECAQAAAAACAAIAAQEAAAICAQIBAgAAAAAAAQICAgACAAICAAIBAQICAQICAgEAAAEAAAIAAgABAQIAAAAAAgIAAgIBAAIAAQEBAQAAAQAAAAIBAgECAAEBAQABAgEBAAECAQIAAAEAAgEBAg==",
          "dtype": "i1"
         }
        }
       ],
       "layout": {
        "coloraxis": {
         "colorbar": {
          "title": {
           "text": "target"
          }
         },
         "colorscale": [
          [
           0,
           "#0d0887"
          ],
          [
           0.1111111111111111,
           "#46039f"
          ],
          [
           0.2222222222222222,
           "#7201a8"
          ],
          [
           0.3333333333333333,
           "#9c179e"
          ],
          [
           0.4444444444444444,
           "#bd3786"
          ],
          [
           0.5555555555555556,
           "#d8576b"
          ],
          [
           0.6666666666666666,
           "#ed7953"
          ],
          [
           0.7777777777777778,
           "#fb9f3a"
          ],
          [
           0.8888888888888888,
           "#fdca26"
          ],
          [
           1,
           "#f0f921"
          ]
         ]
        },
        "legend": {
         "tracegroupgap": 0
        },
        "margin": {
         "t": 60
        },
        "scene": {
         "domain": {
          "x": [
           0,
           1
          ],
          "y": [
           0,
           1
          ]
         },
         "xaxis": {
          "title": {
           "text": "PC1"
          }
         },
         "yaxis": {
          "title": {
           "text": "PC2"
          }
         },
         "zaxis": {
          "title": {
           "text": "target"
          }
         }
        },
        "template": {
         "data": {
          "bar": [
           {
            "error_x": {
             "color": "#2a3f5f"
            },
            "error_y": {
             "color": "#2a3f5f"
            },
            "marker": {
             "line": {
              "color": "#E5ECF6",
              "width": 0.5
             },
             "pattern": {
              "fillmode": "overlay",
              "size": 10,
              "solidity": 0.2
             }
            },
            "type": "bar"
           }
          ],
          "barpolar": [
           {
            "marker": {
             "line": {
              "color": "#E5ECF6",
              "width": 0.5
             },
             "pattern": {
              "fillmode": "overlay",
              "size": 10,
              "solidity": 0.2
             }
            },
            "type": "barpolar"
           }
          ],
          "carpet": [
           {
            "aaxis": {
             "endlinecolor": "#2a3f5f",
             "gridcolor": "white",
             "linecolor": "white",
             "minorgridcolor": "white",
             "startlinecolor": "#2a3f5f"
            },
            "baxis": {
             "endlinecolor": "#2a3f5f",
             "gridcolor": "white",
             "linecolor": "white",
             "minorgridcolor": "white",
             "startlinecolor": "#2a3f5f"
            },
            "type": "carpet"
           }
          ],
          "choropleth": [
           {
            "colorbar": {
             "outlinewidth": 0,
             "ticks": ""
            },
            "type": "choropleth"
           }
          ],
          "contour": [
           {
            "colorbar": {
             "outlinewidth": 0,
             "ticks": ""
            },
            "colorscale": [
             [
              0,
              "#0d0887"
             ],
             [
              0.1111111111111111,
              "#46039f"
             ],
             [
              0.2222222222222222,
              "#7201a8"
             ],
             [
              0.3333333333333333,
              "#9c179e"
             ],
             [
              0.4444444444444444,
              "#bd3786"
             ],
             [
              0.5555555555555556,
              "#d8576b"
             ],
             [
              0.6666666666666666,
              "#ed7953"
             ],
             [
              0.7777777777777778,
              "#fb9f3a"
             ],
             [
              0.8888888888888888,
              "#fdca26"
             ],
             [
              1,
              "#f0f921"
             ]
            ],
            "type": "contour"
           }
          ],
          "contourcarpet": [
           {
            "colorbar": {
             "outlinewidth": 0,
             "ticks": ""
            },
            "type": "contourcarpet"
           }
          ],
          "heatmap": [
           {
            "colorbar": {
             "outlinewidth": 0,
             "ticks": ""
            },
            "colorscale": [
             [
              0,
              "#0d0887"
             ],
             [
              0.1111111111111111,
              "#46039f"
             ],
             [
              0.2222222222222222,
              "#7201a8"
             ],
             [
              0.3333333333333333,
              "#9c179e"
             ],
             [
              0.4444444444444444,
              "#bd3786"
             ],
             [
              0.5555555555555556,
              "#d8576b"
             ],
             [
              0.6666666666666666,
              "#ed7953"
             ],
             [
              0.7777777777777778,
              "#fb9f3a"
             ],
             [
              0.8888888888888888,
              "#fdca26"
             ],
             [
              1,
              "#f0f921"
             ]
            ],
            "type": "heatmap"
           }
          ],
          "histogram": [
           {
            "marker": {
             "pattern": {
              "fillmode": "overlay",
              "size": 10,
              "solidity": 0.2
             }
            },
            "type": "histogram"
           }
          ],
          "histogram2d": [
           {
            "colorbar": {
             "outlinewidth": 0,
             "ticks": ""
            },
            "colorscale": [
             [
              0,
              "#0d0887"
             ],
             [
              0.1111111111111111,
              "#46039f"
             ],
             [
              0.2222222222222222,
              "#7201a8"
             ],
             [
              0.3333333333333333,
              "#9c179e"
             ],
             [
              0.4444444444444444,
              "#bd3786"
             ],
             [
              0.5555555555555556,
              "#d8576b"
             ],
             [
              0.6666666666666666,
              "#ed7953"
             ],
             [
              0.7777777777777778,
              "#fb9f3a"
             ],
             [
              0.8888888888888888,
              "#fdca26"
             ],
             [
              1,
              "#f0f921"
             ]
            ],
            "type": "histogram2d"
           }
          ],
          "histogram2dcontour": [
           {
            "colorbar": {
             "outlinewidth": 0,
             "ticks": ""
            },
            "colorscale": [
             [
              0,
              "#0d0887"
             ],
             [
              0.1111111111111111,
              "#46039f"
             ],
             [
              0.2222222222222222,
              "#7201a8"
             ],
             [
              0.3333333333333333,
              "#9c179e"
             ],
             [
              0.4444444444444444,
              "#bd3786"
             ],
             [
              0.5555555555555556,
              "#d8576b"
             ],
             [
              0.6666666666666666,
              "#ed7953"
             ],
             [
              0.7777777777777778,
              "#fb9f3a"
             ],
             [
              0.8888888888888888,
              "#fdca26"
             ],
             [
              1,
              "#f0f921"
             ]
            ],
            "type": "histogram2dcontour"
           }
          ],
          "mesh3d": [
           {
            "colorbar": {
             "outlinewidth": 0,
             "ticks": ""
            },
            "type": "mesh3d"
           }
          ],
          "parcoords": [
           {
            "line": {
             "colorbar": {
              "outlinewidth": 0,
              "ticks": ""
             }
            },
            "type": "parcoords"
           }
          ],
          "pie": [
           {
            "automargin": true,
            "type": "pie"
           }
          ],
          "scatter": [
           {
            "fillpattern": {
             "fillmode": "overlay",
             "size": 10,
             "solidity": 0.2
            },
            "type": "scatter"
           }
          ],
          "scatter3d": [
           {
            "line": {
             "colorbar": {
              "outlinewidth": 0,
              "ticks": ""
             }
            },
            "marker": {
             "colorbar": {
              "outlinewidth": 0,
              "ticks": ""
             }
            },
            "type": "scatter3d"
           }
          ],
          "scattercarpet": [
           {
            "marker": {
             "colorbar": {
              "outlinewidth": 0,
              "ticks": ""
             }
            },
            "type": "scattercarpet"
           }
          ],
          "scattergeo": [
           {
            "marker": {
             "colorbar": {
              "outlinewidth": 0,
              "ticks": ""
             }
            },
            "type": "scattergeo"
           }
          ],
          "scattergl": [
           {
            "marker": {
             "colorbar": {
              "outlinewidth": 0,
              "ticks": ""
             }
            },
            "type": "scattergl"
           }
          ],
          "scattermap": [
           {
            "marker": {
             "colorbar": {
              "outlinewidth": 0,
              "ticks": ""
             }
            },
            "type": "scattermap"
           }
          ],
          "scattermapbox": [
           {
            "marker": {
             "colorbar": {
              "outlinewidth": 0,
              "ticks": ""
             }
            },
            "type": "scattermapbox"
           }
          ],
          "scatterpolar": [
           {
            "marker": {
             "colorbar": {
              "outlinewidth": 0,
              "ticks": ""
             }
            },
            "type": "scatterpolar"
           }
          ],
          "scatterpolargl": [
           {
            "marker": {
             "colorbar": {
              "outlinewidth": 0,
              "ticks": ""
             }
            },
            "type": "scatterpolargl"
           }
          ],
          "scatterternary": [
           {
            "marker": {
             "colorbar": {
              "outlinewidth": 0,
              "ticks": ""
             }
            },
            "type": "scatterternary"
           }
          ],
          "surface": [
           {
            "colorbar": {
             "outlinewidth": 0,
             "ticks": ""
            },
            "colorscale": [
             [
              0,
              "#0d0887"
             ],
             [
              0.1111111111111111,
              "#46039f"
             ],
             [
              0.2222222222222222,
              "#7201a8"
             ],
             [
              0.3333333333333333,
              "#9c179e"
             ],
             [
              0.4444444444444444,
              "#bd3786"
             ],
             [
              0.5555555555555556,
              "#d8576b"
             ],
             [
              0.6666666666666666,
              "#ed7953"
             ],
             [
              0.7777777777777778,
              "#fb9f3a"
             ],
             [
              0.8888888888888888,
              "#fdca26"
             ],
             [
              1,
              "#f0f921"
             ]
            ],
            "type": "surface"
           }
          ],
          "table": [
           {
            "cells": {
             "fill": {
              "color": "#EBF0F8"
             },
             "line": {
              "color": "white"
             }
            },
            "header": {
             "fill": {
              "color": "#C8D4E3"
             },
             "line": {
              "color": "white"
             }
            },
            "type": "table"
           }
          ]
         },
         "layout": {
          "annotationdefaults": {
           "arrowcolor": "#2a3f5f",
           "arrowhead": 0,
           "arrowwidth": 1
          },
          "autotypenumbers": "strict",
          "coloraxis": {
           "colorbar": {
            "outlinewidth": 0,
            "ticks": ""
           }
          },
          "colorscale": {
           "diverging": [
            [
             0,
             "#8e0152"
            ],
            [
             0.1,
             "#c51b7d"
            ],
            [
             0.2,
             "#de77ae"
            ],
            [
             0.3,
             "#f1b6da"
            ],
            [
             0.4,
             "#fde0ef"
            ],
            [
             0.5,
             "#f7f7f7"
            ],
            [
             0.6,
             "#e6f5d0"
            ],
            [
             0.7,
             "#b8e186"
            ],
            [
             0.8,
             "#7fbc41"
            ],
            [
             0.9,
             "#4d9221"
            ],
            [
             1,
             "#276419"
            ]
           ],
           "sequential": [
            [
             0,
             "#0d0887"
            ],
            [
             0.1111111111111111,
             "#46039f"
            ],
            [
             0.2222222222222222,
             "#7201a8"
            ],
            [
             0.3333333333333333,
             "#9c179e"
            ],
            [
             0.4444444444444444,
             "#bd3786"
            ],
            [
             0.5555555555555556,
             "#d8576b"
            ],
            [
             0.6666666666666666,
             "#ed7953"
            ],
            [
             0.7777777777777778,
             "#fb9f3a"
            ],
            [
             0.8888888888888888,
             "#fdca26"
            ],
            [
             1,
             "#f0f921"
            ]
           ],
           "sequentialminus": [
            [
             0,
             "#0d0887"
            ],
            [
             0.1111111111111111,
             "#46039f"
            ],
            [
             0.2222222222222222,
             "#7201a8"
            ],
            [
             0.3333333333333333,
             "#9c179e"
            ],
            [
             0.4444444444444444,
             "#bd3786"
            ],
            [
             0.5555555555555556,
             "#d8576b"
            ],
            [
             0.6666666666666666,
             "#ed7953"
            ],
            [
             0.7777777777777778,
             "#fb9f3a"
            ],
            [
             0.8888888888888888,
             "#fdca26"
            ],
            [
             1,
             "#f0f921"
            ]
           ]
          },
          "colorway": [
           "#636efa",
           "#EF553B",
           "#00cc96",
           "#ab63fa",
           "#FFA15A",
           "#19d3f3",
           "#FF6692",
           "#B6E880",
           "#FF97FF",
           "#FECB52"
          ],
          "font": {
           "color": "#2a3f5f"
          },
          "geo": {
           "bgcolor": "white",
           "lakecolor": "white",
           "landcolor": "#E5ECF6",
           "showlakes": true,
           "showland": true,
           "subunitcolor": "white"
          },
          "hoverlabel": {
           "align": "left"
          },
          "hovermode": "closest",
          "mapbox": {
           "style": "light"
          },
          "paper_bgcolor": "white",
          "plot_bgcolor": "#E5ECF6",
          "polar": {
           "angularaxis": {
            "gridcolor": "white",
            "linecolor": "white",
            "ticks": ""
           },
           "bgcolor": "#E5ECF6",
           "radialaxis": {
            "gridcolor": "white",
            "linecolor": "white",
            "ticks": ""
           }
          },
          "scene": {
           "xaxis": {
            "backgroundcolor": "#E5ECF6",
            "gridcolor": "white",
            "gridwidth": 2,
            "linecolor": "white",
            "showbackground": true,
            "ticks": "",
            "zerolinecolor": "white"
           },
           "yaxis": {
            "backgroundcolor": "#E5ECF6",
            "gridcolor": "white",
            "gridwidth": 2,
            "linecolor": "white",
            "showbackground": true,
            "ticks": "",
            "zerolinecolor": "white"
           },
           "zaxis": {
            "backgroundcolor": "#E5ECF6",
            "gridcolor": "white",
            "gridwidth": 2,
            "linecolor": "white",
            "showbackground": true,
            "ticks": "",
            "zerolinecolor": "white"
           }
          },
          "shapedefaults": {
           "line": {
            "color": "#2a3f5f"
           }
          },
          "ternary": {
           "aaxis": {
            "gridcolor": "white",
            "linecolor": "white",
            "ticks": ""
           },
           "baxis": {
            "gridcolor": "white",
            "linecolor": "white",
            "ticks": ""
           },
           "bgcolor": "#E5ECF6",
           "caxis": {
            "gridcolor": "white",
            "linecolor": "white",
            "ticks": ""
           }
          },
          "title": {
           "x": 0.05
          },
          "xaxis": {
           "automargin": true,
           "gridcolor": "white",
           "linecolor": "white",
           "ticks": "",
           "title": {
            "standoff": 15
           },
           "zerolinecolor": "white",
           "zerolinewidth": 2
          },
          "yaxis": {
           "automargin": true,
           "gridcolor": "white",
           "linecolor": "white",
           "ticks": "",
           "title": {
            "standoff": 15
           },
           "zerolinecolor": "white",
           "zerolinewidth": 2
          }
         }
        }
       }
      }
     },
     "metadata": {},
     "output_type": "display_data"
    },
    {
     "name": "stdout",
     "output_type": "stream",
     "text": [
      "R2 score of 95% reserve variance feature:  0.7790041343158587\n",
      "R2 score of 3 feature out of 21:  0.7842697011919635\n"
     ]
    },
    {
     "data": {
      "text/plain": [
       "<Figure size 640x480 with 0 Axes>"
      ]
     },
     "metadata": {},
     "output_type": "display_data"
    }
   ],
   "source": [
    "from sklearn.decomposition import PCA\n",
    "from sklearn.linear_model import LinearRegression\n",
    "from sklearn.metrics import r2_score\n",
    "\n",
    "pca = PCA(n_components=0.95)   # preserve  95% of the variance in feture\n",
    "X_train_pca = pca.fit_transform(X_train_scaled)\n",
    "X_test_pca = pca.transform(X_test_scaled)\n",
    "print(f'{pca.n_components_} Number of feature that preserve 95% of the variance out of {df.shape[1]} columns.')\n",
    "\n",
    "\n",
    "# select only 3 columns out of 21 columns\n",
    "pca_1 = PCA(n_components=2)\n",
    "X_train_1 = pca_1.fit_transform(X_train_scaled)\n",
    "X_test_1 = pca_1.transform(X_test_scaled)\n",
    "\n",
    "# make dataframe\n",
    "pca_columns = [f'PC{i+1}' for i in range(X_train_1.shape[1])]\n",
    "\n",
    "df_train_pca = pd.DataFrame(X_train_1, columns=pca_columns, index=X_train.index)\n",
    "df_test_pca = pd.DataFrame(X_test_1, columns=pca_columns, index=X_test.index)\n",
    "df_train_pca.head()\n",
    "\n",
    "df_train_pca['target'] = y_train.values\n",
    "df_test_pca['target'] = y_test.values\n",
    "\n",
    "# visualization\n",
    "import plotly.express as px\n",
    "\n",
    "fig = px.scatter_3d(\n",
    "    df_train_pca, \n",
    "    x='PC1',\n",
    "    y = 'PC2',\n",
    "    z = 'target',\n",
    "    color='target',\n",
    "    \n",
    "    opacity=0.7\n",
    ")\n",
    "\n",
    "fig.update_traces(marker=dict(size=5))\n",
    "plt.tight_layout()\n",
    "fig.show()\n",
    "\n",
    "lr = LinearRegression()\n",
    "# checking the r2 score of occupy 95% of the variance feature \n",
    "lr.fit(X_train_pca, y_train)\n",
    "y_pred_pca_1 = lr.predict(X_test_pca)\n",
    "\n",
    "print(f'R2 score of 95% reserve variance feature: ', r2_score(y_test, y_pred_pca_1))\n",
    "\n",
    "# checking the r2 score of 3 features only\n",
    "lr.fit(X_train_1, y_train)\n",
    "\n",
    "y_pred_pca = lr.predict(X_test_1)\n",
    "\n",
    "print('R2 score of 3 feature out of 21: ', r2_score(y_test,y_pred_pca))\n",
    "\n"
   ]
  },
  {
   "cell_type": "markdown",
   "id": "576e2600",
   "metadata": {},
   "source": [
    "# 1. Linar Regression"
   ]
  },
  {
   "cell_type": "code",
   "execution_count": 14,
   "id": "78c1c4c0",
   "metadata": {},
   "outputs": [
    {
     "name": "stdout",
     "output_type": "stream",
     "text": [
      "====================================================================================================\n",
      "Coefficient:  [ 0.21000335 -0.03950435  0.04024978 -0.01929834  0.03723748  0.01464942\n",
      " -0.01238406 -0.070902   -0.01787236 -0.08801033 -0.03137921 -0.04537773\n",
      "  0.02371959  0.06752427 -0.03509646 -0.03759818]\n",
      "Intercept:  1.0045454545454546\n",
      "====================================================================================================\n"
     ]
    },
    {
     "data": {
      "text/html": [
       "<div>\n",
       "<style scoped>\n",
       "    .dataframe tbody tr th:only-of-type {\n",
       "        vertical-align: middle;\n",
       "    }\n",
       "\n",
       "    .dataframe tbody tr th {\n",
       "        vertical-align: top;\n",
       "    }\n",
       "\n",
       "    .dataframe thead th {\n",
       "        text-align: right;\n",
       "    }\n",
       "</style>\n",
       "<table border=\"1\" class=\"dataframe\">\n",
       "  <thead>\n",
       "    <tr style=\"text-align: right;\">\n",
       "      <th></th>\n",
       "      <th>0</th>\n",
       "      <th>1</th>\n",
       "      <th>2</th>\n",
       "      <th>3</th>\n",
       "    </tr>\n",
       "  </thead>\n",
       "  <tbody>\n",
       "    <tr>\n",
       "      <th>Model</th>\n",
       "      <td>Linear Regression (raw)</td>\n",
       "      <td>Linear Regression (scaled)</td>\n",
       "      <td>Train Data (not scaled)</td>\n",
       "      <td>Linear Regression (PCA)</td>\n",
       "    </tr>\n",
       "    <tr>\n",
       "      <th>R2 score</th>\n",
       "      <td>0.761989</td>\n",
       "      <td>0.761989</td>\n",
       "      <td>0.799728</td>\n",
       "      <td>0.779004</td>\n",
       "    </tr>\n",
       "  </tbody>\n",
       "</table>\n",
       "</div>"
      ],
      "text/plain": [
       "                                0                           1  \\\n",
       "Model     Linear Regression (raw)  Linear Regression (scaled)   \n",
       "R2 score                 0.761989                    0.761989   \n",
       "\n",
       "                                2                        3  \n",
       "Model     Train Data (not scaled)  Linear Regression (PCA)  \n",
       "R2 score                 0.799728                 0.779004  "
      ]
     },
     "execution_count": 14,
     "metadata": {},
     "output_type": "execute_result"
    }
   ],
   "source": [
    "from sklearn.linear_model import LinearRegression\n",
    "\n",
    "lr = LinearRegression()\n",
    "\n",
    "lr.fit(X_train,y_train)\n",
    "\n",
    "# not scaled\n",
    "y_pred = lr.predict(X_test)\n",
    "r2_raw = r2_score(y_test, y_pred)\n",
    "# print('R2 score raw: ', r2_raw)\n",
    "\n",
    "# scaled\n",
    "lr.fit(X_train_scaled,y_train)\n",
    "y_pred_scaled = lr.predict(X_test_scaled)\n",
    "r2_scaled = r2_score(y_test, y_pred_scaled)\n",
    "# print('R2 score scaled: ',r2_scaled)\n",
    "\n",
    "# Train score\n",
    "lr.fit(X_train, y_train)\n",
    "y_pred = lr.predict(X_train)\n",
    "r2_train = r2_score(y_train, y_pred)\n",
    "# print('R2 train: ', r2_train)\n",
    "\n",
    "lr.fit(X_train_pca, y_train)\n",
    "y_pred_pca = lr.predict(X_test_pca)\n",
    "r2_pca = r2_score(y_test, y_pred_pca)\n",
    "# print('R2 score PCA: ', r2_pca)\n",
    "\n",
    "results = pd.DataFrame({\n",
    "    'Model': ['Linear Regression (raw)',\n",
    "              'Linear Regression (scaled)',\n",
    "              'Train Data (not scaled)',\n",
    "              'Linear Regression (PCA)'],\n",
    "    'R2 score': [r2_raw, r2_scaled, r2_train, r2_pca]\n",
    "\n",
    "})\n",
    "print('='*100)\n",
    "\n",
    "\n",
    "print('Coefficient: ',lr.coef_)\n",
    "print('Intercept: ',lr.intercept_)\n",
    "print('='*100)\n",
    "results.T\n"
   ]
  },
  {
   "cell_type": "markdown",
   "id": "e97b16c9",
   "metadata": {},
   "source": [
    "# 2. Gradient Decent\n",
    "### I. Batch Gradient Decent"
   ]
  },
  {
   "cell_type": "code",
   "execution_count": 19,
   "id": "69b7e39f",
   "metadata": {},
   "outputs": [],
   "source": [
    "class BGDRegressor:\n",
    "    def __init__(self, learning_rate = 0.01, epochs=100):\n",
    "\n",
    "        self.coef_ = None\n",
    "        self.intercept_ = None\n",
    "        self.epochs = epochs\n",
    "        self.lr = learning_rate\n",
    "    \n",
    "    def fit(self, X_train, y_train):\n",
    "        # init your coef \n",
    "        self.intercept_ = 0\n",
    "        self.coef_ = np.ones(X_train.shape[1])\n",
    "\n",
    "        for i in range(self.epochs):\n",
    "            #update all the coefficient and intercept\n",
    "            y_hat = np.dot(X_train, self.coef_) + self.intercept_\n",
    "\n",
    "            intercept_der = -2 * np.mean(y_train - y_hat)\n",
    "            self.intercept_ = self.intercept_ - (self.lr * intercept_der)\n",
    "\n",
    "            coef_der = -2 * np.dot((y_train - y_hat), X_train)/X_train.shape[0]\n",
    "            self.coef_ = self.coef_ - (self.lr*coef_der)\n",
    "\n",
    "        print(self.intercept_, self.coef_)\n",
    "\n",
    "    def predict(self, X_test):\n",
    "        return np.dot(X_test, self.coef_) + self.intercept_"
   ]
  },
  {
   "cell_type": "code",
   "execution_count": 20,
   "id": "04936175",
   "metadata": {},
   "outputs": [
    {
     "name": "stdout",
     "output_type": "stream",
     "text": [
      "-0.2823199430712375 [ 0.00473381 -0.00453389  0.42442978  0.01105934  0.07130695  0.12501489\n",
      " -0.01334037  0.02276425  0.06880971  0.02329928 -0.08515757 -0.03177629\n",
      " -0.04517854  0.03328774  0.02271181 -0.00091009  0.11910931  0.02173597\n",
      "  0.05230423  0.03842911]\n",
      "R2 score of bgd 0.738303170954103\n"
     ]
    }
   ],
   "source": [
    "bgd = BGDRegressor(learning_rate=0.001, epochs=3000)\n",
    "bgd.fit(X_train, y_train)\n",
    "y_pred_bgd = bgd.predict(X_test)\n",
    "r2_bgd = r2_score(y_test, y_pred_bgd)\n",
    "print('R2 score of bgd', r2_bgd)"
   ]
  },
  {
   "cell_type": "markdown",
   "id": "32286b26",
   "metadata": {},
   "source": [
    "### II. Sochastic Gradient Decent"
   ]
  },
  {
   "cell_type": "code",
   "execution_count": 21,
   "id": "3370b3db",
   "metadata": {},
   "outputs": [],
   "source": [
    "class SGDRegressor:\n",
    "    def __init__(self, learning_rate=0.01, epochs=100):\n",
    "        self.coef_ = None\n",
    "        self.intercept_ = None\n",
    "        self.lr = learning_rate\n",
    "        self.epochs = epochs\n",
    "    \n",
    "    def fit(self,X_train,y_train):\n",
    "        X_train = np.array(X_train)\n",
    "        y_train = np.array(y_train)\n",
    "\n",
    "        self.intercept_ = 0\n",
    "        self.coef_ = np.ones(X_train.shape[1])\n",
    "        \n",
    "       \n",
    "\n",
    "        for i in range(self.epochs):\n",
    "            for j in range(X_train.shape[0]):\n",
    "                idX = np.random.randint(0, X_train.shape[0])\n",
    "\n",
    "                y_hat = np.dot(X_train[idX], self.coef_)+self.intercept_\n",
    "                errors = y_train[idX] - y_hat\n",
    "                coef_der = -2 * errors*X_train[idX]\n",
    "                intercept_der = -2 * errors\n",
    "\n",
    "                self.coef_ -= self.lr*coef_der\n",
    "                self.intercept_ -= self.lr*intercept_der\n",
    "        print(self.coef_, self.intercept_)\n",
    "        return self\n",
    "    \n",
    "    def predict(self, X_test):\n",
    "        X_test = np.array(X_test)\n",
    "        return np.dot(X_test, self.coef_) + self.intercept_"
   ]
  },
  {
   "cell_type": "code",
   "execution_count": 22,
   "id": "e4f60ef9",
   "metadata": {},
   "outputs": [
    {
     "name": "stdout",
     "output_type": "stream",
     "text": [
      "[ 0.00667669 -0.00699989  0.10730876  0.00656209  0.09720835  0.02614429\n",
      "  0.00512981  0.02798939  0.07320661  0.01010513 -0.05084873 -0.04716904\n",
      " -0.03676042  0.0457288   0.04992948  0.01759476  0.03318822  0.03263089\n",
      "  0.08241025  0.04371161] -0.22408251497374393\n",
      "Time taken is  0.8511302471160889\n",
      "R2 score:  0.7283021647510131\n"
     ]
    }
   ],
   "source": [
    "start = time.time()\n",
    "sgdr = SGDRegressor(learning_rate=0.0001, epochs=100)\n",
    "sgdr.fit(X_train, y_train)\n",
    "\n",
    "y_pred_sgdr = sgdr.predict(X_test)\n",
    "\n",
    "print('Time taken is ', time.time() - start)\n",
    "print('R2 score: ', r2_score(y_test, y_pred_sgdr))"
   ]
  },
  {
   "cell_type": "markdown",
   "id": "9e66e76b",
   "metadata": {},
   "source": [
    "### SGDRegression using OLS method also Hyperparameter tune"
   ]
  },
  {
   "cell_type": "code",
   "execution_count": 23,
   "id": "dc99bf0c",
   "metadata": {},
   "outputs": [
    {
     "data": {
      "text/html": [
       "<style>#sk-container-id-1 {\n",
       "  /* Definition of color scheme common for light and dark mode */\n",
       "  --sklearn-color-text: #000;\n",
       "  --sklearn-color-text-muted: #666;\n",
       "  --sklearn-color-line: gray;\n",
       "  /* Definition of color scheme for unfitted estimators */\n",
       "  --sklearn-color-unfitted-level-0: #fff5e6;\n",
       "  --sklearn-color-unfitted-level-1: #f6e4d2;\n",
       "  --sklearn-color-unfitted-level-2: #ffe0b3;\n",
       "  --sklearn-color-unfitted-level-3: chocolate;\n",
       "  /* Definition of color scheme for fitted estimators */\n",
       "  --sklearn-color-fitted-level-0: #f0f8ff;\n",
       "  --sklearn-color-fitted-level-1: #d4ebff;\n",
       "  --sklearn-color-fitted-level-2: #b3dbfd;\n",
       "  --sklearn-color-fitted-level-3: cornflowerblue;\n",
       "\n",
       "  /* Specific color for light theme */\n",
       "  --sklearn-color-text-on-default-background: var(--sg-text-color, var(--theme-code-foreground, var(--jp-content-font-color1, black)));\n",
       "  --sklearn-color-background: var(--sg-background-color, var(--theme-background, var(--jp-layout-color0, white)));\n",
       "  --sklearn-color-border-box: var(--sg-text-color, var(--theme-code-foreground, var(--jp-content-font-color1, black)));\n",
       "  --sklearn-color-icon: #696969;\n",
       "\n",
       "  @media (prefers-color-scheme: dark) {\n",
       "    /* Redefinition of color scheme for dark theme */\n",
       "    --sklearn-color-text-on-default-background: var(--sg-text-color, var(--theme-code-foreground, var(--jp-content-font-color1, white)));\n",
       "    --sklearn-color-background: var(--sg-background-color, var(--theme-background, var(--jp-layout-color0, #111)));\n",
       "    --sklearn-color-border-box: var(--sg-text-color, var(--theme-code-foreground, var(--jp-content-font-color1, white)));\n",
       "    --sklearn-color-icon: #878787;\n",
       "  }\n",
       "}\n",
       "\n",
       "#sk-container-id-1 {\n",
       "  color: var(--sklearn-color-text);\n",
       "}\n",
       "\n",
       "#sk-container-id-1 pre {\n",
       "  padding: 0;\n",
       "}\n",
       "\n",
       "#sk-container-id-1 input.sk-hidden--visually {\n",
       "  border: 0;\n",
       "  clip: rect(1px 1px 1px 1px);\n",
       "  clip: rect(1px, 1px, 1px, 1px);\n",
       "  height: 1px;\n",
       "  margin: -1px;\n",
       "  overflow: hidden;\n",
       "  padding: 0;\n",
       "  position: absolute;\n",
       "  width: 1px;\n",
       "}\n",
       "\n",
       "#sk-container-id-1 div.sk-dashed-wrapped {\n",
       "  border: 1px dashed var(--sklearn-color-line);\n",
       "  margin: 0 0.4em 0.5em 0.4em;\n",
       "  box-sizing: border-box;\n",
       "  padding-bottom: 0.4em;\n",
       "  background-color: var(--sklearn-color-background);\n",
       "}\n",
       "\n",
       "#sk-container-id-1 div.sk-container {\n",
       "  /* jupyter's `normalize.less` sets `[hidden] { display: none; }`\n",
       "     but bootstrap.min.css set `[hidden] { display: none !important; }`\n",
       "     so we also need the `!important` here to be able to override the\n",
       "     default hidden behavior on the sphinx rendered scikit-learn.org.\n",
       "     See: https://github.com/scikit-learn/scikit-learn/issues/21755 */\n",
       "  display: inline-block !important;\n",
       "  position: relative;\n",
       "}\n",
       "\n",
       "#sk-container-id-1 div.sk-text-repr-fallback {\n",
       "  display: none;\n",
       "}\n",
       "\n",
       "div.sk-parallel-item,\n",
       "div.sk-serial,\n",
       "div.sk-item {\n",
       "  /* draw centered vertical line to link estimators */\n",
       "  background-image: linear-gradient(var(--sklearn-color-text-on-default-background), var(--sklearn-color-text-on-default-background));\n",
       "  background-size: 2px 100%;\n",
       "  background-repeat: no-repeat;\n",
       "  background-position: center center;\n",
       "}\n",
       "\n",
       "/* Parallel-specific style estimator block */\n",
       "\n",
       "#sk-container-id-1 div.sk-parallel-item::after {\n",
       "  content: \"\";\n",
       "  width: 100%;\n",
       "  border-bottom: 2px solid var(--sklearn-color-text-on-default-background);\n",
       "  flex-grow: 1;\n",
       "}\n",
       "\n",
       "#sk-container-id-1 div.sk-parallel {\n",
       "  display: flex;\n",
       "  align-items: stretch;\n",
       "  justify-content: center;\n",
       "  background-color: var(--sklearn-color-background);\n",
       "  position: relative;\n",
       "}\n",
       "\n",
       "#sk-container-id-1 div.sk-parallel-item {\n",
       "  display: flex;\n",
       "  flex-direction: column;\n",
       "}\n",
       "\n",
       "#sk-container-id-1 div.sk-parallel-item:first-child::after {\n",
       "  align-self: flex-end;\n",
       "  width: 50%;\n",
       "}\n",
       "\n",
       "#sk-container-id-1 div.sk-parallel-item:last-child::after {\n",
       "  align-self: flex-start;\n",
       "  width: 50%;\n",
       "}\n",
       "\n",
       "#sk-container-id-1 div.sk-parallel-item:only-child::after {\n",
       "  width: 0;\n",
       "}\n",
       "\n",
       "/* Serial-specific style estimator block */\n",
       "\n",
       "#sk-container-id-1 div.sk-serial {\n",
       "  display: flex;\n",
       "  flex-direction: column;\n",
       "  align-items: center;\n",
       "  background-color: var(--sklearn-color-background);\n",
       "  padding-right: 1em;\n",
       "  padding-left: 1em;\n",
       "}\n",
       "\n",
       "\n",
       "/* Toggleable style: style used for estimator/Pipeline/ColumnTransformer box that is\n",
       "clickable and can be expanded/collapsed.\n",
       "- Pipeline and ColumnTransformer use this feature and define the default style\n",
       "- Estimators will overwrite some part of the style using the `sk-estimator` class\n",
       "*/\n",
       "\n",
       "/* Pipeline and ColumnTransformer style (default) */\n",
       "\n",
       "#sk-container-id-1 div.sk-toggleable {\n",
       "  /* Default theme specific background. It is overwritten whether we have a\n",
       "  specific estimator or a Pipeline/ColumnTransformer */\n",
       "  background-color: var(--sklearn-color-background);\n",
       "}\n",
       "\n",
       "/* Toggleable label */\n",
       "#sk-container-id-1 label.sk-toggleable__label {\n",
       "  cursor: pointer;\n",
       "  display: flex;\n",
       "  width: 100%;\n",
       "  margin-bottom: 0;\n",
       "  padding: 0.5em;\n",
       "  box-sizing: border-box;\n",
       "  text-align: center;\n",
       "  align-items: start;\n",
       "  justify-content: space-between;\n",
       "  gap: 0.5em;\n",
       "}\n",
       "\n",
       "#sk-container-id-1 label.sk-toggleable__label .caption {\n",
       "  font-size: 0.6rem;\n",
       "  font-weight: lighter;\n",
       "  color: var(--sklearn-color-text-muted);\n",
       "}\n",
       "\n",
       "#sk-container-id-1 label.sk-toggleable__label-arrow:before {\n",
       "  /* Arrow on the left of the label */\n",
       "  content: \"▸\";\n",
       "  float: left;\n",
       "  margin-right: 0.25em;\n",
       "  color: var(--sklearn-color-icon);\n",
       "}\n",
       "\n",
       "#sk-container-id-1 label.sk-toggleable__label-arrow:hover:before {\n",
       "  color: var(--sklearn-color-text);\n",
       "}\n",
       "\n",
       "/* Toggleable content - dropdown */\n",
       "\n",
       "#sk-container-id-1 div.sk-toggleable__content {\n",
       "  max-height: 0;\n",
       "  max-width: 0;\n",
       "  overflow: hidden;\n",
       "  text-align: left;\n",
       "  /* unfitted */\n",
       "  background-color: var(--sklearn-color-unfitted-level-0);\n",
       "}\n",
       "\n",
       "#sk-container-id-1 div.sk-toggleable__content.fitted {\n",
       "  /* fitted */\n",
       "  background-color: var(--sklearn-color-fitted-level-0);\n",
       "}\n",
       "\n",
       "#sk-container-id-1 div.sk-toggleable__content pre {\n",
       "  margin: 0.2em;\n",
       "  border-radius: 0.25em;\n",
       "  color: var(--sklearn-color-text);\n",
       "  /* unfitted */\n",
       "  background-color: var(--sklearn-color-unfitted-level-0);\n",
       "}\n",
       "\n",
       "#sk-container-id-1 div.sk-toggleable__content.fitted pre {\n",
       "  /* unfitted */\n",
       "  background-color: var(--sklearn-color-fitted-level-0);\n",
       "}\n",
       "\n",
       "#sk-container-id-1 input.sk-toggleable__control:checked~div.sk-toggleable__content {\n",
       "  /* Expand drop-down */\n",
       "  max-height: 200px;\n",
       "  max-width: 100%;\n",
       "  overflow: auto;\n",
       "}\n",
       "\n",
       "#sk-container-id-1 input.sk-toggleable__control:checked~label.sk-toggleable__label-arrow:before {\n",
       "  content: \"▾\";\n",
       "}\n",
       "\n",
       "/* Pipeline/ColumnTransformer-specific style */\n",
       "\n",
       "#sk-container-id-1 div.sk-label input.sk-toggleable__control:checked~label.sk-toggleable__label {\n",
       "  color: var(--sklearn-color-text);\n",
       "  background-color: var(--sklearn-color-unfitted-level-2);\n",
       "}\n",
       "\n",
       "#sk-container-id-1 div.sk-label.fitted input.sk-toggleable__control:checked~label.sk-toggleable__label {\n",
       "  background-color: var(--sklearn-color-fitted-level-2);\n",
       "}\n",
       "\n",
       "/* Estimator-specific style */\n",
       "\n",
       "/* Colorize estimator box */\n",
       "#sk-container-id-1 div.sk-estimator input.sk-toggleable__control:checked~label.sk-toggleable__label {\n",
       "  /* unfitted */\n",
       "  background-color: var(--sklearn-color-unfitted-level-2);\n",
       "}\n",
       "\n",
       "#sk-container-id-1 div.sk-estimator.fitted input.sk-toggleable__control:checked~label.sk-toggleable__label {\n",
       "  /* fitted */\n",
       "  background-color: var(--sklearn-color-fitted-level-2);\n",
       "}\n",
       "\n",
       "#sk-container-id-1 div.sk-label label.sk-toggleable__label,\n",
       "#sk-container-id-1 div.sk-label label {\n",
       "  /* The background is the default theme color */\n",
       "  color: var(--sklearn-color-text-on-default-background);\n",
       "}\n",
       "\n",
       "/* On hover, darken the color of the background */\n",
       "#sk-container-id-1 div.sk-label:hover label.sk-toggleable__label {\n",
       "  color: var(--sklearn-color-text);\n",
       "  background-color: var(--sklearn-color-unfitted-level-2);\n",
       "}\n",
       "\n",
       "/* Label box, darken color on hover, fitted */\n",
       "#sk-container-id-1 div.sk-label.fitted:hover label.sk-toggleable__label.fitted {\n",
       "  color: var(--sklearn-color-text);\n",
       "  background-color: var(--sklearn-color-fitted-level-2);\n",
       "}\n",
       "\n",
       "/* Estimator label */\n",
       "\n",
       "#sk-container-id-1 div.sk-label label {\n",
       "  font-family: monospace;\n",
       "  font-weight: bold;\n",
       "  display: inline-block;\n",
       "  line-height: 1.2em;\n",
       "}\n",
       "\n",
       "#sk-container-id-1 div.sk-label-container {\n",
       "  text-align: center;\n",
       "}\n",
       "\n",
       "/* Estimator-specific */\n",
       "#sk-container-id-1 div.sk-estimator {\n",
       "  font-family: monospace;\n",
       "  border: 1px dotted var(--sklearn-color-border-box);\n",
       "  border-radius: 0.25em;\n",
       "  box-sizing: border-box;\n",
       "  margin-bottom: 0.5em;\n",
       "  /* unfitted */\n",
       "  background-color: var(--sklearn-color-unfitted-level-0);\n",
       "}\n",
       "\n",
       "#sk-container-id-1 div.sk-estimator.fitted {\n",
       "  /* fitted */\n",
       "  background-color: var(--sklearn-color-fitted-level-0);\n",
       "}\n",
       "\n",
       "/* on hover */\n",
       "#sk-container-id-1 div.sk-estimator:hover {\n",
       "  /* unfitted */\n",
       "  background-color: var(--sklearn-color-unfitted-level-2);\n",
       "}\n",
       "\n",
       "#sk-container-id-1 div.sk-estimator.fitted:hover {\n",
       "  /* fitted */\n",
       "  background-color: var(--sklearn-color-fitted-level-2);\n",
       "}\n",
       "\n",
       "/* Specification for estimator info (e.g. \"i\" and \"?\") */\n",
       "\n",
       "/* Common style for \"i\" and \"?\" */\n",
       "\n",
       ".sk-estimator-doc-link,\n",
       "a:link.sk-estimator-doc-link,\n",
       "a:visited.sk-estimator-doc-link {\n",
       "  float: right;\n",
       "  font-size: smaller;\n",
       "  line-height: 1em;\n",
       "  font-family: monospace;\n",
       "  background-color: var(--sklearn-color-background);\n",
       "  border-radius: 1em;\n",
       "  height: 1em;\n",
       "  width: 1em;\n",
       "  text-decoration: none !important;\n",
       "  margin-left: 0.5em;\n",
       "  text-align: center;\n",
       "  /* unfitted */\n",
       "  border: var(--sklearn-color-unfitted-level-1) 1pt solid;\n",
       "  color: var(--sklearn-color-unfitted-level-1);\n",
       "}\n",
       "\n",
       ".sk-estimator-doc-link.fitted,\n",
       "a:link.sk-estimator-doc-link.fitted,\n",
       "a:visited.sk-estimator-doc-link.fitted {\n",
       "  /* fitted */\n",
       "  border: var(--sklearn-color-fitted-level-1) 1pt solid;\n",
       "  color: var(--sklearn-color-fitted-level-1);\n",
       "}\n",
       "\n",
       "/* On hover */\n",
       "div.sk-estimator:hover .sk-estimator-doc-link:hover,\n",
       ".sk-estimator-doc-link:hover,\n",
       "div.sk-label-container:hover .sk-estimator-doc-link:hover,\n",
       ".sk-estimator-doc-link:hover {\n",
       "  /* unfitted */\n",
       "  background-color: var(--sklearn-color-unfitted-level-3);\n",
       "  color: var(--sklearn-color-background);\n",
       "  text-decoration: none;\n",
       "}\n",
       "\n",
       "div.sk-estimator.fitted:hover .sk-estimator-doc-link.fitted:hover,\n",
       ".sk-estimator-doc-link.fitted:hover,\n",
       "div.sk-label-container:hover .sk-estimator-doc-link.fitted:hover,\n",
       ".sk-estimator-doc-link.fitted:hover {\n",
       "  /* fitted */\n",
       "  background-color: var(--sklearn-color-fitted-level-3);\n",
       "  color: var(--sklearn-color-background);\n",
       "  text-decoration: none;\n",
       "}\n",
       "\n",
       "/* Span, style for the box shown on hovering the info icon */\n",
       ".sk-estimator-doc-link span {\n",
       "  display: none;\n",
       "  z-index: 9999;\n",
       "  position: relative;\n",
       "  font-weight: normal;\n",
       "  right: .2ex;\n",
       "  padding: .5ex;\n",
       "  margin: .5ex;\n",
       "  width: min-content;\n",
       "  min-width: 20ex;\n",
       "  max-width: 50ex;\n",
       "  color: var(--sklearn-color-text);\n",
       "  box-shadow: 2pt 2pt 4pt #999;\n",
       "  /* unfitted */\n",
       "  background: var(--sklearn-color-unfitted-level-0);\n",
       "  border: .5pt solid var(--sklearn-color-unfitted-level-3);\n",
       "}\n",
       "\n",
       ".sk-estimator-doc-link.fitted span {\n",
       "  /* fitted */\n",
       "  background: var(--sklearn-color-fitted-level-0);\n",
       "  border: var(--sklearn-color-fitted-level-3);\n",
       "}\n",
       "\n",
       ".sk-estimator-doc-link:hover span {\n",
       "  display: block;\n",
       "}\n",
       "\n",
       "/* \"?\"-specific style due to the `<a>` HTML tag */\n",
       "\n",
       "#sk-container-id-1 a.estimator_doc_link {\n",
       "  float: right;\n",
       "  font-size: 1rem;\n",
       "  line-height: 1em;\n",
       "  font-family: monospace;\n",
       "  background-color: var(--sklearn-color-background);\n",
       "  border-radius: 1rem;\n",
       "  height: 1rem;\n",
       "  width: 1rem;\n",
       "  text-decoration: none;\n",
       "  /* unfitted */\n",
       "  color: var(--sklearn-color-unfitted-level-1);\n",
       "  border: var(--sklearn-color-unfitted-level-1) 1pt solid;\n",
       "}\n",
       "\n",
       "#sk-container-id-1 a.estimator_doc_link.fitted {\n",
       "  /* fitted */\n",
       "  border: var(--sklearn-color-fitted-level-1) 1pt solid;\n",
       "  color: var(--sklearn-color-fitted-level-1);\n",
       "}\n",
       "\n",
       "/* On hover */\n",
       "#sk-container-id-1 a.estimator_doc_link:hover {\n",
       "  /* unfitted */\n",
       "  background-color: var(--sklearn-color-unfitted-level-3);\n",
       "  color: var(--sklearn-color-background);\n",
       "  text-decoration: none;\n",
       "}\n",
       "\n",
       "#sk-container-id-1 a.estimator_doc_link.fitted:hover {\n",
       "  /* fitted */\n",
       "  background-color: var(--sklearn-color-fitted-level-3);\n",
       "}\n",
       "</style><div id=\"sk-container-id-1\" class=\"sk-top-container\"><div class=\"sk-text-repr-fallback\"><pre>GridSearchCV(cv=5,\n",
       "             estimator=Pipeline(steps=[(&#x27;scaler&#x27;, StandardScaler()),\n",
       "                                       (&#x27;sgd&#x27;, SGDRegressor(random_state=42))]),\n",
       "             n_jobs=-1,\n",
       "             param_grid={&#x27;sgd__alpha&#x27;: [0.0001, 0.001, 0.01, 0.1],\n",
       "                         &#x27;sgd__eta0&#x27;: [0.001, 0.01, 0.1, 1],\n",
       "                         &#x27;sgd__learning_rate&#x27;: [&#x27;constant&#x27;, &#x27;invscaling&#x27;,\n",
       "                                                &#x27;adaptive&#x27;],\n",
       "                         &#x27;sgd__penalty&#x27;: [&#x27;l2&#x27;, &#x27;l1&#x27;, &#x27;elasticnet&#x27;]},\n",
       "             scoring=&#x27;r2&#x27;)</pre><b>In a Jupyter environment, please rerun this cell to show the HTML representation or trust the notebook. <br />On GitHub, the HTML representation is unable to render, please try loading this page with nbviewer.org.</b></div><div class=\"sk-container\" hidden><div class=\"sk-item sk-dashed-wrapped\"><div class=\"sk-label-container\"><div class=\"sk-label fitted sk-toggleable\"><input class=\"sk-toggleable__control sk-hidden--visually\" id=\"sk-estimator-id-1\" type=\"checkbox\" ><label for=\"sk-estimator-id-1\" class=\"sk-toggleable__label fitted sk-toggleable__label-arrow\"><div><div>GridSearchCV</div></div><div><a class=\"sk-estimator-doc-link fitted\" rel=\"noreferrer\" target=\"_blank\" href=\"https://scikit-learn.org/1.6/modules/generated/sklearn.model_selection.GridSearchCV.html\">?<span>Documentation for GridSearchCV</span></a><span class=\"sk-estimator-doc-link fitted\">i<span>Fitted</span></span></div></label><div class=\"sk-toggleable__content fitted\"><pre>GridSearchCV(cv=5,\n",
       "             estimator=Pipeline(steps=[(&#x27;scaler&#x27;, StandardScaler()),\n",
       "                                       (&#x27;sgd&#x27;, SGDRegressor(random_state=42))]),\n",
       "             n_jobs=-1,\n",
       "             param_grid={&#x27;sgd__alpha&#x27;: [0.0001, 0.001, 0.01, 0.1],\n",
       "                         &#x27;sgd__eta0&#x27;: [0.001, 0.01, 0.1, 1],\n",
       "                         &#x27;sgd__learning_rate&#x27;: [&#x27;constant&#x27;, &#x27;invscaling&#x27;,\n",
       "                                                &#x27;adaptive&#x27;],\n",
       "                         &#x27;sgd__penalty&#x27;: [&#x27;l2&#x27;, &#x27;l1&#x27;, &#x27;elasticnet&#x27;]},\n",
       "             scoring=&#x27;r2&#x27;)</pre></div> </div></div><div class=\"sk-parallel\"><div class=\"sk-parallel-item\"><div class=\"sk-item\"><div class=\"sk-label-container\"><div class=\"sk-label fitted sk-toggleable\"><input class=\"sk-toggleable__control sk-hidden--visually\" id=\"sk-estimator-id-2\" type=\"checkbox\" ><label for=\"sk-estimator-id-2\" class=\"sk-toggleable__label fitted sk-toggleable__label-arrow\"><div><div>best_estimator_: Pipeline</div></div></label><div class=\"sk-toggleable__content fitted\"><pre>Pipeline(steps=[(&#x27;scaler&#x27;, StandardScaler()),\n",
       "                (&#x27;sgd&#x27;,\n",
       "                 SGDRegressor(alpha=0.1, eta0=0.001, learning_rate=&#x27;constant&#x27;,\n",
       "                              penalty=&#x27;elasticnet&#x27;, random_state=42))])</pre></div> </div></div><div class=\"sk-serial\"><div class=\"sk-item\"><div class=\"sk-serial\"><div class=\"sk-item\"><div class=\"sk-estimator fitted sk-toggleable\"><input class=\"sk-toggleable__control sk-hidden--visually\" id=\"sk-estimator-id-3\" type=\"checkbox\" ><label for=\"sk-estimator-id-3\" class=\"sk-toggleable__label fitted sk-toggleable__label-arrow\"><div><div>StandardScaler</div></div><div><a class=\"sk-estimator-doc-link fitted\" rel=\"noreferrer\" target=\"_blank\" href=\"https://scikit-learn.org/1.6/modules/generated/sklearn.preprocessing.StandardScaler.html\">?<span>Documentation for StandardScaler</span></a></div></label><div class=\"sk-toggleable__content fitted\"><pre>StandardScaler()</pre></div> </div></div><div class=\"sk-item\"><div class=\"sk-estimator fitted sk-toggleable\"><input class=\"sk-toggleable__control sk-hidden--visually\" id=\"sk-estimator-id-4\" type=\"checkbox\" ><label for=\"sk-estimator-id-4\" class=\"sk-toggleable__label fitted sk-toggleable__label-arrow\"><div><div>SGDRegressor</div></div><div><a class=\"sk-estimator-doc-link fitted\" rel=\"noreferrer\" target=\"_blank\" href=\"https://scikit-learn.org/1.6/modules/generated/sklearn.linear_model.SGDRegressor.html\">?<span>Documentation for SGDRegressor</span></a></div></label><div class=\"sk-toggleable__content fitted\"><pre>SGDRegressor(alpha=0.1, eta0=0.001, learning_rate=&#x27;constant&#x27;,\n",
       "             penalty=&#x27;elasticnet&#x27;, random_state=42)</pre></div> </div></div></div></div></div></div></div></div></div></div></div>"
      ],
      "text/plain": [
       "GridSearchCV(cv=5,\n",
       "             estimator=Pipeline(steps=[('scaler', StandardScaler()),\n",
       "                                       ('sgd', SGDRegressor(random_state=42))]),\n",
       "             n_jobs=-1,\n",
       "             param_grid={'sgd__alpha': [0.0001, 0.001, 0.01, 0.1],\n",
       "                         'sgd__eta0': [0.001, 0.01, 0.1, 1],\n",
       "                         'sgd__learning_rate': ['constant', 'invscaling',\n",
       "                                                'adaptive'],\n",
       "                         'sgd__penalty': ['l2', 'l1', 'elasticnet']},\n",
       "             scoring='r2')"
      ]
     },
     "execution_count": 23,
     "metadata": {},
     "output_type": "execute_result"
    }
   ],
   "source": [
    "from sklearn.linear_model import SGDRegressor\n",
    "from sklearn.model_selection import GridSearchCV\n",
    "from sklearn.metrics import mean_squared_error\n",
    "\n",
    "pipeline = Pipeline([\n",
    "    ('scaler', StandardScaler()),\n",
    "    ('sgd', SGDRegressor(loss='squared_error', max_iter=1000, random_state=42))\n",
    "])\n",
    "\n",
    "# define hyperameter grid\n",
    "param_grid = {\n",
    "    'sgd__alpha': [0.0001,0.001,0.01,0.1],\n",
    "    'sgd__penalty': ['l2', 'l1', 'elasticnet'],\n",
    "    'sgd__eta0': [0.001,0.01,0.1,1],\n",
    "    'sgd__learning_rate': ['constant', 'invscaling', 'adaptive']\n",
    "}\n",
    "\n",
    "grid = GridSearchCV(\n",
    "    pipeline,\n",
    "    param_grid,\n",
    "    cv=5,\n",
    "    scoring='r2',\n",
    "    n_jobs=-1\n",
    ")\n",
    "\n",
    "grid.fit(X_train,y_train)\n",
    "\n"
   ]
  },
  {
   "cell_type": "code",
   "execution_count": 24,
   "id": "69210cfc",
   "metadata": {},
   "outputs": [
    {
     "name": "stdout",
     "output_type": "stream",
     "text": [
      "Best Parameters:  {'sgd__alpha': 0.1, 'sgd__eta0': 0.001, 'sgd__learning_rate': 'constant', 'sgd__penalty': 'elasticnet'}\n",
      "Best CV R2:  0.7595303285373435\n",
      "R2 score:  0.7764320554356081\n"
     ]
    }
   ],
   "source": [
    "print('Best Parameters: ', grid.best_params_)\n",
    "print('Best CV R2: ', grid.best_score_)\n",
    "\n",
    "# Test score\n",
    "y_pred_sgd_ols = grid.predict(X_test)\n",
    "print('R2 score: ', r2_score(y_test, y_pred_sgd_ols))"
   ]
  },
  {
   "cell_type": "markdown",
   "id": "85e50725",
   "metadata": {},
   "source": [
    "### III. Mini-Batch Gradient Decent"
   ]
  },
  {
   "cell_type": "code",
   "execution_count": 25,
   "id": "457403ba",
   "metadata": {},
   "outputs": [],
   "source": [
    "import random\n",
    "\n",
    "class MBGDRegressor:\n",
    "    def __init__(self, batch_size, learning_rate=0.01, epochs=100):\n",
    "        self.coef_ = None\n",
    "        self.intercept_ = None\n",
    "        self.batch_size = batch_size\n",
    "        self.lr = learning_rate\n",
    "        self.epochs = epochs\n",
    "    \n",
    "    def fit(self, X_train_scaled,y_train):\n",
    "        X_train_scaled = np.array(X_train_scaled)\n",
    "        y_train = np.array(y_train)\n",
    "\n",
    "        self.coef_= np.ones(X_train_scaled.shape[1])\n",
    "        self.intercept_ = 0\n",
    "\n",
    "        for i in range(self.epochs):\n",
    "            for j in range(int(X_train_scaled.shape[0]/self.batch_size)):\n",
    "                idX = random.sample(range(X_train_scaled.shape[0]),self.batch_size)\n",
    "\n",
    "                y_hat = np.dot(X_train_scaled[idX], self.coef_) + self.intercept_\n",
    "                error = y_train[idX] - y_hat\n",
    "\n",
    "                intercept_der = -2 * np.mean(error)\n",
    "                self.intercept_ = self.intercept_ - (self.lr * intercept_der)\n",
    "\n",
    "                coef_der = -2 * np.dot(error, X_train_scaled[idX]) / self.batch_size\n",
    "                self.coef_ = self.coef_ - (self.lr * coef_der)\n",
    "                \n",
    "        print(self.intercept_, self.coef_)\n",
    "    \n",
    "    def predict(self, X_test_scaled):\n",
    "        X_test_scaled = np.array(X_test_scaled)\n",
    "        return np.dot(X_test_scaled, self.coef_) + self.intercept_"
   ]
  },
  {
   "cell_type": "code",
   "execution_count": 26,
   "id": "66a2a0ab",
   "metadata": {},
   "outputs": [
    {
     "name": "stdout",
     "output_type": "stream",
     "text": [
      "0.9983665111052761 [ 0.01962159 -0.08839905 -0.02318463  0.0849227   0.10616258 -0.0641275\n",
      " -0.03792604  0.00731915  0.09009323 -0.02916342 -0.0788341  -0.08379947\n",
      " -0.07268769  0.06374878  0.09253525  0.02481128 -0.07442692  0.06855106\n",
      "  0.08216388  0.06214097]\n",
      "R2 score:  0.7607644782712963\n"
     ]
    }
   ],
   "source": [
    "mbgdr = MBGDRegressor(batch_size=10, learning_rate=0.001, epochs=1000)\n",
    "mbgdr.fit(X_train_scaled,y_train)\n",
    "\n",
    "y_pred_mbgd = mbgdr.predict(X_test_scaled)\n",
    "print('R2 score: ', r2_score(y_test, y_pred_mbgd))"
   ]
  },
  {
   "cell_type": "markdown",
   "id": "408c6766",
   "metadata": {},
   "source": [
    "# 3. Polynomial Regression"
   ]
  },
  {
   "cell_type": "code",
   "execution_count": 27,
   "id": "d73f75d3",
   "metadata": {},
   "outputs": [
    {
     "data": {
      "text/html": [
       "<style>#sk-container-id-2 {\n",
       "  /* Definition of color scheme common for light and dark mode */\n",
       "  --sklearn-color-text: #000;\n",
       "  --sklearn-color-text-muted: #666;\n",
       "  --sklearn-color-line: gray;\n",
       "  /* Definition of color scheme for unfitted estimators */\n",
       "  --sklearn-color-unfitted-level-0: #fff5e6;\n",
       "  --sklearn-color-unfitted-level-1: #f6e4d2;\n",
       "  --sklearn-color-unfitted-level-2: #ffe0b3;\n",
       "  --sklearn-color-unfitted-level-3: chocolate;\n",
       "  /* Definition of color scheme for fitted estimators */\n",
       "  --sklearn-color-fitted-level-0: #f0f8ff;\n",
       "  --sklearn-color-fitted-level-1: #d4ebff;\n",
       "  --sklearn-color-fitted-level-2: #b3dbfd;\n",
       "  --sklearn-color-fitted-level-3: cornflowerblue;\n",
       "\n",
       "  /* Specific color for light theme */\n",
       "  --sklearn-color-text-on-default-background: var(--sg-text-color, var(--theme-code-foreground, var(--jp-content-font-color1, black)));\n",
       "  --sklearn-color-background: var(--sg-background-color, var(--theme-background, var(--jp-layout-color0, white)));\n",
       "  --sklearn-color-border-box: var(--sg-text-color, var(--theme-code-foreground, var(--jp-content-font-color1, black)));\n",
       "  --sklearn-color-icon: #696969;\n",
       "\n",
       "  @media (prefers-color-scheme: dark) {\n",
       "    /* Redefinition of color scheme for dark theme */\n",
       "    --sklearn-color-text-on-default-background: var(--sg-text-color, var(--theme-code-foreground, var(--jp-content-font-color1, white)));\n",
       "    --sklearn-color-background: var(--sg-background-color, var(--theme-background, var(--jp-layout-color0, #111)));\n",
       "    --sklearn-color-border-box: var(--sg-text-color, var(--theme-code-foreground, var(--jp-content-font-color1, white)));\n",
       "    --sklearn-color-icon: #878787;\n",
       "  }\n",
       "}\n",
       "\n",
       "#sk-container-id-2 {\n",
       "  color: var(--sklearn-color-text);\n",
       "}\n",
       "\n",
       "#sk-container-id-2 pre {\n",
       "  padding: 0;\n",
       "}\n",
       "\n",
       "#sk-container-id-2 input.sk-hidden--visually {\n",
       "  border: 0;\n",
       "  clip: rect(1px 1px 1px 1px);\n",
       "  clip: rect(1px, 1px, 1px, 1px);\n",
       "  height: 1px;\n",
       "  margin: -1px;\n",
       "  overflow: hidden;\n",
       "  padding: 0;\n",
       "  position: absolute;\n",
       "  width: 1px;\n",
       "}\n",
       "\n",
       "#sk-container-id-2 div.sk-dashed-wrapped {\n",
       "  border: 1px dashed var(--sklearn-color-line);\n",
       "  margin: 0 0.4em 0.5em 0.4em;\n",
       "  box-sizing: border-box;\n",
       "  padding-bottom: 0.4em;\n",
       "  background-color: var(--sklearn-color-background);\n",
       "}\n",
       "\n",
       "#sk-container-id-2 div.sk-container {\n",
       "  /* jupyter's `normalize.less` sets `[hidden] { display: none; }`\n",
       "     but bootstrap.min.css set `[hidden] { display: none !important; }`\n",
       "     so we also need the `!important` here to be able to override the\n",
       "     default hidden behavior on the sphinx rendered scikit-learn.org.\n",
       "     See: https://github.com/scikit-learn/scikit-learn/issues/21755 */\n",
       "  display: inline-block !important;\n",
       "  position: relative;\n",
       "}\n",
       "\n",
       "#sk-container-id-2 div.sk-text-repr-fallback {\n",
       "  display: none;\n",
       "}\n",
       "\n",
       "div.sk-parallel-item,\n",
       "div.sk-serial,\n",
       "div.sk-item {\n",
       "  /* draw centered vertical line to link estimators */\n",
       "  background-image: linear-gradient(var(--sklearn-color-text-on-default-background), var(--sklearn-color-text-on-default-background));\n",
       "  background-size: 2px 100%;\n",
       "  background-repeat: no-repeat;\n",
       "  background-position: center center;\n",
       "}\n",
       "\n",
       "/* Parallel-specific style estimator block */\n",
       "\n",
       "#sk-container-id-2 div.sk-parallel-item::after {\n",
       "  content: \"\";\n",
       "  width: 100%;\n",
       "  border-bottom: 2px solid var(--sklearn-color-text-on-default-background);\n",
       "  flex-grow: 1;\n",
       "}\n",
       "\n",
       "#sk-container-id-2 div.sk-parallel {\n",
       "  display: flex;\n",
       "  align-items: stretch;\n",
       "  justify-content: center;\n",
       "  background-color: var(--sklearn-color-background);\n",
       "  position: relative;\n",
       "}\n",
       "\n",
       "#sk-container-id-2 div.sk-parallel-item {\n",
       "  display: flex;\n",
       "  flex-direction: column;\n",
       "}\n",
       "\n",
       "#sk-container-id-2 div.sk-parallel-item:first-child::after {\n",
       "  align-self: flex-end;\n",
       "  width: 50%;\n",
       "}\n",
       "\n",
       "#sk-container-id-2 div.sk-parallel-item:last-child::after {\n",
       "  align-self: flex-start;\n",
       "  width: 50%;\n",
       "}\n",
       "\n",
       "#sk-container-id-2 div.sk-parallel-item:only-child::after {\n",
       "  width: 0;\n",
       "}\n",
       "\n",
       "/* Serial-specific style estimator block */\n",
       "\n",
       "#sk-container-id-2 div.sk-serial {\n",
       "  display: flex;\n",
       "  flex-direction: column;\n",
       "  align-items: center;\n",
       "  background-color: var(--sklearn-color-background);\n",
       "  padding-right: 1em;\n",
       "  padding-left: 1em;\n",
       "}\n",
       "\n",
       "\n",
       "/* Toggleable style: style used for estimator/Pipeline/ColumnTransformer box that is\n",
       "clickable and can be expanded/collapsed.\n",
       "- Pipeline and ColumnTransformer use this feature and define the default style\n",
       "- Estimators will overwrite some part of the style using the `sk-estimator` class\n",
       "*/\n",
       "\n",
       "/* Pipeline and ColumnTransformer style (default) */\n",
       "\n",
       "#sk-container-id-2 div.sk-toggleable {\n",
       "  /* Default theme specific background. It is overwritten whether we have a\n",
       "  specific estimator or a Pipeline/ColumnTransformer */\n",
       "  background-color: var(--sklearn-color-background);\n",
       "}\n",
       "\n",
       "/* Toggleable label */\n",
       "#sk-container-id-2 label.sk-toggleable__label {\n",
       "  cursor: pointer;\n",
       "  display: flex;\n",
       "  width: 100%;\n",
       "  margin-bottom: 0;\n",
       "  padding: 0.5em;\n",
       "  box-sizing: border-box;\n",
       "  text-align: center;\n",
       "  align-items: start;\n",
       "  justify-content: space-between;\n",
       "  gap: 0.5em;\n",
       "}\n",
       "\n",
       "#sk-container-id-2 label.sk-toggleable__label .caption {\n",
       "  font-size: 0.6rem;\n",
       "  font-weight: lighter;\n",
       "  color: var(--sklearn-color-text-muted);\n",
       "}\n",
       "\n",
       "#sk-container-id-2 label.sk-toggleable__label-arrow:before {\n",
       "  /* Arrow on the left of the label */\n",
       "  content: \"▸\";\n",
       "  float: left;\n",
       "  margin-right: 0.25em;\n",
       "  color: var(--sklearn-color-icon);\n",
       "}\n",
       "\n",
       "#sk-container-id-2 label.sk-toggleable__label-arrow:hover:before {\n",
       "  color: var(--sklearn-color-text);\n",
       "}\n",
       "\n",
       "/* Toggleable content - dropdown */\n",
       "\n",
       "#sk-container-id-2 div.sk-toggleable__content {\n",
       "  max-height: 0;\n",
       "  max-width: 0;\n",
       "  overflow: hidden;\n",
       "  text-align: left;\n",
       "  /* unfitted */\n",
       "  background-color: var(--sklearn-color-unfitted-level-0);\n",
       "}\n",
       "\n",
       "#sk-container-id-2 div.sk-toggleable__content.fitted {\n",
       "  /* fitted */\n",
       "  background-color: var(--sklearn-color-fitted-level-0);\n",
       "}\n",
       "\n",
       "#sk-container-id-2 div.sk-toggleable__content pre {\n",
       "  margin: 0.2em;\n",
       "  border-radius: 0.25em;\n",
       "  color: var(--sklearn-color-text);\n",
       "  /* unfitted */\n",
       "  background-color: var(--sklearn-color-unfitted-level-0);\n",
       "}\n",
       "\n",
       "#sk-container-id-2 div.sk-toggleable__content.fitted pre {\n",
       "  /* unfitted */\n",
       "  background-color: var(--sklearn-color-fitted-level-0);\n",
       "}\n",
       "\n",
       "#sk-container-id-2 input.sk-toggleable__control:checked~div.sk-toggleable__content {\n",
       "  /* Expand drop-down */\n",
       "  max-height: 200px;\n",
       "  max-width: 100%;\n",
       "  overflow: auto;\n",
       "}\n",
       "\n",
       "#sk-container-id-2 input.sk-toggleable__control:checked~label.sk-toggleable__label-arrow:before {\n",
       "  content: \"▾\";\n",
       "}\n",
       "\n",
       "/* Pipeline/ColumnTransformer-specific style */\n",
       "\n",
       "#sk-container-id-2 div.sk-label input.sk-toggleable__control:checked~label.sk-toggleable__label {\n",
       "  color: var(--sklearn-color-text);\n",
       "  background-color: var(--sklearn-color-unfitted-level-2);\n",
       "}\n",
       "\n",
       "#sk-container-id-2 div.sk-label.fitted input.sk-toggleable__control:checked~label.sk-toggleable__label {\n",
       "  background-color: var(--sklearn-color-fitted-level-2);\n",
       "}\n",
       "\n",
       "/* Estimator-specific style */\n",
       "\n",
       "/* Colorize estimator box */\n",
       "#sk-container-id-2 div.sk-estimator input.sk-toggleable__control:checked~label.sk-toggleable__label {\n",
       "  /* unfitted */\n",
       "  background-color: var(--sklearn-color-unfitted-level-2);\n",
       "}\n",
       "\n",
       "#sk-container-id-2 div.sk-estimator.fitted input.sk-toggleable__control:checked~label.sk-toggleable__label {\n",
       "  /* fitted */\n",
       "  background-color: var(--sklearn-color-fitted-level-2);\n",
       "}\n",
       "\n",
       "#sk-container-id-2 div.sk-label label.sk-toggleable__label,\n",
       "#sk-container-id-2 div.sk-label label {\n",
       "  /* The background is the default theme color */\n",
       "  color: var(--sklearn-color-text-on-default-background);\n",
       "}\n",
       "\n",
       "/* On hover, darken the color of the background */\n",
       "#sk-container-id-2 div.sk-label:hover label.sk-toggleable__label {\n",
       "  color: var(--sklearn-color-text);\n",
       "  background-color: var(--sklearn-color-unfitted-level-2);\n",
       "}\n",
       "\n",
       "/* Label box, darken color on hover, fitted */\n",
       "#sk-container-id-2 div.sk-label.fitted:hover label.sk-toggleable__label.fitted {\n",
       "  color: var(--sklearn-color-text);\n",
       "  background-color: var(--sklearn-color-fitted-level-2);\n",
       "}\n",
       "\n",
       "/* Estimator label */\n",
       "\n",
       "#sk-container-id-2 div.sk-label label {\n",
       "  font-family: monospace;\n",
       "  font-weight: bold;\n",
       "  display: inline-block;\n",
       "  line-height: 1.2em;\n",
       "}\n",
       "\n",
       "#sk-container-id-2 div.sk-label-container {\n",
       "  text-align: center;\n",
       "}\n",
       "\n",
       "/* Estimator-specific */\n",
       "#sk-container-id-2 div.sk-estimator {\n",
       "  font-family: monospace;\n",
       "  border: 1px dotted var(--sklearn-color-border-box);\n",
       "  border-radius: 0.25em;\n",
       "  box-sizing: border-box;\n",
       "  margin-bottom: 0.5em;\n",
       "  /* unfitted */\n",
       "  background-color: var(--sklearn-color-unfitted-level-0);\n",
       "}\n",
       "\n",
       "#sk-container-id-2 div.sk-estimator.fitted {\n",
       "  /* fitted */\n",
       "  background-color: var(--sklearn-color-fitted-level-0);\n",
       "}\n",
       "\n",
       "/* on hover */\n",
       "#sk-container-id-2 div.sk-estimator:hover {\n",
       "  /* unfitted */\n",
       "  background-color: var(--sklearn-color-unfitted-level-2);\n",
       "}\n",
       "\n",
       "#sk-container-id-2 div.sk-estimator.fitted:hover {\n",
       "  /* fitted */\n",
       "  background-color: var(--sklearn-color-fitted-level-2);\n",
       "}\n",
       "\n",
       "/* Specification for estimator info (e.g. \"i\" and \"?\") */\n",
       "\n",
       "/* Common style for \"i\" and \"?\" */\n",
       "\n",
       ".sk-estimator-doc-link,\n",
       "a:link.sk-estimator-doc-link,\n",
       "a:visited.sk-estimator-doc-link {\n",
       "  float: right;\n",
       "  font-size: smaller;\n",
       "  line-height: 1em;\n",
       "  font-family: monospace;\n",
       "  background-color: var(--sklearn-color-background);\n",
       "  border-radius: 1em;\n",
       "  height: 1em;\n",
       "  width: 1em;\n",
       "  text-decoration: none !important;\n",
       "  margin-left: 0.5em;\n",
       "  text-align: center;\n",
       "  /* unfitted */\n",
       "  border: var(--sklearn-color-unfitted-level-1) 1pt solid;\n",
       "  color: var(--sklearn-color-unfitted-level-1);\n",
       "}\n",
       "\n",
       ".sk-estimator-doc-link.fitted,\n",
       "a:link.sk-estimator-doc-link.fitted,\n",
       "a:visited.sk-estimator-doc-link.fitted {\n",
       "  /* fitted */\n",
       "  border: var(--sklearn-color-fitted-level-1) 1pt solid;\n",
       "  color: var(--sklearn-color-fitted-level-1);\n",
       "}\n",
       "\n",
       "/* On hover */\n",
       "div.sk-estimator:hover .sk-estimator-doc-link:hover,\n",
       ".sk-estimator-doc-link:hover,\n",
       "div.sk-label-container:hover .sk-estimator-doc-link:hover,\n",
       ".sk-estimator-doc-link:hover {\n",
       "  /* unfitted */\n",
       "  background-color: var(--sklearn-color-unfitted-level-3);\n",
       "  color: var(--sklearn-color-background);\n",
       "  text-decoration: none;\n",
       "}\n",
       "\n",
       "div.sk-estimator.fitted:hover .sk-estimator-doc-link.fitted:hover,\n",
       ".sk-estimator-doc-link.fitted:hover,\n",
       "div.sk-label-container:hover .sk-estimator-doc-link.fitted:hover,\n",
       ".sk-estimator-doc-link.fitted:hover {\n",
       "  /* fitted */\n",
       "  background-color: var(--sklearn-color-fitted-level-3);\n",
       "  color: var(--sklearn-color-background);\n",
       "  text-decoration: none;\n",
       "}\n",
       "\n",
       "/* Span, style for the box shown on hovering the info icon */\n",
       ".sk-estimator-doc-link span {\n",
       "  display: none;\n",
       "  z-index: 9999;\n",
       "  position: relative;\n",
       "  font-weight: normal;\n",
       "  right: .2ex;\n",
       "  padding: .5ex;\n",
       "  margin: .5ex;\n",
       "  width: min-content;\n",
       "  min-width: 20ex;\n",
       "  max-width: 50ex;\n",
       "  color: var(--sklearn-color-text);\n",
       "  box-shadow: 2pt 2pt 4pt #999;\n",
       "  /* unfitted */\n",
       "  background: var(--sklearn-color-unfitted-level-0);\n",
       "  border: .5pt solid var(--sklearn-color-unfitted-level-3);\n",
       "}\n",
       "\n",
       ".sk-estimator-doc-link.fitted span {\n",
       "  /* fitted */\n",
       "  background: var(--sklearn-color-fitted-level-0);\n",
       "  border: var(--sklearn-color-fitted-level-3);\n",
       "}\n",
       "\n",
       ".sk-estimator-doc-link:hover span {\n",
       "  display: block;\n",
       "}\n",
       "\n",
       "/* \"?\"-specific style due to the `<a>` HTML tag */\n",
       "\n",
       "#sk-container-id-2 a.estimator_doc_link {\n",
       "  float: right;\n",
       "  font-size: 1rem;\n",
       "  line-height: 1em;\n",
       "  font-family: monospace;\n",
       "  background-color: var(--sklearn-color-background);\n",
       "  border-radius: 1rem;\n",
       "  height: 1rem;\n",
       "  width: 1rem;\n",
       "  text-decoration: none;\n",
       "  /* unfitted */\n",
       "  color: var(--sklearn-color-unfitted-level-1);\n",
       "  border: var(--sklearn-color-unfitted-level-1) 1pt solid;\n",
       "}\n",
       "\n",
       "#sk-container-id-2 a.estimator_doc_link.fitted {\n",
       "  /* fitted */\n",
       "  border: var(--sklearn-color-fitted-level-1) 1pt solid;\n",
       "  color: var(--sklearn-color-fitted-level-1);\n",
       "}\n",
       "\n",
       "/* On hover */\n",
       "#sk-container-id-2 a.estimator_doc_link:hover {\n",
       "  /* unfitted */\n",
       "  background-color: var(--sklearn-color-unfitted-level-3);\n",
       "  color: var(--sklearn-color-background);\n",
       "  text-decoration: none;\n",
       "}\n",
       "\n",
       "#sk-container-id-2 a.estimator_doc_link.fitted:hover {\n",
       "  /* fitted */\n",
       "  background-color: var(--sklearn-color-fitted-level-3);\n",
       "}\n",
       "</style><div id=\"sk-container-id-2\" class=\"sk-top-container\"><div class=\"sk-text-repr-fallback\"><pre>GridSearchCV(cv=5,\n",
       "             estimator=Pipeline(steps=[(&#x27;poly&#x27;,\n",
       "                                        PolynomialFeatures(include_bias=False)),\n",
       "                                       (&#x27;scaler&#x27;, StandardScaler()),\n",
       "                                       (&#x27;lr&#x27;, LinearRegression())]),\n",
       "             n_jobs=-1, param_grid={&#x27;poly__degree&#x27;: [1, 2, 3, 4, 5]},\n",
       "             scoring=&#x27;r2&#x27;)</pre><b>In a Jupyter environment, please rerun this cell to show the HTML representation or trust the notebook. <br />On GitHub, the HTML representation is unable to render, please try loading this page with nbviewer.org.</b></div><div class=\"sk-container\" hidden><div class=\"sk-item sk-dashed-wrapped\"><div class=\"sk-label-container\"><div class=\"sk-label fitted sk-toggleable\"><input class=\"sk-toggleable__control sk-hidden--visually\" id=\"sk-estimator-id-5\" type=\"checkbox\" ><label for=\"sk-estimator-id-5\" class=\"sk-toggleable__label fitted sk-toggleable__label-arrow\"><div><div>GridSearchCV</div></div><div><a class=\"sk-estimator-doc-link fitted\" rel=\"noreferrer\" target=\"_blank\" href=\"https://scikit-learn.org/1.6/modules/generated/sklearn.model_selection.GridSearchCV.html\">?<span>Documentation for GridSearchCV</span></a><span class=\"sk-estimator-doc-link fitted\">i<span>Fitted</span></span></div></label><div class=\"sk-toggleable__content fitted\"><pre>GridSearchCV(cv=5,\n",
       "             estimator=Pipeline(steps=[(&#x27;poly&#x27;,\n",
       "                                        PolynomialFeatures(include_bias=False)),\n",
       "                                       (&#x27;scaler&#x27;, StandardScaler()),\n",
       "                                       (&#x27;lr&#x27;, LinearRegression())]),\n",
       "             n_jobs=-1, param_grid={&#x27;poly__degree&#x27;: [1, 2, 3, 4, 5]},\n",
       "             scoring=&#x27;r2&#x27;)</pre></div> </div></div><div class=\"sk-parallel\"><div class=\"sk-parallel-item\"><div class=\"sk-item\"><div class=\"sk-label-container\"><div class=\"sk-label fitted sk-toggleable\"><input class=\"sk-toggleable__control sk-hidden--visually\" id=\"sk-estimator-id-6\" type=\"checkbox\" ><label for=\"sk-estimator-id-6\" class=\"sk-toggleable__label fitted sk-toggleable__label-arrow\"><div><div>best_estimator_: Pipeline</div></div></label><div class=\"sk-toggleable__content fitted\"><pre>Pipeline(steps=[(&#x27;poly&#x27;, PolynomialFeatures(degree=1, include_bias=False)),\n",
       "                (&#x27;scaler&#x27;, StandardScaler()), (&#x27;lr&#x27;, LinearRegression())])</pre></div> </div></div><div class=\"sk-serial\"><div class=\"sk-item\"><div class=\"sk-serial\"><div class=\"sk-item\"><div class=\"sk-estimator fitted sk-toggleable\"><input class=\"sk-toggleable__control sk-hidden--visually\" id=\"sk-estimator-id-7\" type=\"checkbox\" ><label for=\"sk-estimator-id-7\" class=\"sk-toggleable__label fitted sk-toggleable__label-arrow\"><div><div>PolynomialFeatures</div></div><div><a class=\"sk-estimator-doc-link fitted\" rel=\"noreferrer\" target=\"_blank\" href=\"https://scikit-learn.org/1.6/modules/generated/sklearn.preprocessing.PolynomialFeatures.html\">?<span>Documentation for PolynomialFeatures</span></a></div></label><div class=\"sk-toggleable__content fitted\"><pre>PolynomialFeatures(degree=1, include_bias=False)</pre></div> </div></div><div class=\"sk-item\"><div class=\"sk-estimator fitted sk-toggleable\"><input class=\"sk-toggleable__control sk-hidden--visually\" id=\"sk-estimator-id-8\" type=\"checkbox\" ><label for=\"sk-estimator-id-8\" class=\"sk-toggleable__label fitted sk-toggleable__label-arrow\"><div><div>StandardScaler</div></div><div><a class=\"sk-estimator-doc-link fitted\" rel=\"noreferrer\" target=\"_blank\" href=\"https://scikit-learn.org/1.6/modules/generated/sklearn.preprocessing.StandardScaler.html\">?<span>Documentation for StandardScaler</span></a></div></label><div class=\"sk-toggleable__content fitted\"><pre>StandardScaler()</pre></div> </div></div><div class=\"sk-item\"><div class=\"sk-estimator fitted sk-toggleable\"><input class=\"sk-toggleable__control sk-hidden--visually\" id=\"sk-estimator-id-9\" type=\"checkbox\" ><label for=\"sk-estimator-id-9\" class=\"sk-toggleable__label fitted sk-toggleable__label-arrow\"><div><div>LinearRegression</div></div><div><a class=\"sk-estimator-doc-link fitted\" rel=\"noreferrer\" target=\"_blank\" href=\"https://scikit-learn.org/1.6/modules/generated/sklearn.linear_model.LinearRegression.html\">?<span>Documentation for LinearRegression</span></a></div></label><div class=\"sk-toggleable__content fitted\"><pre>LinearRegression()</pre></div> </div></div></div></div></div></div></div></div></div></div></div>"
      ],
      "text/plain": [
       "GridSearchCV(cv=5,\n",
       "             estimator=Pipeline(steps=[('poly',\n",
       "                                        PolynomialFeatures(include_bias=False)),\n",
       "                                       ('scaler', StandardScaler()),\n",
       "                                       ('lr', LinearRegression())]),\n",
       "             n_jobs=-1, param_grid={'poly__degree': [1, 2, 3, 4, 5]},\n",
       "             scoring='r2')"
      ]
     },
     "execution_count": 27,
     "metadata": {},
     "output_type": "execute_result"
    }
   ],
   "source": [
    "from sklearn.preprocessing import PolynomialFeatures\n",
    "\n",
    "pipeline = Pipeline([\n",
    "    ('poly', PolynomialFeatures(include_bias=False)),\n",
    "    ('scaler', StandardScaler()),\n",
    "    ('lr', LinearRegression())\n",
    "])\n",
    "\n",
    "param_grid = {\n",
    "    'poly__degree': [1,2,3,4,5]\n",
    "}\n",
    "\n",
    "grid = GridSearchCV(\n",
    "    pipeline, param_grid, cv=5, scoring='r2', n_jobs=-1\n",
    ")\n",
    "\n",
    "grid.fit(X_train,y_train)"
   ]
  },
  {
   "cell_type": "code",
   "execution_count": 28,
   "id": "cf604627",
   "metadata": {},
   "outputs": [
    {
     "name": "stdout",
     "output_type": "stream",
     "text": [
      "R2 score:  0.7619894236717223\n",
      "Intercept:  1.0045454545454546\n",
      "Coefficient:  [ 0.01927276 -0.09330182 -0.01608164  0.09052705  0.10374348 -0.05772738\n",
      " -0.04526235  0.01406578  0.08292079 -0.01886884 -0.07398967 -0.08051055\n",
      " -0.07815902  0.05710592  0.08281161  0.0160257  -0.06776027  0.06562305\n",
      "  0.09823088  0.05538597]\n"
     ]
    }
   ],
   "source": [
    "y_pred_poly = grid.predict(X_test)\n",
    "print('R2 score: ', r2_score(y_test, y_pred_poly))\n",
    "best_model = grid.best_estimator_\n",
    "\n",
    "intercept = best_model.named_steps['lr'].intercept_\n",
    "coef = best_model.named_steps['lr'].coef_\n",
    "\n",
    "print('Intercept: ', intercept)\n",
    "print('Coefficient: ', coef)\n"
   ]
  },
  {
   "cell_type": "markdown",
   "id": "4cfdc3ff",
   "metadata": {},
   "source": [
    "# Ridge Regression"
   ]
  },
  {
   "cell_type": "code",
   "execution_count": 34,
   "id": "38b30795",
   "metadata": {},
   "outputs": [
    {
     "name": "stdout",
     "output_type": "stream",
     "text": [
      "Best alpha:  483.2930238571752\n",
      "Best CV score (R2):  0.7686243357086765\n"
     ]
    },
    {
     "data": {
      "text/html": [
       "<style>#sk-container-id-4 {\n",
       "  /* Definition of color scheme common for light and dark mode */\n",
       "  --sklearn-color-text: #000;\n",
       "  --sklearn-color-text-muted: #666;\n",
       "  --sklearn-color-line: gray;\n",
       "  /* Definition of color scheme for unfitted estimators */\n",
       "  --sklearn-color-unfitted-level-0: #fff5e6;\n",
       "  --sklearn-color-unfitted-level-1: #f6e4d2;\n",
       "  --sklearn-color-unfitted-level-2: #ffe0b3;\n",
       "  --sklearn-color-unfitted-level-3: chocolate;\n",
       "  /* Definition of color scheme for fitted estimators */\n",
       "  --sklearn-color-fitted-level-0: #f0f8ff;\n",
       "  --sklearn-color-fitted-level-1: #d4ebff;\n",
       "  --sklearn-color-fitted-level-2: #b3dbfd;\n",
       "  --sklearn-color-fitted-level-3: cornflowerblue;\n",
       "\n",
       "  /* Specific color for light theme */\n",
       "  --sklearn-color-text-on-default-background: var(--sg-text-color, var(--theme-code-foreground, var(--jp-content-font-color1, black)));\n",
       "  --sklearn-color-background: var(--sg-background-color, var(--theme-background, var(--jp-layout-color0, white)));\n",
       "  --sklearn-color-border-box: var(--sg-text-color, var(--theme-code-foreground, var(--jp-content-font-color1, black)));\n",
       "  --sklearn-color-icon: #696969;\n",
       "\n",
       "  @media (prefers-color-scheme: dark) {\n",
       "    /* Redefinition of color scheme for dark theme */\n",
       "    --sklearn-color-text-on-default-background: var(--sg-text-color, var(--theme-code-foreground, var(--jp-content-font-color1, white)));\n",
       "    --sklearn-color-background: var(--sg-background-color, var(--theme-background, var(--jp-layout-color0, #111)));\n",
       "    --sklearn-color-border-box: var(--sg-text-color, var(--theme-code-foreground, var(--jp-content-font-color1, white)));\n",
       "    --sklearn-color-icon: #878787;\n",
       "  }\n",
       "}\n",
       "\n",
       "#sk-container-id-4 {\n",
       "  color: var(--sklearn-color-text);\n",
       "}\n",
       "\n",
       "#sk-container-id-4 pre {\n",
       "  padding: 0;\n",
       "}\n",
       "\n",
       "#sk-container-id-4 input.sk-hidden--visually {\n",
       "  border: 0;\n",
       "  clip: rect(1px 1px 1px 1px);\n",
       "  clip: rect(1px, 1px, 1px, 1px);\n",
       "  height: 1px;\n",
       "  margin: -1px;\n",
       "  overflow: hidden;\n",
       "  padding: 0;\n",
       "  position: absolute;\n",
       "  width: 1px;\n",
       "}\n",
       "\n",
       "#sk-container-id-4 div.sk-dashed-wrapped {\n",
       "  border: 1px dashed var(--sklearn-color-line);\n",
       "  margin: 0 0.4em 0.5em 0.4em;\n",
       "  box-sizing: border-box;\n",
       "  padding-bottom: 0.4em;\n",
       "  background-color: var(--sklearn-color-background);\n",
       "}\n",
       "\n",
       "#sk-container-id-4 div.sk-container {\n",
       "  /* jupyter's `normalize.less` sets `[hidden] { display: none; }`\n",
       "     but bootstrap.min.css set `[hidden] { display: none !important; }`\n",
       "     so we also need the `!important` here to be able to override the\n",
       "     default hidden behavior on the sphinx rendered scikit-learn.org.\n",
       "     See: https://github.com/scikit-learn/scikit-learn/issues/21755 */\n",
       "  display: inline-block !important;\n",
       "  position: relative;\n",
       "}\n",
       "\n",
       "#sk-container-id-4 div.sk-text-repr-fallback {\n",
       "  display: none;\n",
       "}\n",
       "\n",
       "div.sk-parallel-item,\n",
       "div.sk-serial,\n",
       "div.sk-item {\n",
       "  /* draw centered vertical line to link estimators */\n",
       "  background-image: linear-gradient(var(--sklearn-color-text-on-default-background), var(--sklearn-color-text-on-default-background));\n",
       "  background-size: 2px 100%;\n",
       "  background-repeat: no-repeat;\n",
       "  background-position: center center;\n",
       "}\n",
       "\n",
       "/* Parallel-specific style estimator block */\n",
       "\n",
       "#sk-container-id-4 div.sk-parallel-item::after {\n",
       "  content: \"\";\n",
       "  width: 100%;\n",
       "  border-bottom: 2px solid var(--sklearn-color-text-on-default-background);\n",
       "  flex-grow: 1;\n",
       "}\n",
       "\n",
       "#sk-container-id-4 div.sk-parallel {\n",
       "  display: flex;\n",
       "  align-items: stretch;\n",
       "  justify-content: center;\n",
       "  background-color: var(--sklearn-color-background);\n",
       "  position: relative;\n",
       "}\n",
       "\n",
       "#sk-container-id-4 div.sk-parallel-item {\n",
       "  display: flex;\n",
       "  flex-direction: column;\n",
       "}\n",
       "\n",
       "#sk-container-id-4 div.sk-parallel-item:first-child::after {\n",
       "  align-self: flex-end;\n",
       "  width: 50%;\n",
       "}\n",
       "\n",
       "#sk-container-id-4 div.sk-parallel-item:last-child::after {\n",
       "  align-self: flex-start;\n",
       "  width: 50%;\n",
       "}\n",
       "\n",
       "#sk-container-id-4 div.sk-parallel-item:only-child::after {\n",
       "  width: 0;\n",
       "}\n",
       "\n",
       "/* Serial-specific style estimator block */\n",
       "\n",
       "#sk-container-id-4 div.sk-serial {\n",
       "  display: flex;\n",
       "  flex-direction: column;\n",
       "  align-items: center;\n",
       "  background-color: var(--sklearn-color-background);\n",
       "  padding-right: 1em;\n",
       "  padding-left: 1em;\n",
       "}\n",
       "\n",
       "\n",
       "/* Toggleable style: style used for estimator/Pipeline/ColumnTransformer box that is\n",
       "clickable and can be expanded/collapsed.\n",
       "- Pipeline and ColumnTransformer use this feature and define the default style\n",
       "- Estimators will overwrite some part of the style using the `sk-estimator` class\n",
       "*/\n",
       "\n",
       "/* Pipeline and ColumnTransformer style (default) */\n",
       "\n",
       "#sk-container-id-4 div.sk-toggleable {\n",
       "  /* Default theme specific background. It is overwritten whether we have a\n",
       "  specific estimator or a Pipeline/ColumnTransformer */\n",
       "  background-color: var(--sklearn-color-background);\n",
       "}\n",
       "\n",
       "/* Toggleable label */\n",
       "#sk-container-id-4 label.sk-toggleable__label {\n",
       "  cursor: pointer;\n",
       "  display: flex;\n",
       "  width: 100%;\n",
       "  margin-bottom: 0;\n",
       "  padding: 0.5em;\n",
       "  box-sizing: border-box;\n",
       "  text-align: center;\n",
       "  align-items: start;\n",
       "  justify-content: space-between;\n",
       "  gap: 0.5em;\n",
       "}\n",
       "\n",
       "#sk-container-id-4 label.sk-toggleable__label .caption {\n",
       "  font-size: 0.6rem;\n",
       "  font-weight: lighter;\n",
       "  color: var(--sklearn-color-text-muted);\n",
       "}\n",
       "\n",
       "#sk-container-id-4 label.sk-toggleable__label-arrow:before {\n",
       "  /* Arrow on the left of the label */\n",
       "  content: \"▸\";\n",
       "  float: left;\n",
       "  margin-right: 0.25em;\n",
       "  color: var(--sklearn-color-icon);\n",
       "}\n",
       "\n",
       "#sk-container-id-4 label.sk-toggleable__label-arrow:hover:before {\n",
       "  color: var(--sklearn-color-text);\n",
       "}\n",
       "\n",
       "/* Toggleable content - dropdown */\n",
       "\n",
       "#sk-container-id-4 div.sk-toggleable__content {\n",
       "  max-height: 0;\n",
       "  max-width: 0;\n",
       "  overflow: hidden;\n",
       "  text-align: left;\n",
       "  /* unfitted */\n",
       "  background-color: var(--sklearn-color-unfitted-level-0);\n",
       "}\n",
       "\n",
       "#sk-container-id-4 div.sk-toggleable__content.fitted {\n",
       "  /* fitted */\n",
       "  background-color: var(--sklearn-color-fitted-level-0);\n",
       "}\n",
       "\n",
       "#sk-container-id-4 div.sk-toggleable__content pre {\n",
       "  margin: 0.2em;\n",
       "  border-radius: 0.25em;\n",
       "  color: var(--sklearn-color-text);\n",
       "  /* unfitted */\n",
       "  background-color: var(--sklearn-color-unfitted-level-0);\n",
       "}\n",
       "\n",
       "#sk-container-id-4 div.sk-toggleable__content.fitted pre {\n",
       "  /* unfitted */\n",
       "  background-color: var(--sklearn-color-fitted-level-0);\n",
       "}\n",
       "\n",
       "#sk-container-id-4 input.sk-toggleable__control:checked~div.sk-toggleable__content {\n",
       "  /* Expand drop-down */\n",
       "  max-height: 200px;\n",
       "  max-width: 100%;\n",
       "  overflow: auto;\n",
       "}\n",
       "\n",
       "#sk-container-id-4 input.sk-toggleable__control:checked~label.sk-toggleable__label-arrow:before {\n",
       "  content: \"▾\";\n",
       "}\n",
       "\n",
       "/* Pipeline/ColumnTransformer-specific style */\n",
       "\n",
       "#sk-container-id-4 div.sk-label input.sk-toggleable__control:checked~label.sk-toggleable__label {\n",
       "  color: var(--sklearn-color-text);\n",
       "  background-color: var(--sklearn-color-unfitted-level-2);\n",
       "}\n",
       "\n",
       "#sk-container-id-4 div.sk-label.fitted input.sk-toggleable__control:checked~label.sk-toggleable__label {\n",
       "  background-color: var(--sklearn-color-fitted-level-2);\n",
       "}\n",
       "\n",
       "/* Estimator-specific style */\n",
       "\n",
       "/* Colorize estimator box */\n",
       "#sk-container-id-4 div.sk-estimator input.sk-toggleable__control:checked~label.sk-toggleable__label {\n",
       "  /* unfitted */\n",
       "  background-color: var(--sklearn-color-unfitted-level-2);\n",
       "}\n",
       "\n",
       "#sk-container-id-4 div.sk-estimator.fitted input.sk-toggleable__control:checked~label.sk-toggleable__label {\n",
       "  /* fitted */\n",
       "  background-color: var(--sklearn-color-fitted-level-2);\n",
       "}\n",
       "\n",
       "#sk-container-id-4 div.sk-label label.sk-toggleable__label,\n",
       "#sk-container-id-4 div.sk-label label {\n",
       "  /* The background is the default theme color */\n",
       "  color: var(--sklearn-color-text-on-default-background);\n",
       "}\n",
       "\n",
       "/* On hover, darken the color of the background */\n",
       "#sk-container-id-4 div.sk-label:hover label.sk-toggleable__label {\n",
       "  color: var(--sklearn-color-text);\n",
       "  background-color: var(--sklearn-color-unfitted-level-2);\n",
       "}\n",
       "\n",
       "/* Label box, darken color on hover, fitted */\n",
       "#sk-container-id-4 div.sk-label.fitted:hover label.sk-toggleable__label.fitted {\n",
       "  color: var(--sklearn-color-text);\n",
       "  background-color: var(--sklearn-color-fitted-level-2);\n",
       "}\n",
       "\n",
       "/* Estimator label */\n",
       "\n",
       "#sk-container-id-4 div.sk-label label {\n",
       "  font-family: monospace;\n",
       "  font-weight: bold;\n",
       "  display: inline-block;\n",
       "  line-height: 1.2em;\n",
       "}\n",
       "\n",
       "#sk-container-id-4 div.sk-label-container {\n",
       "  text-align: center;\n",
       "}\n",
       "\n",
       "/* Estimator-specific */\n",
       "#sk-container-id-4 div.sk-estimator {\n",
       "  font-family: monospace;\n",
       "  border: 1px dotted var(--sklearn-color-border-box);\n",
       "  border-radius: 0.25em;\n",
       "  box-sizing: border-box;\n",
       "  margin-bottom: 0.5em;\n",
       "  /* unfitted */\n",
       "  background-color: var(--sklearn-color-unfitted-level-0);\n",
       "}\n",
       "\n",
       "#sk-container-id-4 div.sk-estimator.fitted {\n",
       "  /* fitted */\n",
       "  background-color: var(--sklearn-color-fitted-level-0);\n",
       "}\n",
       "\n",
       "/* on hover */\n",
       "#sk-container-id-4 div.sk-estimator:hover {\n",
       "  /* unfitted */\n",
       "  background-color: var(--sklearn-color-unfitted-level-2);\n",
       "}\n",
       "\n",
       "#sk-container-id-4 div.sk-estimator.fitted:hover {\n",
       "  /* fitted */\n",
       "  background-color: var(--sklearn-color-fitted-level-2);\n",
       "}\n",
       "\n",
       "/* Specification for estimator info (e.g. \"i\" and \"?\") */\n",
       "\n",
       "/* Common style for \"i\" and \"?\" */\n",
       "\n",
       ".sk-estimator-doc-link,\n",
       "a:link.sk-estimator-doc-link,\n",
       "a:visited.sk-estimator-doc-link {\n",
       "  float: right;\n",
       "  font-size: smaller;\n",
       "  line-height: 1em;\n",
       "  font-family: monospace;\n",
       "  background-color: var(--sklearn-color-background);\n",
       "  border-radius: 1em;\n",
       "  height: 1em;\n",
       "  width: 1em;\n",
       "  text-decoration: none !important;\n",
       "  margin-left: 0.5em;\n",
       "  text-align: center;\n",
       "  /* unfitted */\n",
       "  border: var(--sklearn-color-unfitted-level-1) 1pt solid;\n",
       "  color: var(--sklearn-color-unfitted-level-1);\n",
       "}\n",
       "\n",
       ".sk-estimator-doc-link.fitted,\n",
       "a:link.sk-estimator-doc-link.fitted,\n",
       "a:visited.sk-estimator-doc-link.fitted {\n",
       "  /* fitted */\n",
       "  border: var(--sklearn-color-fitted-level-1) 1pt solid;\n",
       "  color: var(--sklearn-color-fitted-level-1);\n",
       "}\n",
       "\n",
       "/* On hover */\n",
       "div.sk-estimator:hover .sk-estimator-doc-link:hover,\n",
       ".sk-estimator-doc-link:hover,\n",
       "div.sk-label-container:hover .sk-estimator-doc-link:hover,\n",
       ".sk-estimator-doc-link:hover {\n",
       "  /* unfitted */\n",
       "  background-color: var(--sklearn-color-unfitted-level-3);\n",
       "  color: var(--sklearn-color-background);\n",
       "  text-decoration: none;\n",
       "}\n",
       "\n",
       "div.sk-estimator.fitted:hover .sk-estimator-doc-link.fitted:hover,\n",
       ".sk-estimator-doc-link.fitted:hover,\n",
       "div.sk-label-container:hover .sk-estimator-doc-link.fitted:hover,\n",
       ".sk-estimator-doc-link.fitted:hover {\n",
       "  /* fitted */\n",
       "  background-color: var(--sklearn-color-fitted-level-3);\n",
       "  color: var(--sklearn-color-background);\n",
       "  text-decoration: none;\n",
       "}\n",
       "\n",
       "/* Span, style for the box shown on hovering the info icon */\n",
       ".sk-estimator-doc-link span {\n",
       "  display: none;\n",
       "  z-index: 9999;\n",
       "  position: relative;\n",
       "  font-weight: normal;\n",
       "  right: .2ex;\n",
       "  padding: .5ex;\n",
       "  margin: .5ex;\n",
       "  width: min-content;\n",
       "  min-width: 20ex;\n",
       "  max-width: 50ex;\n",
       "  color: var(--sklearn-color-text);\n",
       "  box-shadow: 2pt 2pt 4pt #999;\n",
       "  /* unfitted */\n",
       "  background: var(--sklearn-color-unfitted-level-0);\n",
       "  border: .5pt solid var(--sklearn-color-unfitted-level-3);\n",
       "}\n",
       "\n",
       ".sk-estimator-doc-link.fitted span {\n",
       "  /* fitted */\n",
       "  background: var(--sklearn-color-fitted-level-0);\n",
       "  border: var(--sklearn-color-fitted-level-3);\n",
       "}\n",
       "\n",
       ".sk-estimator-doc-link:hover span {\n",
       "  display: block;\n",
       "}\n",
       "\n",
       "/* \"?\"-specific style due to the `<a>` HTML tag */\n",
       "\n",
       "#sk-container-id-4 a.estimator_doc_link {\n",
       "  float: right;\n",
       "  font-size: 1rem;\n",
       "  line-height: 1em;\n",
       "  font-family: monospace;\n",
       "  background-color: var(--sklearn-color-background);\n",
       "  border-radius: 1rem;\n",
       "  height: 1rem;\n",
       "  width: 1rem;\n",
       "  text-decoration: none;\n",
       "  /* unfitted */\n",
       "  color: var(--sklearn-color-unfitted-level-1);\n",
       "  border: var(--sklearn-color-unfitted-level-1) 1pt solid;\n",
       "}\n",
       "\n",
       "#sk-container-id-4 a.estimator_doc_link.fitted {\n",
       "  /* fitted */\n",
       "  border: var(--sklearn-color-fitted-level-1) 1pt solid;\n",
       "  color: var(--sklearn-color-fitted-level-1);\n",
       "}\n",
       "\n",
       "/* On hover */\n",
       "#sk-container-id-4 a.estimator_doc_link:hover {\n",
       "  /* unfitted */\n",
       "  background-color: var(--sklearn-color-unfitted-level-3);\n",
       "  color: var(--sklearn-color-background);\n",
       "  text-decoration: none;\n",
       "}\n",
       "\n",
       "#sk-container-id-4 a.estimator_doc_link.fitted:hover {\n",
       "  /* fitted */\n",
       "  background-color: var(--sklearn-color-fitted-level-3);\n",
       "}\n",
       "</style><div id=\"sk-container-id-4\" class=\"sk-top-container\"><div class=\"sk-text-repr-fallback\"><pre>Pipeline(steps=[(&#x27;scaler&#x27;, StandardScaler()),\n",
       "                (&#x27;ridge&#x27;, Ridge(alpha=np.float64(483.2930238571752)))])</pre><b>In a Jupyter environment, please rerun this cell to show the HTML representation or trust the notebook. <br />On GitHub, the HTML representation is unable to render, please try loading this page with nbviewer.org.</b></div><div class=\"sk-container\" hidden><div class=\"sk-item sk-dashed-wrapped\"><div class=\"sk-label-container\"><div class=\"sk-label fitted sk-toggleable\"><input class=\"sk-toggleable__control sk-hidden--visually\" id=\"sk-estimator-id-11\" type=\"checkbox\" ><label for=\"sk-estimator-id-11\" class=\"sk-toggleable__label fitted sk-toggleable__label-arrow\"><div><div>Pipeline</div></div><div><a class=\"sk-estimator-doc-link fitted\" rel=\"noreferrer\" target=\"_blank\" href=\"https://scikit-learn.org/1.6/modules/generated/sklearn.pipeline.Pipeline.html\">?<span>Documentation for Pipeline</span></a><span class=\"sk-estimator-doc-link fitted\">i<span>Fitted</span></span></div></label><div class=\"sk-toggleable__content fitted\"><pre>Pipeline(steps=[(&#x27;scaler&#x27;, StandardScaler()),\n",
       "                (&#x27;ridge&#x27;, Ridge(alpha=np.float64(483.2930238571752)))])</pre></div> </div></div><div class=\"sk-serial\"><div class=\"sk-item\"><div class=\"sk-estimator fitted sk-toggleable\"><input class=\"sk-toggleable__control sk-hidden--visually\" id=\"sk-estimator-id-12\" type=\"checkbox\" ><label for=\"sk-estimator-id-12\" class=\"sk-toggleable__label fitted sk-toggleable__label-arrow\"><div><div>StandardScaler</div></div><div><a class=\"sk-estimator-doc-link fitted\" rel=\"noreferrer\" target=\"_blank\" href=\"https://scikit-learn.org/1.6/modules/generated/sklearn.preprocessing.StandardScaler.html\">?<span>Documentation for StandardScaler</span></a></div></label><div class=\"sk-toggleable__content fitted\"><pre>StandardScaler()</pre></div> </div></div><div class=\"sk-item\"><div class=\"sk-estimator fitted sk-toggleable\"><input class=\"sk-toggleable__control sk-hidden--visually\" id=\"sk-estimator-id-13\" type=\"checkbox\" ><label for=\"sk-estimator-id-13\" class=\"sk-toggleable__label fitted sk-toggleable__label-arrow\"><div><div>Ridge</div></div><div><a class=\"sk-estimator-doc-link fitted\" rel=\"noreferrer\" target=\"_blank\" href=\"https://scikit-learn.org/1.6/modules/generated/sklearn.linear_model.Ridge.html\">?<span>Documentation for Ridge</span></a></div></label><div class=\"sk-toggleable__content fitted\"><pre>Ridge(alpha=np.float64(483.2930238571752))</pre></div> </div></div></div></div></div></div>"
      ],
      "text/plain": [
       "Pipeline(steps=[('scaler', StandardScaler()),\n",
       "                ('ridge', Ridge(alpha=np.float64(483.2930238571752)))])"
      ]
     },
     "execution_count": 34,
     "metadata": {},
     "output_type": "execute_result"
    }
   ],
   "source": [
    "from sklearn.linear_model import Ridge\n",
    "from sklearn.model_selection import GridSearchCV\n",
    "\n",
    "pipeline = Pipeline([\n",
    "    ('scaler', StandardScaler()),\n",
    "    ('ridge', Ridge()),\n",
    "  \n",
    "])\n",
    "\n",
    "param_grid = {\n",
    "    'ridge__alpha': np.logspace(-3,3,20)\n",
    "}\n",
    "\n",
    "grid_search = GridSearchCV(pipeline, param_grid, cv=5, scoring='r2')\n",
    "grid_search.fit(X_train, y_train)\n",
    "\n",
    "print('Best alpha: ', grid_search.best_params_['ridge__alpha'])\n",
    "print('Best CV score (R2): ', grid_search.best_score_)\n",
    "grid_search.best_estimator_\n",
    " "
   ]
  },
  {
   "cell_type": "code",
   "execution_count": 42,
   "id": "16d87496",
   "metadata": {},
   "outputs": [
    {
     "name": "stdout",
     "output_type": "stream",
     "text": [
      "R2 score after using ridge and lasso:  0.7769037513915464\n"
     ]
    }
   ],
   "source": [
    "from sklearn.ensemble import StackingRegressor\n",
    "from sklearn.linear_model import Lasso\n",
    "\n",
    "stack = StackingRegressor(\n",
    "    estimators=[('ridge', Ridge()),('lasso', Lasso())],\n",
    "    final_estimator=LinearRegression()\n",
    ")\n",
    "\n",
    "param_grid = {\n",
    "    'ridge__alpha': np.logspace(-3,3,5),\n",
    "    'lasso__alpha': np.logspace(-3,1,5),\n",
    "}\n",
    "\n",
    "grid = GridSearchCV(\n",
    "    stack, param_grid, cv=5, scoring='r2', n_jobs=-1\n",
    ")\n",
    "grid.fit(X_train, y_train)\n",
    "y_pred_grid = grid.predict(X_test)\n",
    "print('R2 score after using ridge and lasso: ', r2_score(y_test, y_pred_grid))\n"
   ]
  }
 ],
 "metadata": {
  "kernelspec": {
   "display_name": "universal",
   "language": "python",
   "name": "python3"
  },
  "language_info": {
   "codemirror_mode": {
    "name": "ipython",
    "version": 3
   },
   "file_extension": ".py",
   "mimetype": "text/x-python",
   "name": "python",
   "nbconvert_exporter": "python",
   "pygments_lexer": "ipython3",
   "version": "3.9.23"
  }
 },
 "nbformat": 4,
 "nbformat_minor": 5
}
